{
 "cells": [
  {
   "cell_type": "markdown",
   "metadata": {},
   "source": [
    "Чтобы оптимизировать производственные расходы, металлургическому комбинату ООО «Так закаляем сталь» необходимо уменьшить потребление электроэнергии на этапе обработки стали. Необходимо построить модель машинного обучения, которая предскажет температуру стали.     \n",
    "Целевой признак: конечная температура перед разливом в слябы.   \n",
    "Метрика: MAE ≤ 6.8   \n",
    "\n",
    "Описание этапа обработки.   \n",
    "Сталь обрабатывают в металлическом ковше вместимостью около 100 тонн.\n",
    "Чтобы ковш выдерживал высокие температуры, изнутри его облицовывают огнеупорным кирпичом.\n",
    "Расплавленную сталь заливают в ковш и подогревают до нужной температуры графитовыми электродами. Они установлены в крышке ковша.\n",
    "\n",
    "Из сплава выводится сера (десульфурация), добавлением примесей корректируется химический состав и отбираются пробы.\n",
    "Сталь легируют — изменяют её состав — подавая куски сплава из бункера для сыпучих материалов или проволоку через специальный трайб-аппарат (англ. tribe, «масса»).\n",
    "Перед тем как первый раз ввести легирующие добавки, измеряют температуру стали и производят её химический анализ.\n",
    "Потом температуру на несколько минут повышают, добавляют легирующие материалы и продувают сплав инертным газом.\n",
    "Затем его перемешивают и снова проводят измерения.\n",
    "Такой цикл повторяется до достижения целевого химического состава и оптимальной температуры плавки.\n",
    "Тогда расплавленная сталь отправляется на доводку металла или поступает в машину непрерывной разливки.\n",
    "Оттуда готовый продукт выходит в виде заготовок-слябов (англ. slab, «плита»).\n",
    "\n",
    "Описание данных\n",
    "Данные состоят из файлов, полученных из разных источников:   \n",
    "arc.csv — данные об электродах;    \n",
    "bulk.csv — данные о подаче сыпучих материалов (объём);   \n",
    "bulk_time.csv — данные о подаче сыпучих материалов (время);   \n",
    "gas.csv — данные о продувке сплава газом;   \n",
    "temp.csv — результаты измерения температуры;   \n",
    "wire.csv — данные о проволочных материалах (объём);      \n",
    "wire_time.csv — данные о проволочных материалах (время).    \n",
    "Во всех файлах столбец key содержит номер партии.    \n",
    "В файлах может быть несколько строк с одинаковым значением key:   \n",
    "они соответствуют разным итерациям обработки.    \n",
    "\n"
   ]
  },
  {
   "cell_type": "markdown",
   "metadata": {},
   "source": [
    "## Изучение данных"
   ]
  },
  {
   "cell_type": "code",
   "execution_count": 1,
   "metadata": {},
   "outputs": [],
   "source": [
    "import pandas as pd\n",
    "import numpy as np\n",
    "import matplotlib.pyplot as plt\n",
    "import seaborn as sns\n",
    "import plotly.graph_objects as go\n",
    "from plotly.subplots import make_subplots\n",
    "from sklearn.model_selection import train_test_split\n",
    "from sklearn.linear_model import LinearRegression\n",
    "from sklearn.model_selection import GridSearchCV\n",
    "from sklearn.metrics import mean_absolute_error\n",
    "from sklearn.ensemble import RandomForestRegressor\n",
    "from catboost import CatBoostRegressor\n",
    "from sklearn.preprocessing import StandardScaler"
   ]
  },
  {
   "cell_type": "markdown",
   "metadata": {},
   "source": [
    "**данные об электродах**"
   ]
  },
  {
   "cell_type": "code",
   "execution_count": 2,
   "metadata": {},
   "outputs": [],
   "source": [
    "try:\n",
    "    data_arc = pd.read_csv('arc_new.csv')\n",
    "except:\n",
    "    print('unable to open the file arc')"
   ]
  },
  {
   "cell_type": "code",
   "execution_count": 3,
   "metadata": {},
   "outputs": [
    {
     "data": {
      "text/html": [
       "<div>\n",
       "<style scoped>\n",
       "    .dataframe tbody tr th:only-of-type {\n",
       "        vertical-align: middle;\n",
       "    }\n",
       "\n",
       "    .dataframe tbody tr th {\n",
       "        vertical-align: top;\n",
       "    }\n",
       "\n",
       "    .dataframe thead th {\n",
       "        text-align: right;\n",
       "    }\n",
       "</style>\n",
       "<table border=\"1\" class=\"dataframe\">\n",
       "  <thead>\n",
       "    <tr style=\"text-align: right;\">\n",
       "      <th></th>\n",
       "      <th>key</th>\n",
       "      <th>Начало нагрева дугой</th>\n",
       "      <th>Конец нагрева дугой</th>\n",
       "      <th>Активная мощность</th>\n",
       "      <th>Реактивная мощность</th>\n",
       "    </tr>\n",
       "  </thead>\n",
       "  <tbody>\n",
       "    <tr>\n",
       "      <th>0</th>\n",
       "      <td>1</td>\n",
       "      <td>2019-05-03 11:02:14</td>\n",
       "      <td>2019-05-03 11:06:02</td>\n",
       "      <td>0.305130</td>\n",
       "      <td>0.211253</td>\n",
       "    </tr>\n",
       "    <tr>\n",
       "      <th>1</th>\n",
       "      <td>1</td>\n",
       "      <td>2019-05-03 11:07:28</td>\n",
       "      <td>2019-05-03 11:10:33</td>\n",
       "      <td>0.765658</td>\n",
       "      <td>0.477438</td>\n",
       "    </tr>\n",
       "    <tr>\n",
       "      <th>2</th>\n",
       "      <td>1</td>\n",
       "      <td>2019-05-03 11:11:44</td>\n",
       "      <td>2019-05-03 11:14:36</td>\n",
       "      <td>0.580313</td>\n",
       "      <td>0.430460</td>\n",
       "    </tr>\n",
       "    <tr>\n",
       "      <th>3</th>\n",
       "      <td>1</td>\n",
       "      <td>2019-05-03 11:18:14</td>\n",
       "      <td>2019-05-03 11:24:19</td>\n",
       "      <td>0.518496</td>\n",
       "      <td>0.379979</td>\n",
       "    </tr>\n",
       "    <tr>\n",
       "      <th>4</th>\n",
       "      <td>1</td>\n",
       "      <td>2019-05-03 11:26:09</td>\n",
       "      <td>2019-05-03 11:28:37</td>\n",
       "      <td>0.867133</td>\n",
       "      <td>0.643691</td>\n",
       "    </tr>\n",
       "  </tbody>\n",
       "</table>\n",
       "</div>"
      ],
      "text/plain": [
       "   key Начало нагрева дугой  Конец нагрева дугой  Активная мощность  \\\n",
       "0    1  2019-05-03 11:02:14  2019-05-03 11:06:02           0.305130   \n",
       "1    1  2019-05-03 11:07:28  2019-05-03 11:10:33           0.765658   \n",
       "2    1  2019-05-03 11:11:44  2019-05-03 11:14:36           0.580313   \n",
       "3    1  2019-05-03 11:18:14  2019-05-03 11:24:19           0.518496   \n",
       "4    1  2019-05-03 11:26:09  2019-05-03 11:28:37           0.867133   \n",
       "\n",
       "   Реактивная мощность  \n",
       "0             0.211253  \n",
       "1             0.477438  \n",
       "2             0.430460  \n",
       "3             0.379979  \n",
       "4             0.643691  "
      ]
     },
     "execution_count": 3,
     "metadata": {},
     "output_type": "execute_result"
    }
   ],
   "source": [
    "data_arc.head()"
   ]
  },
  {
   "cell_type": "markdown",
   "metadata": {},
   "source": [
    "Значение key у нас повторяется, что говорит о разных итерациях обработки для достижения целевого химического состава и оптимальной температуры плавления."
   ]
  },
  {
   "cell_type": "code",
   "execution_count": 4,
   "metadata": {},
   "outputs": [
    {
     "name": "stdout",
     "output_type": "stream",
     "text": [
      "<class 'pandas.core.frame.DataFrame'>\n",
      "RangeIndex: 14876 entries, 0 to 14875\n",
      "Data columns (total 5 columns):\n",
      " #   Column                Non-Null Count  Dtype  \n",
      "---  ------                --------------  -----  \n",
      " 0   key                   14876 non-null  int64  \n",
      " 1   Начало нагрева дугой  14876 non-null  object \n",
      " 2   Конец нагрева дугой   14876 non-null  object \n",
      " 3   Активная мощность     14876 non-null  float64\n",
      " 4   Реактивная мощность   14876 non-null  float64\n",
      "dtypes: float64(2), int64(1), object(2)\n",
      "memory usage: 581.2+ KB\n"
     ]
    }
   ],
   "source": [
    "data_arc.info()"
   ]
  },
  {
   "cell_type": "markdown",
   "metadata": {},
   "source": [
    "Время начала и конца нагрева object, стоит перевести его в datetime"
   ]
  },
  {
   "cell_type": "code",
   "execution_count": 5,
   "metadata": {},
   "outputs": [
    {
     "data": {
      "text/plain": [
       "0"
      ]
     },
     "execution_count": 5,
     "metadata": {},
     "output_type": "execute_result"
    }
   ],
   "source": [
    "data_arc.duplicated().sum()"
   ]
  },
  {
   "cell_type": "code",
   "execution_count": 6,
   "metadata": {},
   "outputs": [
    {
     "data": {
      "text/plain": [
       "key                     0\n",
       "Начало нагрева дугой    0\n",
       "Конец нагрева дугой     0\n",
       "Активная мощность       0\n",
       "Реактивная мощность     0\n",
       "dtype: int64"
      ]
     },
     "execution_count": 6,
     "metadata": {},
     "output_type": "execute_result"
    }
   ],
   "source": [
    "data_arc.isna().sum()"
   ]
  },
  {
   "cell_type": "markdown",
   "metadata": {},
   "source": [
    "Дубликаты и пропуски отсутствуют"
   ]
  },
  {
   "cell_type": "code",
   "execution_count": 7,
   "metadata": {},
   "outputs": [
    {
     "data": {
      "text/html": [
       "<div>\n",
       "<style scoped>\n",
       "    .dataframe tbody tr th:only-of-type {\n",
       "        vertical-align: middle;\n",
       "    }\n",
       "\n",
       "    .dataframe tbody tr th {\n",
       "        vertical-align: top;\n",
       "    }\n",
       "\n",
       "    .dataframe thead th {\n",
       "        text-align: right;\n",
       "    }\n",
       "</style>\n",
       "<table border=\"1\" class=\"dataframe\">\n",
       "  <thead>\n",
       "    <tr style=\"text-align: right;\">\n",
       "      <th></th>\n",
       "      <th>key</th>\n",
       "      <th>Активная мощность</th>\n",
       "      <th>Реактивная мощность</th>\n",
       "    </tr>\n",
       "  </thead>\n",
       "  <tbody>\n",
       "    <tr>\n",
       "      <th>count</th>\n",
       "      <td>14876.000000</td>\n",
       "      <td>14876.000000</td>\n",
       "      <td>14876.000000</td>\n",
       "    </tr>\n",
       "    <tr>\n",
       "      <th>mean</th>\n",
       "      <td>1615.220422</td>\n",
       "      <td>0.662752</td>\n",
       "      <td>0.438986</td>\n",
       "    </tr>\n",
       "    <tr>\n",
       "      <th>std</th>\n",
       "      <td>934.571502</td>\n",
       "      <td>0.258885</td>\n",
       "      <td>5.873485</td>\n",
       "    </tr>\n",
       "    <tr>\n",
       "      <th>min</th>\n",
       "      <td>1.000000</td>\n",
       "      <td>0.223120</td>\n",
       "      <td>-715.479924</td>\n",
       "    </tr>\n",
       "    <tr>\n",
       "      <th>25%</th>\n",
       "      <td>806.000000</td>\n",
       "      <td>0.467115</td>\n",
       "      <td>0.337175</td>\n",
       "    </tr>\n",
       "    <tr>\n",
       "      <th>50%</th>\n",
       "      <td>1617.000000</td>\n",
       "      <td>0.599587</td>\n",
       "      <td>0.441639</td>\n",
       "    </tr>\n",
       "    <tr>\n",
       "      <th>75%</th>\n",
       "      <td>2429.000000</td>\n",
       "      <td>0.830070</td>\n",
       "      <td>0.608201</td>\n",
       "    </tr>\n",
       "    <tr>\n",
       "      <th>max</th>\n",
       "      <td>3241.000000</td>\n",
       "      <td>1.463773</td>\n",
       "      <td>1.270284</td>\n",
       "    </tr>\n",
       "  </tbody>\n",
       "</table>\n",
       "</div>"
      ],
      "text/plain": [
       "                key  Активная мощность  Реактивная мощность\n",
       "count  14876.000000       14876.000000         14876.000000\n",
       "mean    1615.220422           0.662752             0.438986\n",
       "std      934.571502           0.258885             5.873485\n",
       "min        1.000000           0.223120          -715.479924\n",
       "25%      806.000000           0.467115             0.337175\n",
       "50%     1617.000000           0.599587             0.441639\n",
       "75%     2429.000000           0.830070             0.608201\n",
       "max     3241.000000           1.463773             1.270284"
      ]
     },
     "execution_count": 7,
     "metadata": {},
     "output_type": "execute_result"
    }
   ],
   "source": [
    "data_arc.describe()"
   ]
  },
  {
   "cell_type": "markdown",
   "metadata": {},
   "source": [
    "У реактивной мощности минимальное значение -715. Похоже на выброс. Надо почистить"
   ]
  },
  {
   "cell_type": "code",
   "execution_count": 8,
   "metadata": {},
   "outputs": [
    {
     "data": {
      "text/plain": [
       "count    14875.000000\n",
       "mean         0.487115\n",
       "std          0.197612\n",
       "min          0.153777\n",
       "25%          0.337190\n",
       "50%          0.441665\n",
       "75%          0.608223\n",
       "max          1.270284\n",
       "Name: Реактивная мощность, dtype: float64"
      ]
     },
     "execution_count": 8,
     "metadata": {},
     "output_type": "execute_result"
    }
   ],
   "source": [
    "data_arc = data_arc[data_arc['Реактивная мощность'] > 0]\n",
    "data_arc['Реактивная мощность'].describe()"
   ]
  },
  {
   "cell_type": "markdown",
   "metadata": {},
   "source": [
    "Полная мощность складывается из активной мощности, совершающей полезную работу и реактивной мощности, расходуемой на создание магнитных полей. Активная энергия в нашем случае преобразуется в тепловую, а реактивная с выполнением полезной работы не связана, но необходима для создания электромагниного поля. Посмотрим на гистограммы активной и реактивной мощности."
   ]
  },
  {
   "cell_type": "code",
   "execution_count": 9,
   "metadata": {},
   "outputs": [
    {
     "data": {
      "image/png": "[encoded data removed]",
      "text/plain": [
       "<Figure size 864x504 with 2 Axes>"
      ]
     },
     "metadata": {
      "needs_background": "light"
     },
     "output_type": "display_data"
    }
   ],
   "source": [
    "data_arc[['Активная мощность', 'Реактивная мощность']].hist(figsize=(12,7), grid=False, bins=80)\n",
    "plt.show()"
   ]
  },
  {
   "cell_type": "markdown",
   "metadata": {},
   "source": [
    "Распределение близко к нормальному, но справа есть хвостик"
   ]
  },
  {
   "cell_type": "markdown",
   "metadata": {},
   "source": [
    "Посмотрю на корреляцию активной и реактивной мощности"
   ]
  },
  {
   "cell_type": "code",
   "execution_count": 10,
   "metadata": {},
   "outputs": [
    {
     "data": {
      "text/plain": [
       "0.9663734456187295"
      ]
     },
     "execution_count": 10,
     "metadata": {},
     "output_type": "execute_result"
    }
   ],
   "source": [
    "data_arc['Активная мощность'].corr(data_arc['Реактивная мощность'])"
   ]
  },
  {
   "cell_type": "markdown",
   "metadata": {},
   "source": [
    "При таком высоком значении корреляции наша модель переобучится. Попробуем использовать для обучения полную мощность."
   ]
  },
  {
   "cell_type": "markdown",
   "metadata": {},
   "source": [
    "Думаю, нам нужен период между началом и концом нагрева в секундах"
   ]
  },
  {
   "cell_type": "markdown",
   "metadata": {},
   "source": [
    "**данные о подаче сыпучих материалов (объём)**"
   ]
  },
  {
   "cell_type": "code",
   "execution_count": 11,
   "metadata": {},
   "outputs": [],
   "source": [
    "try:\n",
    "    data_bulk_v = pd.read_csv('bulk_new.csv')\n",
    "except:\n",
    "    print('unable to open the file bulk')"
   ]
  },
  {
   "cell_type": "code",
   "execution_count": 12,
   "metadata": {},
   "outputs": [
    {
     "data": {
      "text/html": [
       "<div>\n",
       "<style scoped>\n",
       "    .dataframe tbody tr th:only-of-type {\n",
       "        vertical-align: middle;\n",
       "    }\n",
       "\n",
       "    .dataframe tbody tr th {\n",
       "        vertical-align: top;\n",
       "    }\n",
       "\n",
       "    .dataframe thead th {\n",
       "        text-align: right;\n",
       "    }\n",
       "</style>\n",
       "<table border=\"1\" class=\"dataframe\">\n",
       "  <thead>\n",
       "    <tr style=\"text-align: right;\">\n",
       "      <th></th>\n",
       "      <th>key</th>\n",
       "      <th>Bulk 1</th>\n",
       "      <th>Bulk 2</th>\n",
       "      <th>Bulk 3</th>\n",
       "      <th>Bulk 4</th>\n",
       "      <th>Bulk 5</th>\n",
       "      <th>Bulk 6</th>\n",
       "      <th>Bulk 7</th>\n",
       "      <th>Bulk 8</th>\n",
       "      <th>Bulk 9</th>\n",
       "      <th>Bulk 10</th>\n",
       "      <th>Bulk 11</th>\n",
       "      <th>Bulk 12</th>\n",
       "      <th>Bulk 13</th>\n",
       "      <th>Bulk 14</th>\n",
       "      <th>Bulk 15</th>\n",
       "    </tr>\n",
       "  </thead>\n",
       "  <tbody>\n",
       "    <tr>\n",
       "      <th>0</th>\n",
       "      <td>1</td>\n",
       "      <td>NaN</td>\n",
       "      <td>NaN</td>\n",
       "      <td>NaN</td>\n",
       "      <td>43.0</td>\n",
       "      <td>NaN</td>\n",
       "      <td>NaN</td>\n",
       "      <td>NaN</td>\n",
       "      <td>NaN</td>\n",
       "      <td>NaN</td>\n",
       "      <td>NaN</td>\n",
       "      <td>NaN</td>\n",
       "      <td>206.0</td>\n",
       "      <td>NaN</td>\n",
       "      <td>150.0</td>\n",
       "      <td>154.0</td>\n",
       "    </tr>\n",
       "    <tr>\n",
       "      <th>1</th>\n",
       "      <td>2</td>\n",
       "      <td>NaN</td>\n",
       "      <td>NaN</td>\n",
       "      <td>NaN</td>\n",
       "      <td>73.0</td>\n",
       "      <td>NaN</td>\n",
       "      <td>NaN</td>\n",
       "      <td>NaN</td>\n",
       "      <td>NaN</td>\n",
       "      <td>NaN</td>\n",
       "      <td>NaN</td>\n",
       "      <td>NaN</td>\n",
       "      <td>206.0</td>\n",
       "      <td>NaN</td>\n",
       "      <td>149.0</td>\n",
       "      <td>154.0</td>\n",
       "    </tr>\n",
       "    <tr>\n",
       "      <th>2</th>\n",
       "      <td>3</td>\n",
       "      <td>NaN</td>\n",
       "      <td>NaN</td>\n",
       "      <td>NaN</td>\n",
       "      <td>34.0</td>\n",
       "      <td>NaN</td>\n",
       "      <td>NaN</td>\n",
       "      <td>NaN</td>\n",
       "      <td>NaN</td>\n",
       "      <td>NaN</td>\n",
       "      <td>NaN</td>\n",
       "      <td>NaN</td>\n",
       "      <td>205.0</td>\n",
       "      <td>NaN</td>\n",
       "      <td>152.0</td>\n",
       "      <td>153.0</td>\n",
       "    </tr>\n",
       "    <tr>\n",
       "      <th>3</th>\n",
       "      <td>4</td>\n",
       "      <td>NaN</td>\n",
       "      <td>NaN</td>\n",
       "      <td>NaN</td>\n",
       "      <td>81.0</td>\n",
       "      <td>NaN</td>\n",
       "      <td>NaN</td>\n",
       "      <td>NaN</td>\n",
       "      <td>NaN</td>\n",
       "      <td>NaN</td>\n",
       "      <td>NaN</td>\n",
       "      <td>NaN</td>\n",
       "      <td>207.0</td>\n",
       "      <td>NaN</td>\n",
       "      <td>153.0</td>\n",
       "      <td>154.0</td>\n",
       "    </tr>\n",
       "    <tr>\n",
       "      <th>4</th>\n",
       "      <td>5</td>\n",
       "      <td>NaN</td>\n",
       "      <td>NaN</td>\n",
       "      <td>NaN</td>\n",
       "      <td>78.0</td>\n",
       "      <td>NaN</td>\n",
       "      <td>NaN</td>\n",
       "      <td>NaN</td>\n",
       "      <td>NaN</td>\n",
       "      <td>NaN</td>\n",
       "      <td>NaN</td>\n",
       "      <td>NaN</td>\n",
       "      <td>203.0</td>\n",
       "      <td>NaN</td>\n",
       "      <td>151.0</td>\n",
       "      <td>152.0</td>\n",
       "    </tr>\n",
       "  </tbody>\n",
       "</table>\n",
       "</div>"
      ],
      "text/plain": [
       "   key  Bulk 1  Bulk 2  Bulk 3  Bulk 4  Bulk 5  Bulk 6  Bulk 7  Bulk 8  \\\n",
       "0    1     NaN     NaN     NaN    43.0     NaN     NaN     NaN     NaN   \n",
       "1    2     NaN     NaN     NaN    73.0     NaN     NaN     NaN     NaN   \n",
       "2    3     NaN     NaN     NaN    34.0     NaN     NaN     NaN     NaN   \n",
       "3    4     NaN     NaN     NaN    81.0     NaN     NaN     NaN     NaN   \n",
       "4    5     NaN     NaN     NaN    78.0     NaN     NaN     NaN     NaN   \n",
       "\n",
       "   Bulk 9  Bulk 10  Bulk 11  Bulk 12  Bulk 13  Bulk 14  Bulk 15  \n",
       "0     NaN      NaN      NaN    206.0      NaN    150.0    154.0  \n",
       "1     NaN      NaN      NaN    206.0      NaN    149.0    154.0  \n",
       "2     NaN      NaN      NaN    205.0      NaN    152.0    153.0  \n",
       "3     NaN      NaN      NaN    207.0      NaN    153.0    154.0  \n",
       "4     NaN      NaN      NaN    203.0      NaN    151.0    152.0  "
      ]
     },
     "execution_count": 12,
     "metadata": {},
     "output_type": "execute_result"
    }
   ],
   "source": [
    "data_bulk_v.head()"
   ]
  },
  {
   "cell_type": "code",
   "execution_count": 13,
   "metadata": {},
   "outputs": [
    {
     "name": "stdout",
     "output_type": "stream",
     "text": [
      "<class 'pandas.core.frame.DataFrame'>\n",
      "RangeIndex: 3129 entries, 0 to 3128\n",
      "Data columns (total 16 columns):\n",
      " #   Column   Non-Null Count  Dtype  \n",
      "---  ------   --------------  -----  \n",
      " 0   key      3129 non-null   int64  \n",
      " 1   Bulk 1   252 non-null    float64\n",
      " 2   Bulk 2   22 non-null     float64\n",
      " 3   Bulk 3   1298 non-null   float64\n",
      " 4   Bulk 4   1014 non-null   float64\n",
      " 5   Bulk 5   77 non-null     float64\n",
      " 6   Bulk 6   576 non-null    float64\n",
      " 7   Bulk 7   25 non-null     float64\n",
      " 8   Bulk 8   1 non-null      float64\n",
      " 9   Bulk 9   19 non-null     float64\n",
      " 10  Bulk 10  176 non-null    float64\n",
      " 11  Bulk 11  177 non-null    float64\n",
      " 12  Bulk 12  2450 non-null   float64\n",
      " 13  Bulk 13  18 non-null     float64\n",
      " 14  Bulk 14  2806 non-null   float64\n",
      " 15  Bulk 15  2248 non-null   float64\n",
      "dtypes: float64(15), int64(1)\n",
      "memory usage: 391.2 KB\n"
     ]
    }
   ],
   "source": [
    "data_bulk_v.info()"
   ]
  },
  {
   "cell_type": "code",
   "execution_count": 14,
   "metadata": {},
   "outputs": [
    {
     "data": {
      "text/plain": [
       "0"
      ]
     },
     "execution_count": 14,
     "metadata": {},
     "output_type": "execute_result"
    }
   ],
   "source": [
    "data_bulk_v.duplicated().sum()"
   ]
  },
  {
   "cell_type": "code",
   "execution_count": 15,
   "metadata": {},
   "outputs": [
    {
     "data": {
      "text/plain": [
       "key           0\n",
       "Bulk 1     2877\n",
       "Bulk 2     3107\n",
       "Bulk 3     1831\n",
       "Bulk 4     2115\n",
       "Bulk 5     3052\n",
       "Bulk 6     2553\n",
       "Bulk 7     3104\n",
       "Bulk 8     3128\n",
       "Bulk 9     3110\n",
       "Bulk 10    2953\n",
       "Bulk 11    2952\n",
       "Bulk 12     679\n",
       "Bulk 13    3111\n",
       "Bulk 14     323\n",
       "Bulk 15     881\n",
       "dtype: int64"
      ]
     },
     "execution_count": 15,
     "metadata": {},
     "output_type": "execute_result"
    }
   ],
   "source": [
    "data_bulk_v.isna().sum()"
   ]
  },
  {
   "cell_type": "markdown",
   "metadata": {},
   "source": [
    "Очевидно что сыпучие материалы добавляют не всегда. Фактически во всех столбцах, кроме Bulk12, Bulk14 и Bulk15 сыпучие материалы добавляют реже, чем в половине случаев. Думаю, надо оставить только столбцы 12, 14 и 15, заполнить пропуски нулями и перевести тип данных в int. Посмотрим на распределение сыпучих материалов."
   ]
  },
  {
   "cell_type": "code",
   "execution_count": 16,
   "metadata": {},
   "outputs": [
    {
     "data": {
      "image/png": "[encoded data removed]",
      "text/plain": [
       "<Figure size 1080x1080 with 16 Axes>"
      ]
     },
     "metadata": {
      "needs_background": "light"
     },
     "output_type": "display_data"
    }
   ],
   "source": [
    "data_bulk_v.hist(figsize=(15,15), grid=False, bins=50)\n",
    "plt.show()"
   ]
  },
  {
   "cell_type": "markdown",
   "metadata": {},
   "source": [
    " Более-менее похожее на нормальное распределение у 3, 4, 5, 6, 10 Bulk-ов. Остальные выглядят скорее как дискретные пики."
   ]
  },
  {
   "cell_type": "markdown",
   "metadata": {},
   "source": [
    "***данные о подаче сыпучих материалов (время)***"
   ]
  },
  {
   "cell_type": "code",
   "execution_count": 17,
   "metadata": {},
   "outputs": [],
   "source": [
    "try:\n",
    "    data_bulk_time = pd.read_csv('bulk_time_new.csv')\n",
    "except:\n",
    "    print('unable to open the file bulk_time')"
   ]
  },
  {
   "cell_type": "code",
   "execution_count": 18,
   "metadata": {},
   "outputs": [
    {
     "data": {
      "text/html": [
       "<div>\n",
       "<style scoped>\n",
       "    .dataframe tbody tr th:only-of-type {\n",
       "        vertical-align: middle;\n",
       "    }\n",
       "\n",
       "    .dataframe tbody tr th {\n",
       "        vertical-align: top;\n",
       "    }\n",
       "\n",
       "    .dataframe thead th {\n",
       "        text-align: right;\n",
       "    }\n",
       "</style>\n",
       "<table border=\"1\" class=\"dataframe\">\n",
       "  <thead>\n",
       "    <tr style=\"text-align: right;\">\n",
       "      <th></th>\n",
       "      <th>key</th>\n",
       "      <th>Bulk 1</th>\n",
       "      <th>Bulk 2</th>\n",
       "      <th>Bulk 3</th>\n",
       "      <th>Bulk 4</th>\n",
       "      <th>Bulk 5</th>\n",
       "      <th>Bulk 6</th>\n",
       "      <th>Bulk 7</th>\n",
       "      <th>Bulk 8</th>\n",
       "      <th>Bulk 9</th>\n",
       "      <th>Bulk 10</th>\n",
       "      <th>Bulk 11</th>\n",
       "      <th>Bulk 12</th>\n",
       "      <th>Bulk 13</th>\n",
       "      <th>Bulk 14</th>\n",
       "      <th>Bulk 15</th>\n",
       "    </tr>\n",
       "  </thead>\n",
       "  <tbody>\n",
       "    <tr>\n",
       "      <th>0</th>\n",
       "      <td>1</td>\n",
       "      <td>NaN</td>\n",
       "      <td>NaN</td>\n",
       "      <td>NaN</td>\n",
       "      <td>2019-05-03 11:28:48</td>\n",
       "      <td>NaN</td>\n",
       "      <td>NaN</td>\n",
       "      <td>NaN</td>\n",
       "      <td>NaN</td>\n",
       "      <td>NaN</td>\n",
       "      <td>NaN</td>\n",
       "      <td>NaN</td>\n",
       "      <td>2019-05-03 11:24:31</td>\n",
       "      <td>NaN</td>\n",
       "      <td>2019-05-03 11:14:50</td>\n",
       "      <td>2019-05-03 11:10:43</td>\n",
       "    </tr>\n",
       "    <tr>\n",
       "      <th>1</th>\n",
       "      <td>2</td>\n",
       "      <td>NaN</td>\n",
       "      <td>NaN</td>\n",
       "      <td>NaN</td>\n",
       "      <td>2019-05-03 11:36:50</td>\n",
       "      <td>NaN</td>\n",
       "      <td>NaN</td>\n",
       "      <td>NaN</td>\n",
       "      <td>NaN</td>\n",
       "      <td>NaN</td>\n",
       "      <td>NaN</td>\n",
       "      <td>NaN</td>\n",
       "      <td>2019-05-03 11:53:30</td>\n",
       "      <td>NaN</td>\n",
       "      <td>2019-05-03 11:48:37</td>\n",
       "      <td>2019-05-03 11:44:39</td>\n",
       "    </tr>\n",
       "    <tr>\n",
       "      <th>2</th>\n",
       "      <td>3</td>\n",
       "      <td>NaN</td>\n",
       "      <td>NaN</td>\n",
       "      <td>NaN</td>\n",
       "      <td>2019-05-03 12:32:39</td>\n",
       "      <td>NaN</td>\n",
       "      <td>NaN</td>\n",
       "      <td>NaN</td>\n",
       "      <td>NaN</td>\n",
       "      <td>NaN</td>\n",
       "      <td>NaN</td>\n",
       "      <td>NaN</td>\n",
       "      <td>2019-05-03 12:27:13</td>\n",
       "      <td>NaN</td>\n",
       "      <td>2019-05-03 12:21:01</td>\n",
       "      <td>2019-05-03 12:16:16</td>\n",
       "    </tr>\n",
       "    <tr>\n",
       "      <th>3</th>\n",
       "      <td>4</td>\n",
       "      <td>NaN</td>\n",
       "      <td>NaN</td>\n",
       "      <td>NaN</td>\n",
       "      <td>2019-05-03 12:43:22</td>\n",
       "      <td>NaN</td>\n",
       "      <td>NaN</td>\n",
       "      <td>NaN</td>\n",
       "      <td>NaN</td>\n",
       "      <td>NaN</td>\n",
       "      <td>NaN</td>\n",
       "      <td>NaN</td>\n",
       "      <td>2019-05-03 12:58:00</td>\n",
       "      <td>NaN</td>\n",
       "      <td>2019-05-03 12:51:11</td>\n",
       "      <td>2019-05-03 12:46:36</td>\n",
       "    </tr>\n",
       "    <tr>\n",
       "      <th>4</th>\n",
       "      <td>5</td>\n",
       "      <td>NaN</td>\n",
       "      <td>NaN</td>\n",
       "      <td>NaN</td>\n",
       "      <td>2019-05-03 13:30:47</td>\n",
       "      <td>NaN</td>\n",
       "      <td>NaN</td>\n",
       "      <td>NaN</td>\n",
       "      <td>NaN</td>\n",
       "      <td>NaN</td>\n",
       "      <td>NaN</td>\n",
       "      <td>NaN</td>\n",
       "      <td>2019-05-03 13:30:47</td>\n",
       "      <td>NaN</td>\n",
       "      <td>2019-05-03 13:34:12</td>\n",
       "      <td>2019-05-03 13:30:47</td>\n",
       "    </tr>\n",
       "  </tbody>\n",
       "</table>\n",
       "</div>"
      ],
      "text/plain": [
       "   key Bulk 1 Bulk 2 Bulk 3               Bulk 4 Bulk 5 Bulk 6 Bulk 7 Bulk 8  \\\n",
       "0    1    NaN    NaN    NaN  2019-05-03 11:28:48    NaN    NaN    NaN    NaN   \n",
       "1    2    NaN    NaN    NaN  2019-05-03 11:36:50    NaN    NaN    NaN    NaN   \n",
       "2    3    NaN    NaN    NaN  2019-05-03 12:32:39    NaN    NaN    NaN    NaN   \n",
       "3    4    NaN    NaN    NaN  2019-05-03 12:43:22    NaN    NaN    NaN    NaN   \n",
       "4    5    NaN    NaN    NaN  2019-05-03 13:30:47    NaN    NaN    NaN    NaN   \n",
       "\n",
       "  Bulk 9 Bulk 10 Bulk 11              Bulk 12 Bulk 13              Bulk 14  \\\n",
       "0    NaN     NaN     NaN  2019-05-03 11:24:31     NaN  2019-05-03 11:14:50   \n",
       "1    NaN     NaN     NaN  2019-05-03 11:53:30     NaN  2019-05-03 11:48:37   \n",
       "2    NaN     NaN     NaN  2019-05-03 12:27:13     NaN  2019-05-03 12:21:01   \n",
       "3    NaN     NaN     NaN  2019-05-03 12:58:00     NaN  2019-05-03 12:51:11   \n",
       "4    NaN     NaN     NaN  2019-05-03 13:30:47     NaN  2019-05-03 13:34:12   \n",
       "\n",
       "               Bulk 15  \n",
       "0  2019-05-03 11:10:43  \n",
       "1  2019-05-03 11:44:39  \n",
       "2  2019-05-03 12:16:16  \n",
       "3  2019-05-03 12:46:36  \n",
       "4  2019-05-03 13:30:47  "
      ]
     },
     "execution_count": 18,
     "metadata": {},
     "output_type": "execute_result"
    }
   ],
   "source": [
    "data_bulk_time.head()"
   ]
  },
  {
   "cell_type": "code",
   "execution_count": 19,
   "metadata": {},
   "outputs": [
    {
     "name": "stdout",
     "output_type": "stream",
     "text": [
      "<class 'pandas.core.frame.DataFrame'>\n",
      "RangeIndex: 3129 entries, 0 to 3128\n",
      "Data columns (total 16 columns):\n",
      " #   Column   Non-Null Count  Dtype \n",
      "---  ------   --------------  ----- \n",
      " 0   key      3129 non-null   int64 \n",
      " 1   Bulk 1   252 non-null    object\n",
      " 2   Bulk 2   22 non-null     object\n",
      " 3   Bulk 3   1298 non-null   object\n",
      " 4   Bulk 4   1014 non-null   object\n",
      " 5   Bulk 5   77 non-null     object\n",
      " 6   Bulk 6   576 non-null    object\n",
      " 7   Bulk 7   25 non-null     object\n",
      " 8   Bulk 8   1 non-null      object\n",
      " 9   Bulk 9   19 non-null     object\n",
      " 10  Bulk 10  176 non-null    object\n",
      " 11  Bulk 11  177 non-null    object\n",
      " 12  Bulk 12  2450 non-null   object\n",
      " 13  Bulk 13  18 non-null     object\n",
      " 14  Bulk 14  2806 non-null   object\n",
      " 15  Bulk 15  2248 non-null   object\n",
      "dtypes: int64(1), object(15)\n",
      "memory usage: 391.2+ KB\n"
     ]
    }
   ],
   "source": [
    "data_bulk_time.info()"
   ]
  },
  {
   "cell_type": "code",
   "execution_count": 20,
   "metadata": {},
   "outputs": [
    {
     "data": {
      "text/plain": [
       "key           0\n",
       "Bulk 1     2877\n",
       "Bulk 2     3107\n",
       "Bulk 3     1831\n",
       "Bulk 4     2115\n",
       "Bulk 5     3052\n",
       "Bulk 6     2553\n",
       "Bulk 7     3104\n",
       "Bulk 8     3128\n",
       "Bulk 9     3110\n",
       "Bulk 10    2953\n",
       "Bulk 11    2952\n",
       "Bulk 12     679\n",
       "Bulk 13    3111\n",
       "Bulk 14     323\n",
       "Bulk 15     881\n",
       "dtype: int64"
      ]
     },
     "execution_count": 20,
     "metadata": {},
     "output_type": "execute_result"
    }
   ],
   "source": [
    "data_bulk_time.isna().sum()"
   ]
  },
  {
   "cell_type": "code",
   "execution_count": 21,
   "metadata": {},
   "outputs": [
    {
     "data": {
      "text/plain": [
       "key           0\n",
       "Bulk 1     2877\n",
       "Bulk 2     3107\n",
       "Bulk 3     1831\n",
       "Bulk 4     2115\n",
       "Bulk 5     3052\n",
       "Bulk 6     2553\n",
       "Bulk 7     3104\n",
       "Bulk 8     3128\n",
       "Bulk 9     3110\n",
       "Bulk 10    2953\n",
       "Bulk 11    2952\n",
       "Bulk 12     679\n",
       "Bulk 13    3111\n",
       "Bulk 14     323\n",
       "Bulk 15     881\n",
       "dtype: int64"
      ]
     },
     "execution_count": 21,
     "metadata": {},
     "output_type": "execute_result"
    }
   ],
   "source": [
    "data_bulk_v.isna().sum()"
   ]
  },
  {
   "cell_type": "markdown",
   "metadata": {},
   "source": [
    "Похоже, мы имеем дело с идентичными пропусками. Значит можно будет объединить таблицы, а пропуски заменить нулями."
   ]
  },
  {
   "cell_type": "code",
   "execution_count": 22,
   "metadata": {},
   "outputs": [],
   "source": [
    "try:\n",
    "    data_temp = pd.read_csv('temp_new.csv')\n",
    "except:\n",
    "    print('unable to open the file temp')"
   ]
  },
  {
   "cell_type": "code",
   "execution_count": 23,
   "metadata": {},
   "outputs": [
    {
     "data": {
      "text/html": [
       "<div>\n",
       "<style scoped>\n",
       "    .dataframe tbody tr th:only-of-type {\n",
       "        vertical-align: middle;\n",
       "    }\n",
       "\n",
       "    .dataframe tbody tr th {\n",
       "        vertical-align: top;\n",
       "    }\n",
       "\n",
       "    .dataframe thead th {\n",
       "        text-align: right;\n",
       "    }\n",
       "</style>\n",
       "<table border=\"1\" class=\"dataframe\">\n",
       "  <thead>\n",
       "    <tr style=\"text-align: right;\">\n",
       "      <th></th>\n",
       "      <th>key</th>\n",
       "      <th>Время замера</th>\n",
       "      <th>Температура</th>\n",
       "    </tr>\n",
       "  </thead>\n",
       "  <tbody>\n",
       "    <tr>\n",
       "      <th>0</th>\n",
       "      <td>1</td>\n",
       "      <td>2019-05-03 11:02:04</td>\n",
       "      <td>1571.0</td>\n",
       "    </tr>\n",
       "    <tr>\n",
       "      <th>1</th>\n",
       "      <td>1</td>\n",
       "      <td>2019-05-03 11:07:18</td>\n",
       "      <td>1604.0</td>\n",
       "    </tr>\n",
       "    <tr>\n",
       "      <th>2</th>\n",
       "      <td>1</td>\n",
       "      <td>2019-05-03 11:11:34</td>\n",
       "      <td>1618.0</td>\n",
       "    </tr>\n",
       "    <tr>\n",
       "      <th>3</th>\n",
       "      <td>1</td>\n",
       "      <td>2019-05-03 11:18:04</td>\n",
       "      <td>1601.0</td>\n",
       "    </tr>\n",
       "    <tr>\n",
       "      <th>4</th>\n",
       "      <td>1</td>\n",
       "      <td>2019-05-03 11:25:59</td>\n",
       "      <td>1606.0</td>\n",
       "    </tr>\n",
       "  </tbody>\n",
       "</table>\n",
       "</div>"
      ],
      "text/plain": [
       "   key         Время замера  Температура\n",
       "0    1  2019-05-03 11:02:04       1571.0\n",
       "1    1  2019-05-03 11:07:18       1604.0\n",
       "2    1  2019-05-03 11:11:34       1618.0\n",
       "3    1  2019-05-03 11:18:04       1601.0\n",
       "4    1  2019-05-03 11:25:59       1606.0"
      ]
     },
     "execution_count": 23,
     "metadata": {},
     "output_type": "execute_result"
    }
   ],
   "source": [
    "data_temp.head()"
   ]
  },
  {
   "cell_type": "code",
   "execution_count": 24,
   "metadata": {},
   "outputs": [
    {
     "name": "stdout",
     "output_type": "stream",
     "text": [
      "<class 'pandas.core.frame.DataFrame'>\n",
      "RangeIndex: 18092 entries, 0 to 18091\n",
      "Data columns (total 3 columns):\n",
      " #   Column        Non-Null Count  Dtype  \n",
      "---  ------        --------------  -----  \n",
      " 0   key           18092 non-null  int64  \n",
      " 1   Время замера  18092 non-null  object \n",
      " 2   Температура   14665 non-null  float64\n",
      "dtypes: float64(1), int64(1), object(1)\n",
      "memory usage: 424.2+ KB\n"
     ]
    }
   ],
   "source": [
    "data_temp.info()"
   ]
  },
  {
   "cell_type": "code",
   "execution_count": 25,
   "metadata": {},
   "outputs": [
    {
     "data": {
      "text/html": [
       "<div>\n",
       "<style scoped>\n",
       "    .dataframe tbody tr th:only-of-type {\n",
       "        vertical-align: middle;\n",
       "    }\n",
       "\n",
       "    .dataframe tbody tr th {\n",
       "        vertical-align: top;\n",
       "    }\n",
       "\n",
       "    .dataframe thead th {\n",
       "        text-align: right;\n",
       "    }\n",
       "</style>\n",
       "<table border=\"1\" class=\"dataframe\">\n",
       "  <thead>\n",
       "    <tr style=\"text-align: right;\">\n",
       "      <th></th>\n",
       "      <th>key</th>\n",
       "      <th>Температура</th>\n",
       "    </tr>\n",
       "  </thead>\n",
       "  <tbody>\n",
       "    <tr>\n",
       "      <th>count</th>\n",
       "      <td>18092.000000</td>\n",
       "      <td>14665.000000</td>\n",
       "    </tr>\n",
       "    <tr>\n",
       "      <th>mean</th>\n",
       "      <td>1616.460977</td>\n",
       "      <td>1590.722741</td>\n",
       "    </tr>\n",
       "    <tr>\n",
       "      <th>std</th>\n",
       "      <td>934.641385</td>\n",
       "      <td>20.394381</td>\n",
       "    </tr>\n",
       "    <tr>\n",
       "      <th>min</th>\n",
       "      <td>1.000000</td>\n",
       "      <td>1191.000000</td>\n",
       "    </tr>\n",
       "    <tr>\n",
       "      <th>25%</th>\n",
       "      <td>807.750000</td>\n",
       "      <td>1580.000000</td>\n",
       "    </tr>\n",
       "    <tr>\n",
       "      <th>50%</th>\n",
       "      <td>1618.000000</td>\n",
       "      <td>1590.000000</td>\n",
       "    </tr>\n",
       "    <tr>\n",
       "      <th>75%</th>\n",
       "      <td>2429.000000</td>\n",
       "      <td>1599.000000</td>\n",
       "    </tr>\n",
       "    <tr>\n",
       "      <th>max</th>\n",
       "      <td>3241.000000</td>\n",
       "      <td>1705.000000</td>\n",
       "    </tr>\n",
       "  </tbody>\n",
       "</table>\n",
       "</div>"
      ],
      "text/plain": [
       "                key   Температура\n",
       "count  18092.000000  14665.000000\n",
       "mean    1616.460977   1590.722741\n",
       "std      934.641385     20.394381\n",
       "min        1.000000   1191.000000\n",
       "25%      807.750000   1580.000000\n",
       "50%     1618.000000   1590.000000\n",
       "75%     2429.000000   1599.000000\n",
       "max     3241.000000   1705.000000"
      ]
     },
     "execution_count": 25,
     "metadata": {},
     "output_type": "execute_result"
    }
   ],
   "source": [
    "data_temp.describe()"
   ]
  },
  {
   "cell_type": "code",
   "execution_count": 26,
   "metadata": {},
   "outputs": [
    {
     "data": {
      "text/plain": [
       "0.189"
      ]
     },
     "execution_count": 26,
     "metadata": {},
     "output_type": "execute_result"
    }
   ],
   "source": [
    "round(data_temp.isna().sum().sort_values(ascending=False)[0]/len(data_temp), 3)"
   ]
  },
  {
   "cell_type": "markdown",
   "metadata": {},
   "source": [
    "большое количество пропусков, надо разбираться"
   ]
  },
  {
   "cell_type": "markdown",
   "metadata": {},
   "source": [
    "Посмотрим на диаграмму размаха"
   ]
  },
  {
   "cell_type": "code",
   "execution_count": 27,
   "metadata": {},
   "outputs": [
    {
     "data": {
      "image/png": "[encoded data removed]",
      "text/plain": [
       "<Figure size 432x288 with 1 Axes>"
      ]
     },
     "metadata": {
      "needs_background": "light"
     },
     "output_type": "display_data"
    }
   ],
   "source": [
    "sns.boxplot(data=data_temp['Температура'], palette={'red'})\n",
    "plt.show()"
   ]
  },
  {
   "cell_type": "markdown",
   "metadata": {},
   "source": [
    "На диаграмме явно прослеживаются выбросы сильно ниже 1500 гр. Это могут быть как более легкоплавкие сплавы, так и реальные выбросы. Я бы убрала все, что ниже 1490 гр для чистоты эксперимента."
   ]
  },
  {
   "cell_type": "markdown",
   "metadata": {},
   "source": [
    "***данные о проволочных материалах (объём)***"
   ]
  },
  {
   "cell_type": "code",
   "execution_count": 28,
   "metadata": {},
   "outputs": [],
   "source": [
    "try:\n",
    "    data_wire_v = pd.read_csv('wire_new.csv')\n",
    "except:\n",
    "    print('unable to open the file wire') "
   ]
  },
  {
   "cell_type": "code",
   "execution_count": 29,
   "metadata": {},
   "outputs": [
    {
     "data": {
      "text/html": [
       "<div>\n",
       "<style scoped>\n",
       "    .dataframe tbody tr th:only-of-type {\n",
       "        vertical-align: middle;\n",
       "    }\n",
       "\n",
       "    .dataframe tbody tr th {\n",
       "        vertical-align: top;\n",
       "    }\n",
       "\n",
       "    .dataframe thead th {\n",
       "        text-align: right;\n",
       "    }\n",
       "</style>\n",
       "<table border=\"1\" class=\"dataframe\">\n",
       "  <thead>\n",
       "    <tr style=\"text-align: right;\">\n",
       "      <th></th>\n",
       "      <th>key</th>\n",
       "      <th>Wire 1</th>\n",
       "      <th>Wire 2</th>\n",
       "      <th>Wire 3</th>\n",
       "      <th>Wire 4</th>\n",
       "      <th>Wire 5</th>\n",
       "      <th>Wire 6</th>\n",
       "      <th>Wire 7</th>\n",
       "      <th>Wire 8</th>\n",
       "      <th>Wire 9</th>\n",
       "    </tr>\n",
       "  </thead>\n",
       "  <tbody>\n",
       "    <tr>\n",
       "      <th>0</th>\n",
       "      <td>1</td>\n",
       "      <td>60.059998</td>\n",
       "      <td>NaN</td>\n",
       "      <td>NaN</td>\n",
       "      <td>NaN</td>\n",
       "      <td>NaN</td>\n",
       "      <td>NaN</td>\n",
       "      <td>NaN</td>\n",
       "      <td>NaN</td>\n",
       "      <td>NaN</td>\n",
       "    </tr>\n",
       "    <tr>\n",
       "      <th>1</th>\n",
       "      <td>2</td>\n",
       "      <td>96.052315</td>\n",
       "      <td>NaN</td>\n",
       "      <td>NaN</td>\n",
       "      <td>NaN</td>\n",
       "      <td>NaN</td>\n",
       "      <td>NaN</td>\n",
       "      <td>NaN</td>\n",
       "      <td>NaN</td>\n",
       "      <td>NaN</td>\n",
       "    </tr>\n",
       "    <tr>\n",
       "      <th>2</th>\n",
       "      <td>3</td>\n",
       "      <td>91.160157</td>\n",
       "      <td>NaN</td>\n",
       "      <td>NaN</td>\n",
       "      <td>NaN</td>\n",
       "      <td>NaN</td>\n",
       "      <td>NaN</td>\n",
       "      <td>NaN</td>\n",
       "      <td>NaN</td>\n",
       "      <td>NaN</td>\n",
       "    </tr>\n",
       "    <tr>\n",
       "      <th>3</th>\n",
       "      <td>4</td>\n",
       "      <td>89.063515</td>\n",
       "      <td>NaN</td>\n",
       "      <td>NaN</td>\n",
       "      <td>NaN</td>\n",
       "      <td>NaN</td>\n",
       "      <td>NaN</td>\n",
       "      <td>NaN</td>\n",
       "      <td>NaN</td>\n",
       "      <td>NaN</td>\n",
       "    </tr>\n",
       "    <tr>\n",
       "      <th>4</th>\n",
       "      <td>5</td>\n",
       "      <td>89.238236</td>\n",
       "      <td>9.11456</td>\n",
       "      <td>NaN</td>\n",
       "      <td>NaN</td>\n",
       "      <td>NaN</td>\n",
       "      <td>NaN</td>\n",
       "      <td>NaN</td>\n",
       "      <td>NaN</td>\n",
       "      <td>NaN</td>\n",
       "    </tr>\n",
       "  </tbody>\n",
       "</table>\n",
       "</div>"
      ],
      "text/plain": [
       "   key     Wire 1   Wire 2  Wire 3  Wire 4  Wire 5  Wire 6  Wire 7  Wire 8  \\\n",
       "0    1  60.059998      NaN     NaN     NaN     NaN     NaN     NaN     NaN   \n",
       "1    2  96.052315      NaN     NaN     NaN     NaN     NaN     NaN     NaN   \n",
       "2    3  91.160157      NaN     NaN     NaN     NaN     NaN     NaN     NaN   \n",
       "3    4  89.063515      NaN     NaN     NaN     NaN     NaN     NaN     NaN   \n",
       "4    5  89.238236  9.11456     NaN     NaN     NaN     NaN     NaN     NaN   \n",
       "\n",
       "   Wire 9  \n",
       "0     NaN  \n",
       "1     NaN  \n",
       "2     NaN  \n",
       "3     NaN  \n",
       "4     NaN  "
      ]
     },
     "execution_count": 29,
     "metadata": {},
     "output_type": "execute_result"
    }
   ],
   "source": [
    "data_wire_v.head()"
   ]
  },
  {
   "cell_type": "code",
   "execution_count": 30,
   "metadata": {},
   "outputs": [
    {
     "name": "stdout",
     "output_type": "stream",
     "text": [
      "<class 'pandas.core.frame.DataFrame'>\n",
      "RangeIndex: 3081 entries, 0 to 3080\n",
      "Data columns (total 10 columns):\n",
      " #   Column  Non-Null Count  Dtype  \n",
      "---  ------  --------------  -----  \n",
      " 0   key     3081 non-null   int64  \n",
      " 1   Wire 1  3055 non-null   float64\n",
      " 2   Wire 2  1079 non-null   float64\n",
      " 3   Wire 3  63 non-null     float64\n",
      " 4   Wire 4  14 non-null     float64\n",
      " 5   Wire 5  1 non-null      float64\n",
      " 6   Wire 6  73 non-null     float64\n",
      " 7   Wire 7  11 non-null     float64\n",
      " 8   Wire 8  19 non-null     float64\n",
      " 9   Wire 9  29 non-null     float64\n",
      "dtypes: float64(9), int64(1)\n",
      "memory usage: 240.8 KB\n"
     ]
    }
   ],
   "source": [
    "data_wire_v.info()"
   ]
  },
  {
   "cell_type": "code",
   "execution_count": 31,
   "metadata": {},
   "outputs": [
    {
     "data": {
      "text/plain": [
       "key          0\n",
       "Wire 1      26\n",
       "Wire 2    2002\n",
       "Wire 3    3018\n",
       "Wire 4    3067\n",
       "Wire 5    3080\n",
       "Wire 6    3008\n",
       "Wire 7    3070\n",
       "Wire 8    3062\n",
       "Wire 9    3052\n",
       "dtype: int64"
      ]
     },
     "execution_count": 31,
     "metadata": {},
     "output_type": "execute_result"
    }
   ],
   "source": [
    "data_wire_v.isna().sum()"
   ]
  },
  {
   "cell_type": "markdown",
   "metadata": {},
   "source": [
    "Только Wire 1 содержит менее 50% пропусков. Посмотрим на распределение "
   ]
  },
  {
   "cell_type": "code",
   "execution_count": 32,
   "metadata": {},
   "outputs": [
    {
     "data": {
      "text/plain": [
       "array([[<AxesSubplot:title={'center':'key'}>,\n",
       "        <AxesSubplot:title={'center':'Wire 1'}>,\n",
       "        <AxesSubplot:title={'center':'Wire 2'}>],\n",
       "       [<AxesSubplot:title={'center':'Wire 3'}>,\n",
       "        <AxesSubplot:title={'center':'Wire 4'}>,\n",
       "        <AxesSubplot:title={'center':'Wire 5'}>],\n",
       "       [<AxesSubplot:title={'center':'Wire 6'}>,\n",
       "        <AxesSubplot:title={'center':'Wire 7'}>,\n",
       "        <AxesSubplot:title={'center':'Wire 8'}>],\n",
       "       [<AxesSubplot:title={'center':'Wire 9'}>, <AxesSubplot:>,\n",
       "        <AxesSubplot:>]], dtype=object)"
      ]
     },
     "execution_count": 32,
     "metadata": {},
     "output_type": "execute_result"
    },
    {
     "data": {
      "image/png": "[encoded data removed]",
      "text/plain": [
       "<Figure size 1080x1080 with 12 Axes>"
      ]
     },
     "metadata": {
      "needs_background": "light"
     },
     "output_type": "display_data"
    }
   ],
   "source": [
    "data_wire_v.hist(figsize=(15, 15), grid=False, bins=50)"
   ]
  },
  {
   "cell_type": "markdown",
   "metadata": {},
   "source": [
    "Нормальное распределение у 1го и приблизительное у 2го и 6го Wire. В остальных - дискретные пики."
   ]
  },
  {
   "cell_type": "markdown",
   "metadata": {},
   "source": [
    "***данные о проволочных материалах (время)***"
   ]
  },
  {
   "cell_type": "code",
   "execution_count": 33,
   "metadata": {},
   "outputs": [],
   "source": [
    "try:\n",
    "    data_wire_time = pd.read_csv('wire_time_new.csv')\n",
    "except:\n",
    "    print('unable to open the file wire_time') "
   ]
  },
  {
   "cell_type": "code",
   "execution_count": 34,
   "metadata": {},
   "outputs": [
    {
     "data": {
      "text/html": [
       "<div>\n",
       "<style scoped>\n",
       "    .dataframe tbody tr th:only-of-type {\n",
       "        vertical-align: middle;\n",
       "    }\n",
       "\n",
       "    .dataframe tbody tr th {\n",
       "        vertical-align: top;\n",
       "    }\n",
       "\n",
       "    .dataframe thead th {\n",
       "        text-align: right;\n",
       "    }\n",
       "</style>\n",
       "<table border=\"1\" class=\"dataframe\">\n",
       "  <thead>\n",
       "    <tr style=\"text-align: right;\">\n",
       "      <th></th>\n",
       "      <th>key</th>\n",
       "      <th>Wire 1</th>\n",
       "      <th>Wire 2</th>\n",
       "      <th>Wire 3</th>\n",
       "      <th>Wire 4</th>\n",
       "      <th>Wire 5</th>\n",
       "      <th>Wire 6</th>\n",
       "      <th>Wire 7</th>\n",
       "      <th>Wire 8</th>\n",
       "      <th>Wire 9</th>\n",
       "    </tr>\n",
       "  </thead>\n",
       "  <tbody>\n",
       "    <tr>\n",
       "      <th>0</th>\n",
       "      <td>1</td>\n",
       "      <td>2019-05-03 11:06:19</td>\n",
       "      <td>NaN</td>\n",
       "      <td>NaN</td>\n",
       "      <td>NaN</td>\n",
       "      <td>NaN</td>\n",
       "      <td>NaN</td>\n",
       "      <td>NaN</td>\n",
       "      <td>NaN</td>\n",
       "      <td>NaN</td>\n",
       "    </tr>\n",
       "    <tr>\n",
       "      <th>1</th>\n",
       "      <td>2</td>\n",
       "      <td>2019-05-03 11:36:50</td>\n",
       "      <td>NaN</td>\n",
       "      <td>NaN</td>\n",
       "      <td>NaN</td>\n",
       "      <td>NaN</td>\n",
       "      <td>NaN</td>\n",
       "      <td>NaN</td>\n",
       "      <td>NaN</td>\n",
       "      <td>NaN</td>\n",
       "    </tr>\n",
       "    <tr>\n",
       "      <th>2</th>\n",
       "      <td>3</td>\n",
       "      <td>2019-05-03 12:11:46</td>\n",
       "      <td>NaN</td>\n",
       "      <td>NaN</td>\n",
       "      <td>NaN</td>\n",
       "      <td>NaN</td>\n",
       "      <td>NaN</td>\n",
       "      <td>NaN</td>\n",
       "      <td>NaN</td>\n",
       "      <td>NaN</td>\n",
       "    </tr>\n",
       "    <tr>\n",
       "      <th>3</th>\n",
       "      <td>4</td>\n",
       "      <td>2019-05-03 12:43:22</td>\n",
       "      <td>NaN</td>\n",
       "      <td>NaN</td>\n",
       "      <td>NaN</td>\n",
       "      <td>NaN</td>\n",
       "      <td>NaN</td>\n",
       "      <td>NaN</td>\n",
       "      <td>NaN</td>\n",
       "      <td>NaN</td>\n",
       "    </tr>\n",
       "    <tr>\n",
       "      <th>4</th>\n",
       "      <td>5</td>\n",
       "      <td>2019-05-03 13:20:44</td>\n",
       "      <td>2019-05-03 13:15:34</td>\n",
       "      <td>NaN</td>\n",
       "      <td>NaN</td>\n",
       "      <td>NaN</td>\n",
       "      <td>NaN</td>\n",
       "      <td>NaN</td>\n",
       "      <td>NaN</td>\n",
       "      <td>NaN</td>\n",
       "    </tr>\n",
       "  </tbody>\n",
       "</table>\n",
       "</div>"
      ],
      "text/plain": [
       "   key               Wire 1               Wire 2 Wire 3 Wire 4 Wire 5 Wire 6  \\\n",
       "0    1  2019-05-03 11:06:19                  NaN    NaN    NaN    NaN    NaN   \n",
       "1    2  2019-05-03 11:36:50                  NaN    NaN    NaN    NaN    NaN   \n",
       "2    3  2019-05-03 12:11:46                  NaN    NaN    NaN    NaN    NaN   \n",
       "3    4  2019-05-03 12:43:22                  NaN    NaN    NaN    NaN    NaN   \n",
       "4    5  2019-05-03 13:20:44  2019-05-03 13:15:34    NaN    NaN    NaN    NaN   \n",
       "\n",
       "  Wire 7 Wire 8 Wire 9  \n",
       "0    NaN    NaN    NaN  \n",
       "1    NaN    NaN    NaN  \n",
       "2    NaN    NaN    NaN  \n",
       "3    NaN    NaN    NaN  \n",
       "4    NaN    NaN    NaN  "
      ]
     },
     "execution_count": 34,
     "metadata": {},
     "output_type": "execute_result"
    }
   ],
   "source": [
    "data_wire_time.head()"
   ]
  },
  {
   "cell_type": "code",
   "execution_count": 35,
   "metadata": {},
   "outputs": [
    {
     "data": {
      "text/plain": [
       "key          0\n",
       "Wire 1      26\n",
       "Wire 2    2002\n",
       "Wire 3    3018\n",
       "Wire 4    3067\n",
       "Wire 5    3080\n",
       "Wire 6    3008\n",
       "Wire 7    3070\n",
       "Wire 8    3062\n",
       "Wire 9    3052\n",
       "dtype: int64"
      ]
     },
     "execution_count": 35,
     "metadata": {},
     "output_type": "execute_result"
    }
   ],
   "source": [
    "data_wire_time.isna().sum()"
   ]
  },
  {
   "cell_type": "code",
   "execution_count": 36,
   "metadata": {},
   "outputs": [
    {
     "data": {
      "text/plain": [
       "key          0\n",
       "Wire 1      26\n",
       "Wire 2    2002\n",
       "Wire 3    3018\n",
       "Wire 4    3067\n",
       "Wire 5    3080\n",
       "Wire 6    3008\n",
       "Wire 7    3070\n",
       "Wire 8    3062\n",
       "Wire 9    3052\n",
       "dtype: int64"
      ]
     },
     "execution_count": 36,
     "metadata": {},
     "output_type": "execute_result"
    }
   ],
   "source": [
    "data_wire_v.isna().sum()"
   ]
  },
  {
   "cell_type": "markdown",
   "metadata": {},
   "source": [
    "Та же история, что и с bulk. Пропуски в одинаковых местах у объёма и времени."
   ]
  },
  {
   "cell_type": "markdown",
   "metadata": {},
   "source": [
    "***данные о продувке сплава газом***"
   ]
  },
  {
   "cell_type": "code",
   "execution_count": 37,
   "metadata": {},
   "outputs": [],
   "source": [
    "try:\n",
    "    data_gas = pd.read_csv('gas_new.csv')\n",
    "except:\n",
    "    print('unable to open the file gas')"
   ]
  },
  {
   "cell_type": "code",
   "execution_count": 38,
   "metadata": {},
   "outputs": [
    {
     "data": {
      "text/html": [
       "<div>\n",
       "<style scoped>\n",
       "    .dataframe tbody tr th:only-of-type {\n",
       "        vertical-align: middle;\n",
       "    }\n",
       "\n",
       "    .dataframe tbody tr th {\n",
       "        vertical-align: top;\n",
       "    }\n",
       "\n",
       "    .dataframe thead th {\n",
       "        text-align: right;\n",
       "    }\n",
       "</style>\n",
       "<table border=\"1\" class=\"dataframe\">\n",
       "  <thead>\n",
       "    <tr style=\"text-align: right;\">\n",
       "      <th></th>\n",
       "      <th>key</th>\n",
       "      <th>Газ 1</th>\n",
       "    </tr>\n",
       "  </thead>\n",
       "  <tbody>\n",
       "    <tr>\n",
       "      <th>0</th>\n",
       "      <td>1</td>\n",
       "      <td>29.749986</td>\n",
       "    </tr>\n",
       "    <tr>\n",
       "      <th>1</th>\n",
       "      <td>2</td>\n",
       "      <td>12.555561</td>\n",
       "    </tr>\n",
       "    <tr>\n",
       "      <th>2</th>\n",
       "      <td>3</td>\n",
       "      <td>28.554793</td>\n",
       "    </tr>\n",
       "    <tr>\n",
       "      <th>3</th>\n",
       "      <td>4</td>\n",
       "      <td>18.841219</td>\n",
       "    </tr>\n",
       "    <tr>\n",
       "      <th>4</th>\n",
       "      <td>5</td>\n",
       "      <td>5.413692</td>\n",
       "    </tr>\n",
       "  </tbody>\n",
       "</table>\n",
       "</div>"
      ],
      "text/plain": [
       "   key      Газ 1\n",
       "0    1  29.749986\n",
       "1    2  12.555561\n",
       "2    3  28.554793\n",
       "3    4  18.841219\n",
       "4    5   5.413692"
      ]
     },
     "execution_count": 38,
     "metadata": {},
     "output_type": "execute_result"
    }
   ],
   "source": [
    "data_gas.head()"
   ]
  },
  {
   "cell_type": "code",
   "execution_count": 39,
   "metadata": {},
   "outputs": [
    {
     "data": {
      "text/html": [
       "<div>\n",
       "<style scoped>\n",
       "    .dataframe tbody tr th:only-of-type {\n",
       "        vertical-align: middle;\n",
       "    }\n",
       "\n",
       "    .dataframe tbody tr th {\n",
       "        vertical-align: top;\n",
       "    }\n",
       "\n",
       "    .dataframe thead th {\n",
       "        text-align: right;\n",
       "    }\n",
       "</style>\n",
       "<table border=\"1\" class=\"dataframe\">\n",
       "  <thead>\n",
       "    <tr style=\"text-align: right;\">\n",
       "      <th></th>\n",
       "      <th>key</th>\n",
       "      <th>Газ 1</th>\n",
       "    </tr>\n",
       "  </thead>\n",
       "  <tbody>\n",
       "    <tr>\n",
       "      <th>count</th>\n",
       "      <td>3239.000000</td>\n",
       "      <td>3239.000000</td>\n",
       "    </tr>\n",
       "    <tr>\n",
       "      <th>mean</th>\n",
       "      <td>1621.861377</td>\n",
       "      <td>11.002062</td>\n",
       "    </tr>\n",
       "    <tr>\n",
       "      <th>std</th>\n",
       "      <td>935.386334</td>\n",
       "      <td>6.220327</td>\n",
       "    </tr>\n",
       "    <tr>\n",
       "      <th>min</th>\n",
       "      <td>1.000000</td>\n",
       "      <td>0.008399</td>\n",
       "    </tr>\n",
       "    <tr>\n",
       "      <th>25%</th>\n",
       "      <td>812.500000</td>\n",
       "      <td>7.043089</td>\n",
       "    </tr>\n",
       "    <tr>\n",
       "      <th>50%</th>\n",
       "      <td>1622.000000</td>\n",
       "      <td>9.836267</td>\n",
       "    </tr>\n",
       "    <tr>\n",
       "      <th>75%</th>\n",
       "      <td>2431.500000</td>\n",
       "      <td>13.769915</td>\n",
       "    </tr>\n",
       "    <tr>\n",
       "      <th>max</th>\n",
       "      <td>3241.000000</td>\n",
       "      <td>77.995040</td>\n",
       "    </tr>\n",
       "  </tbody>\n",
       "</table>\n",
       "</div>"
      ],
      "text/plain": [
       "               key        Газ 1\n",
       "count  3239.000000  3239.000000\n",
       "mean   1621.861377    11.002062\n",
       "std     935.386334     6.220327\n",
       "min       1.000000     0.008399\n",
       "25%     812.500000     7.043089\n",
       "50%    1622.000000     9.836267\n",
       "75%    2431.500000    13.769915\n",
       "max    3241.000000    77.995040"
      ]
     },
     "execution_count": 39,
     "metadata": {},
     "output_type": "execute_result"
    }
   ],
   "source": [
    "data_gas.describe()"
   ]
  },
  {
   "cell_type": "markdown",
   "metadata": {},
   "source": [
    "***Выводы:\n",
    "С загрузкой всё ОК.   \n",
    "Все названия столбцов надо привести к стандарту. Определиться, какие данные необходимо оставить, а от каких избавиться.  Перевести время в datetime.   \n",
    "Есть пропуски.Нужно будет заменить их нулями. В данных с реактивной мощностью есть очевидный выброс. Он удален. После удаления выброса у активной и реактивной мощности распределение нормальное со смещением пика влево.    \n",
    "Основная часть сыпучих присадок не имеет нормального распределения, а характеризуется дискретными пиками. Нормальное распределение у Bulk4, Bulk6. У Bulk3, Bulk5 нормальное со сдвигом пика влево.   \n",
    "Похожая картина с проволокой. Только у 1, 2, 6 столбцов нормальное или близкое к норме распределение, у остальных - пики.   \n",
    "В data_bulk_v b data_bulk_time пропуски совпадают, что наводит на мысль об объединении таблиц. Пропуски стоит заменить нулями. То же самое и у wire.   \n",
    "Думаю убрать те присадки, у которых данные отсутствуют более чем в 50%.   \n",
    "На диаграмме размаха температуры явно прослеживаются выбросы сильно ниже 1500 гр. Думаю, нужно удалить все, что ниже 1490 гр.***"
   ]
  },
  {
   "cell_type": "markdown",
   "metadata": {},
   "source": [
    "План  \n",
    "_1 Импорт билиотек   \n",
    "_2 Загрузка данных   \n",
    "_З Гистограммы, боксплоты   \n",
    "_4 Приведение названий столбцов к стандарту   \n",
    "_5 Избавиться от лишних данных     \n",
    "_6 Заменить или удалить пропуски      \n",
    "_7 Разобраться с выбросами   \n",
    "_8 Где надо, изменить тип данных   \n",
    "_9. Добавить необходимые столбцы    \n",
    "_10. Сформировать новую таблицу, содержащую только необходимую информацию  \n",
    "_11. Анализ свежесобранной таблицы   \n",
    "_12. Разделение данных на тестовую и обучающую выборку   \n",
    "_13. Подбор гиперпараметров   \n",
    "_14. Обучение моделей   \n",
    "_15. Выбор модели-победителя   \n",
    "_16. Тестирование модели-победителя на предмет соответствия требованиям   \n",
    "_17. Вывод\n"
   ]
  }
 ],
 "metadata": {
  "ExecuteTimeLog": [
   {
    "duration": 150,
    "start_time": "2023-08-28T08:13:26.634Z"
   },
   {
    "duration": 222,
    "start_time": "2023-08-28T08:14:13.771Z"
   },
   {
    "duration": 358,
    "start_time": "2023-08-28T08:14:36.461Z"
   },
   {
    "duration": 83,
    "start_time": "2023-08-28T08:14:37.410Z"
   },
   {
    "duration": 88,
    "start_time": "2023-08-28T08:15:52.959Z"
   },
   {
    "duration": 133,
    "start_time": "2023-08-28T08:16:30.170Z"
   },
   {
    "duration": 129,
    "start_time": "2023-08-28T08:18:01.875Z"
   },
   {
    "duration": 85,
    "start_time": "2023-08-28T08:18:26.394Z"
   },
   {
    "duration": 18,
    "start_time": "2023-08-28T08:18:36.308Z"
   },
   {
    "duration": 45,
    "start_time": "2023-08-28T08:32:21.779Z"
   },
   {
    "duration": 9,
    "start_time": "2023-08-28T08:32:31.056Z"
   },
   {
    "duration": 147,
    "start_time": "2023-08-28T09:00:01.799Z"
   },
   {
    "duration": 8,
    "start_time": "2023-08-28T09:00:06.852Z"
   },
   {
    "duration": 29,
    "start_time": "2023-08-28T09:00:13.844Z"
   },
   {
    "duration": 8,
    "start_time": "2023-08-28T09:00:14.868Z"
   },
   {
    "duration": 9,
    "start_time": "2023-08-28T09:00:36.928Z"
   },
   {
    "duration": 17,
    "start_time": "2023-08-28T09:00:43.357Z"
   },
   {
    "duration": 78,
    "start_time": "2023-08-28T09:22:45.317Z"
   },
   {
    "duration": 31,
    "start_time": "2023-08-28T09:22:51.680Z"
   },
   {
    "duration": 15,
    "start_time": "2023-08-28T09:22:52.276Z"
   },
   {
    "duration": 31,
    "start_time": "2023-08-28T09:22:55.755Z"
   },
   {
    "duration": 15,
    "start_time": "2023-08-28T09:22:56.573Z"
   },
   {
    "duration": 106,
    "start_time": "2023-08-28T09:23:03.378Z"
   },
   {
    "duration": 15,
    "start_time": "2023-08-28T09:23:16.942Z"
   },
   {
    "duration": 116,
    "start_time": "2023-08-28T09:32:04.946Z"
   },
   {
    "duration": 7,
    "start_time": "2023-08-28T09:32:18.367Z"
   },
   {
    "duration": 252,
    "start_time": "2023-08-28T09:43:44.791Z"
   },
   {
    "duration": 7,
    "start_time": "2023-08-28T09:43:58.816Z"
   },
   {
    "duration": 62,
    "start_time": "2023-08-28T10:11:17.871Z"
   },
   {
    "duration": 10,
    "start_time": "2023-08-28T10:11:47.047Z"
   },
   {
    "duration": 8,
    "start_time": "2023-08-28T12:19:10.137Z"
   },
   {
    "duration": 443,
    "start_time": "2023-08-28T12:19:20.267Z"
   },
   {
    "duration": 88,
    "start_time": "2023-08-28T12:19:20.712Z"
   },
   {
    "duration": 15,
    "start_time": "2023-08-28T12:19:20.801Z"
   },
   {
    "duration": 124,
    "start_time": "2023-08-28T12:19:20.818Z"
   },
   {
    "duration": 23,
    "start_time": "2023-08-28T12:19:20.944Z"
   },
   {
    "duration": 111,
    "start_time": "2023-08-28T12:19:20.968Z"
   },
   {
    "duration": 13,
    "start_time": "2023-08-28T12:19:21.081Z"
   },
   {
    "duration": 63,
    "start_time": "2023-08-28T12:19:21.096Z"
   },
   {
    "duration": 7,
    "start_time": "2023-08-28T12:19:21.161Z"
   },
   {
    "duration": 107,
    "start_time": "2023-08-28T12:19:21.170Z"
   },
   {
    "duration": 8,
    "start_time": "2023-08-28T12:19:21.278Z"
   },
   {
    "duration": 69,
    "start_time": "2023-08-28T12:19:21.287Z"
   },
   {
    "duration": 19,
    "start_time": "2023-08-28T12:19:21.358Z"
   },
   {
    "duration": 70,
    "start_time": "2023-08-28T12:19:21.378Z"
   },
   {
    "duration": 10,
    "start_time": "2023-08-28T12:19:52.358Z"
   },
   {
    "duration": 9,
    "start_time": "2023-08-29T07:10:26.310Z"
   },
   {
    "duration": 366,
    "start_time": "2023-08-29T07:10:29.822Z"
   },
   {
    "duration": 169,
    "start_time": "2023-08-29T07:10:31.112Z"
   },
   {
    "duration": 16,
    "start_time": "2023-08-29T07:10:31.979Z"
   },
   {
    "duration": 12,
    "start_time": "2023-08-29T07:10:55.910Z"
   },
   {
    "duration": 20,
    "start_time": "2023-08-29T08:27:46.177Z"
   },
   {
    "duration": 18,
    "start_time": "2023-08-29T08:31:34.006Z"
   },
   {
    "duration": 8,
    "start_time": "2023-08-29T08:32:34.472Z"
   },
   {
    "duration": 11,
    "start_time": "2023-08-29T08:46:28.998Z"
   },
   {
    "duration": 68,
    "start_time": "2023-08-29T08:46:54.978Z"
   },
   {
    "duration": 20,
    "start_time": "2023-08-29T08:47:52.047Z"
   },
   {
    "duration": 831,
    "start_time": "2023-08-29T08:56:18.323Z"
   },
   {
    "duration": 380,
    "start_time": "2023-08-29T09:07:28.900Z"
   },
   {
    "duration": 252,
    "start_time": "2023-08-29T09:07:48.854Z"
   },
   {
    "duration": 267,
    "start_time": "2023-08-29T09:07:58.134Z"
   },
   {
    "duration": 15,
    "start_time": "2023-08-29T09:21:26.704Z"
   },
   {
    "duration": 6,
    "start_time": "2023-08-29T10:29:11.953Z"
   },
   {
    "duration": 16,
    "start_time": "2023-08-29T10:30:44.809Z"
   },
   {
    "duration": 290,
    "start_time": "2023-08-29T10:31:02.321Z"
   },
   {
    "duration": 14,
    "start_time": "2023-08-29T10:31:04.668Z"
   },
   {
    "duration": 62,
    "start_time": "2023-08-29T10:31:10.971Z"
   },
   {
    "duration": 16,
    "start_time": "2023-08-29T10:31:11.654Z"
   },
   {
    "duration": 86,
    "start_time": "2023-08-29T12:19:39.380Z"
   },
   {
    "duration": 430,
    "start_time": "2023-08-29T12:19:48.065Z"
   },
   {
    "duration": 133,
    "start_time": "2023-08-29T12:19:49.062Z"
   },
   {
    "duration": 21,
    "start_time": "2023-08-29T12:19:49.573Z"
   },
   {
    "duration": 26,
    "start_time": "2023-08-29T12:19:50.620Z"
   },
   {
    "duration": 29,
    "start_time": "2023-08-29T12:19:51.618Z"
   },
   {
    "duration": 20,
    "start_time": "2023-08-29T12:19:52.643Z"
   },
   {
    "duration": 7,
    "start_time": "2023-08-29T12:19:53.680Z"
   },
   {
    "duration": 20,
    "start_time": "2023-08-29T12:19:55.486Z"
   },
   {
    "duration": 12,
    "start_time": "2023-08-29T12:19:57.502Z"
   },
   {
    "duration": 898,
    "start_time": "2023-08-29T12:19:58.420Z"
   },
   {
    "duration": 24,
    "start_time": "2023-08-29T12:20:02.414Z"
   },
   {
    "duration": 10,
    "start_time": "2023-08-29T12:20:08.221Z"
   },
   {
    "duration": 23,
    "start_time": "2023-08-29T12:20:29.247Z"
   },
   {
    "duration": 16,
    "start_time": "2023-08-29T12:20:48.549Z"
   },
   {
    "duration": 61,
    "start_time": "2023-08-29T12:31:41.597Z"
   },
   {
    "duration": 143,
    "start_time": "2023-08-29T12:31:48.861Z"
   },
   {
    "duration": 24,
    "start_time": "2023-08-29T12:31:49.488Z"
   },
   {
    "duration": 23,
    "start_time": "2023-08-29T12:31:50.216Z"
   },
   {
    "duration": 25,
    "start_time": "2023-08-29T12:40:16.571Z"
   },
   {
    "duration": 17,
    "start_time": "2023-08-29T12:44:18.829Z"
   },
   {
    "duration": 5,
    "start_time": "2023-08-29T12:44:33.864Z"
   },
   {
    "duration": 12,
    "start_time": "2023-08-29T12:44:56.998Z"
   },
   {
    "duration": 9,
    "start_time": "2023-08-29T12:48:11.977Z"
   },
   {
    "duration": 47,
    "start_time": "2023-08-30T06:40:11.202Z"
   },
   {
    "duration": 407,
    "start_time": "2023-08-30T06:40:36.016Z"
   },
   {
    "duration": 92,
    "start_time": "2023-08-30T06:40:36.425Z"
   },
   {
    "duration": 15,
    "start_time": "2023-08-30T06:40:36.519Z"
   },
   {
    "duration": 27,
    "start_time": "2023-08-30T06:40:36.535Z"
   },
   {
    "duration": 21,
    "start_time": "2023-08-30T06:40:36.566Z"
   },
   {
    "duration": 28,
    "start_time": "2023-08-30T06:40:36.589Z"
   },
   {
    "duration": 7,
    "start_time": "2023-08-30T06:40:36.618Z"
   },
   {
    "duration": 40,
    "start_time": "2023-08-30T06:40:36.627Z"
   },
   {
    "duration": 10,
    "start_time": "2023-08-30T06:40:36.669Z"
   },
   {
    "duration": 686,
    "start_time": "2023-08-30T06:40:36.681Z"
   },
   {
    "duration": 5,
    "start_time": "2023-08-30T06:40:37.369Z"
   },
   {
    "duration": 69,
    "start_time": "2023-08-30T06:40:37.375Z"
   },
   {
    "duration": 45,
    "start_time": "2023-08-30T06:40:37.445Z"
   },
   {
    "duration": 118,
    "start_time": "2023-08-30T06:40:37.493Z"
   },
   {
    "duration": 21,
    "start_time": "2023-08-30T06:40:37.613Z"
   },
   {
    "duration": 44,
    "start_time": "2023-08-30T06:40:37.635Z"
   },
   {
    "duration": 23,
    "start_time": "2023-08-30T06:40:37.680Z"
   },
   {
    "duration": 8,
    "start_time": "2023-08-30T06:40:37.705Z"
   },
   {
    "duration": 101,
    "start_time": "2023-08-30T06:40:37.715Z"
   },
   {
    "duration": 14,
    "start_time": "2023-08-30T06:40:37.818Z"
   },
   {
    "duration": 84,
    "start_time": "2023-08-30T06:40:37.834Z"
   },
   {
    "duration": 8,
    "start_time": "2023-08-30T06:40:37.920Z"
   },
   {
    "duration": 107,
    "start_time": "2023-08-30T06:40:37.930Z"
   },
   {
    "duration": 9,
    "start_time": "2023-08-30T06:40:38.039Z"
   },
   {
    "duration": 66,
    "start_time": "2023-08-30T06:40:38.050Z"
   },
   {
    "duration": 11,
    "start_time": "2023-08-30T06:40:38.118Z"
   },
   {
    "duration": 83,
    "start_time": "2023-08-30T06:40:38.131Z"
   },
   {
    "duration": 12,
    "start_time": "2023-08-30T06:40:38.215Z"
   },
   {
    "duration": 12,
    "start_time": "2023-08-30T06:54:54.855Z"
   },
   {
    "duration": 16,
    "start_time": "2023-08-30T07:07:23.288Z"
   },
   {
    "duration": 10,
    "start_time": "2023-08-30T07:07:50.606Z"
   },
   {
    "duration": 18,
    "start_time": "2023-08-30T07:19:34.010Z"
   },
   {
    "duration": 11,
    "start_time": "2023-08-30T08:39:28.064Z"
   },
   {
    "duration": 9,
    "start_time": "2023-08-30T08:40:48.984Z"
   },
   {
    "duration": 96,
    "start_time": "2023-08-30T08:47:26.908Z"
   },
   {
    "duration": 23,
    "start_time": "2023-08-30T08:47:32.344Z"
   },
   {
    "duration": 5,
    "start_time": "2023-08-30T08:48:08.983Z"
   },
   {
    "duration": 56,
    "start_time": "2023-08-30T08:48:18.997Z"
   },
   {
    "duration": 5,
    "start_time": "2023-08-30T08:48:37.770Z"
   },
   {
    "duration": 20,
    "start_time": "2023-08-30T08:48:44.053Z"
   },
   {
    "duration": 14,
    "start_time": "2023-08-30T08:48:58.174Z"
   },
   {
    "duration": 39,
    "start_time": "2023-08-30T08:49:03.903Z"
   },
   {
    "duration": 21,
    "start_time": "2023-08-30T08:49:11.588Z"
   },
   {
    "duration": 7,
    "start_time": "2023-08-30T08:49:23.068Z"
   },
   {
    "duration": 5,
    "start_time": "2023-08-30T08:50:15.472Z"
   },
   {
    "duration": 14,
    "start_time": "2023-08-30T08:50:29.835Z"
   },
   {
    "duration": 19,
    "start_time": "2023-08-30T08:50:38.680Z"
   },
   {
    "duration": 16,
    "start_time": "2023-08-30T08:50:51.172Z"
   },
   {
    "duration": 14,
    "start_time": "2023-08-30T08:50:56.195Z"
   },
   {
    "duration": 14,
    "start_time": "2023-08-30T08:51:09.351Z"
   },
   {
    "duration": 17,
    "start_time": "2023-08-30T08:51:26.076Z"
   },
   {
    "duration": 19,
    "start_time": "2023-08-30T08:51:34.301Z"
   },
   {
    "duration": 17,
    "start_time": "2023-08-30T08:51:42.134Z"
   },
   {
    "duration": 45,
    "start_time": "2023-08-30T08:53:18.399Z"
   },
   {
    "duration": 12,
    "start_time": "2023-08-30T08:54:09.789Z"
   },
   {
    "duration": 18,
    "start_time": "2023-08-30T08:54:22.055Z"
   },
   {
    "duration": 13,
    "start_time": "2023-08-30T08:54:23.401Z"
   },
   {
    "duration": 29,
    "start_time": "2023-08-30T08:59:40.223Z"
   },
   {
    "duration": 48,
    "start_time": "2023-08-30T08:59:41.388Z"
   },
   {
    "duration": 34,
    "start_time": "2023-08-30T08:59:42.371Z"
   },
   {
    "duration": 111,
    "start_time": "2023-08-30T08:59:44.614Z"
   },
   {
    "duration": 19,
    "start_time": "2023-08-30T09:02:22.002Z"
   },
   {
    "duration": 16,
    "start_time": "2023-08-30T09:03:57.533Z"
   },
   {
    "duration": 12,
    "start_time": "2023-08-30T09:04:03.964Z"
   },
   {
    "duration": 35,
    "start_time": "2023-08-30T09:06:15.674Z"
   },
   {
    "duration": 27,
    "start_time": "2023-08-30T09:06:17.039Z"
   },
   {
    "duration": 15,
    "start_time": "2023-08-30T09:06:26.033Z"
   },
   {
    "duration": 19,
    "start_time": "2023-08-30T09:06:59.411Z"
   },
   {
    "duration": 23,
    "start_time": "2023-08-30T09:07:06.341Z"
   },
   {
    "duration": 4,
    "start_time": "2023-08-30T09:26:10.625Z"
   },
   {
    "duration": 9,
    "start_time": "2023-08-30T09:26:45.470Z"
   },
   {
    "duration": 466,
    "start_time": "2023-08-30T10:53:05.695Z"
   },
   {
    "duration": 88,
    "start_time": "2023-08-30T10:53:06.163Z"
   },
   {
    "duration": 15,
    "start_time": "2023-08-30T10:53:06.253Z"
   },
   {
    "duration": 91,
    "start_time": "2023-08-30T10:53:06.270Z"
   },
   {
    "duration": 47,
    "start_time": "2023-08-30T10:53:06.363Z"
   },
   {
    "duration": 10,
    "start_time": "2023-08-30T10:53:06.412Z"
   },
   {
    "duration": 8,
    "start_time": "2023-08-30T10:53:06.424Z"
   },
   {
    "duration": 24,
    "start_time": "2023-08-30T10:53:06.433Z"
   },
   {
    "duration": 17,
    "start_time": "2023-08-30T10:53:06.458Z"
   },
   {
    "duration": 730,
    "start_time": "2023-08-30T10:53:06.477Z"
   },
   {
    "duration": 17,
    "start_time": "2023-08-30T10:53:07.209Z"
   },
   {
    "duration": 169,
    "start_time": "2023-08-30T10:53:07.227Z"
   },
   {
    "duration": 293,
    "start_time": "2023-08-30T10:53:07.398Z"
   },
   {
    "duration": 143,
    "start_time": "2023-08-30T10:53:07.694Z"
   },
   {
    "duration": 60,
    "start_time": "2023-08-30T10:53:07.839Z"
   },
   {
    "duration": 106,
    "start_time": "2023-08-30T10:53:07.902Z"
   },
   {
    "duration": 116,
    "start_time": "2023-08-30T10:53:08.010Z"
   },
   {
    "duration": 97,
    "start_time": "2023-08-30T10:53:08.127Z"
   },
   {
    "duration": 99,
    "start_time": "2023-08-30T10:53:08.226Z"
   },
   {
    "duration": 155,
    "start_time": "2023-08-30T10:53:08.326Z"
   },
   {
    "duration": 66,
    "start_time": "2023-08-30T10:53:08.483Z"
   },
   {
    "duration": 30,
    "start_time": "2023-08-30T10:53:08.551Z"
   },
   {
    "duration": 12,
    "start_time": "2023-08-30T10:53:08.583Z"
   },
   {
    "duration": 33,
    "start_time": "2023-08-30T10:53:08.596Z"
   },
   {
    "duration": 111,
    "start_time": "2023-08-30T10:53:08.631Z"
   },
   {
    "duration": 14,
    "start_time": "2023-08-30T10:53:08.744Z"
   },
   {
    "duration": 87,
    "start_time": "2023-08-30T10:53:08.759Z"
   },
   {
    "duration": 7,
    "start_time": "2023-08-30T10:53:08.848Z"
   },
   {
    "duration": 105,
    "start_time": "2023-08-30T10:53:08.857Z"
   },
   {
    "duration": 8,
    "start_time": "2023-08-30T10:53:08.964Z"
   },
   {
    "duration": 71,
    "start_time": "2023-08-30T10:53:08.974Z"
   },
   {
    "duration": 11,
    "start_time": "2023-08-30T10:53:09.047Z"
   },
   {
    "duration": 106,
    "start_time": "2023-08-30T10:53:09.060Z"
   },
   {
    "duration": 23,
    "start_time": "2023-08-30T10:53:09.168Z"
   },
   {
    "duration": 12,
    "start_time": "2023-08-30T10:55:45.304Z"
   },
   {
    "duration": 12,
    "start_time": "2023-08-30T10:56:28.095Z"
   },
   {
    "duration": 512,
    "start_time": "2023-08-30T14:34:54.236Z"
   },
   {
    "duration": 112,
    "start_time": "2023-08-30T14:45:42.894Z"
   },
   {
    "duration": 491,
    "start_time": "2023-08-30T14:45:53.149Z"
   },
   {
    "duration": 107,
    "start_time": "2023-08-30T14:45:53.643Z"
   },
   {
    "duration": 18,
    "start_time": "2023-08-30T14:45:53.752Z"
   },
   {
    "duration": 19,
    "start_time": "2023-08-30T14:45:53.772Z"
   },
   {
    "duration": 44,
    "start_time": "2023-08-30T14:45:53.795Z"
   },
   {
    "duration": 10,
    "start_time": "2023-08-30T14:45:53.842Z"
   },
   {
    "duration": 33,
    "start_time": "2023-08-30T14:45:53.855Z"
   },
   {
    "duration": 1095,
    "start_time": "2023-08-30T14:45:53.891Z"
   },
   {
    "duration": 7,
    "start_time": "2023-08-30T14:45:54.988Z"
   },
   {
    "duration": 130,
    "start_time": "2023-08-30T14:45:54.998Z"
   },
   {
    "duration": 21,
    "start_time": "2023-08-30T14:45:55.135Z"
   },
   {
    "duration": 24,
    "start_time": "2023-08-30T14:45:55.158Z"
   },
   {
    "duration": 21,
    "start_time": "2023-08-30T14:45:55.184Z"
   },
   {
    "duration": 16,
    "start_time": "2023-08-30T14:45:55.208Z"
   },
   {
    "duration": 168,
    "start_time": "2023-08-30T14:45:55.226Z"
   },
   {
    "duration": 21,
    "start_time": "2023-08-30T14:45:55.396Z"
   },
   {
    "duration": 40,
    "start_time": "2023-08-30T14:45:55.420Z"
   },
   {
    "duration": 86,
    "start_time": "2023-08-30T14:45:55.462Z"
   },
   {
    "duration": 8,
    "start_time": "2023-08-30T14:45:55.550Z"
   },
   {
    "duration": 35,
    "start_time": "2023-08-30T14:45:55.560Z"
   },
   {
    "duration": 127,
    "start_time": "2023-08-30T14:45:55.598Z"
   },
   {
    "duration": 11,
    "start_time": "2023-08-30T14:45:55.727Z"
   },
   {
    "duration": 57,
    "start_time": "2023-08-30T14:45:55.739Z"
   },
   {
    "duration": 22,
    "start_time": "2023-08-30T14:45:55.799Z"
   },
   {
    "duration": 84,
    "start_time": "2023-08-30T14:45:55.825Z"
   },
   {
    "duration": 17,
    "start_time": "2023-08-30T14:45:55.915Z"
   },
   {
    "duration": 21,
    "start_time": "2023-08-30T14:47:34.594Z"
   },
   {
    "duration": 41,
    "start_time": "2023-08-30T14:48:33.764Z"
   },
   {
    "duration": 10,
    "start_time": "2023-08-30T14:48:35.214Z"
   },
   {
    "duration": 15,
    "start_time": "2023-08-30T14:51:16.611Z"
   },
   {
    "duration": 17,
    "start_time": "2023-08-30T14:51:51.597Z"
   },
   {
    "duration": 11,
    "start_time": "2023-08-30T14:53:25.882Z"
   },
   {
    "duration": 134,
    "start_time": "2023-08-30T14:54:48.785Z"
   },
   {
    "duration": 12,
    "start_time": "2023-08-30T14:56:16.800Z"
   },
   {
    "duration": 10,
    "start_time": "2023-08-30T14:56:36.789Z"
   },
   {
    "duration": 10,
    "start_time": "2023-08-30T14:56:47.690Z"
   },
   {
    "duration": 14,
    "start_time": "2023-08-30T15:00:06.666Z"
   },
   {
    "duration": 29,
    "start_time": "2023-08-30T15:01:57.534Z"
   },
   {
    "duration": 17,
    "start_time": "2023-08-30T15:02:02.923Z"
   },
   {
    "duration": 403,
    "start_time": "2023-08-30T15:38:06.776Z"
   },
   {
    "duration": 3,
    "start_time": "2023-08-30T15:38:25.513Z"
   },
   {
    "duration": 56,
    "start_time": "2023-08-30T15:38:26.690Z"
   },
   {
    "duration": 19,
    "start_time": "2023-08-30T15:38:27.157Z"
   },
   {
    "duration": 13,
    "start_time": "2023-08-30T15:38:28.398Z"
   },
   {
    "duration": 18,
    "start_time": "2023-08-30T15:38:29.960Z"
   },
   {
    "duration": 8,
    "start_time": "2023-08-30T15:38:30.490Z"
   },
   {
    "duration": 21,
    "start_time": "2023-08-30T15:38:31.788Z"
   },
   {
    "duration": 32,
    "start_time": "2023-08-30T15:41:58.495Z"
   },
   {
    "duration": 20,
    "start_time": "2023-08-30T15:41:59.071Z"
   },
   {
    "duration": 13,
    "start_time": "2023-08-30T15:42:00.906Z"
   },
   {
    "duration": 9,
    "start_time": "2023-08-30T15:42:03.476Z"
   },
   {
    "duration": 6,
    "start_time": "2023-08-30T15:42:03.843Z"
   },
   {
    "duration": 37,
    "start_time": "2023-08-30T15:43:20.823Z"
   },
   {
    "duration": 34,
    "start_time": "2023-08-30T15:43:21.366Z"
   },
   {
    "duration": 16,
    "start_time": "2023-08-30T15:43:21.893Z"
   },
   {
    "duration": 60,
    "start_time": "2023-08-31T07:41:34.998Z"
   },
   {
    "duration": 457,
    "start_time": "2023-08-31T07:41:47.519Z"
   },
   {
    "duration": 105,
    "start_time": "2023-08-31T07:41:48.491Z"
   },
   {
    "duration": 26,
    "start_time": "2023-08-31T07:41:49.381Z"
   },
   {
    "duration": 16,
    "start_time": "2023-08-31T07:41:50.618Z"
   },
   {
    "duration": 17,
    "start_time": "2023-08-31T07:41:51.667Z"
   },
   {
    "duration": 11,
    "start_time": "2023-08-31T07:41:52.131Z"
   },
   {
    "duration": 20,
    "start_time": "2023-08-31T07:41:53.430Z"
   },
   {
    "duration": 1034,
    "start_time": "2023-08-31T07:41:59.413Z"
   },
   {
    "duration": 6,
    "start_time": "2023-08-31T07:42:54.716Z"
   },
   {
    "duration": 551,
    "start_time": "2023-08-31T07:42:59.674Z"
   },
   {
    "duration": 13,
    "start_time": "2023-08-31T07:44:26.676Z"
   },
   {
    "duration": 466,
    "start_time": "2023-08-31T07:44:32.969Z"
   },
   {
    "duration": 9,
    "start_time": "2023-08-31T07:44:45.713Z"
   },
   {
    "duration": 10,
    "start_time": "2023-08-31T08:46:44.246Z"
   },
   {
    "duration": 3,
    "start_time": "2023-08-31T08:46:58.656Z"
   },
   {
    "duration": 56,
    "start_time": "2023-08-31T08:46:59.683Z"
   },
   {
    "duration": 9,
    "start_time": "2023-08-31T08:47:00.263Z"
   },
   {
    "duration": 20,
    "start_time": "2023-08-31T08:47:01.302Z"
   },
   {
    "duration": 22,
    "start_time": "2023-08-31T08:47:02.399Z"
   },
   {
    "duration": 11,
    "start_time": "2023-08-31T08:47:02.937Z"
   },
   {
    "duration": 26,
    "start_time": "2023-08-31T08:47:04.219Z"
   },
   {
    "duration": 14,
    "start_time": "2023-08-31T08:47:05.420Z"
   },
   {
    "duration": 461,
    "start_time": "2023-08-31T08:47:07.183Z"
   },
   {
    "duration": 7,
    "start_time": "2023-08-31T08:47:09.714Z"
   },
   {
    "duration": 105,
    "start_time": "2023-08-31T08:47:13.250Z"
   },
   {
    "duration": 26,
    "start_time": "2023-08-31T08:47:20.094Z"
   },
   {
    "duration": 12,
    "start_time": "2023-08-31T08:47:20.755Z"
   },
   {
    "duration": 9,
    "start_time": "2023-08-31T08:47:21.472Z"
   },
   {
    "duration": 6,
    "start_time": "2023-08-31T08:47:22.346Z"
   },
   {
    "duration": 2997,
    "start_time": "2023-08-31T08:47:24.671Z"
   },
   {
    "duration": 9,
    "start_time": "2023-08-31T09:22:22.246Z"
   },
   {
    "duration": 79,
    "start_time": "2023-08-31T09:22:29.474Z"
   },
   {
    "duration": 17,
    "start_time": "2023-08-31T09:22:30.200Z"
   },
   {
    "duration": 32,
    "start_time": "2023-08-31T09:22:31.113Z"
   },
   {
    "duration": 9,
    "start_time": "2023-08-31T09:22:31.721Z"
   },
   {
    "duration": 22,
    "start_time": "2023-08-31T09:22:33.109Z"
   },
   {
    "duration": 2114,
    "start_time": "2023-08-31T09:22:58.431Z"
   },
   {
    "duration": 9,
    "start_time": "2023-08-31T10:05:17.174Z"
   },
   {
    "duration": 568,
    "start_time": "2023-08-31T10:06:48.043Z"
   },
   {
    "duration": 39,
    "start_time": "2023-08-31T10:07:01.219Z"
   },
   {
    "duration": 6,
    "start_time": "2023-08-31T10:07:48.572Z"
   },
   {
    "duration": 11,
    "start_time": "2023-08-31T10:07:59.377Z"
   },
   {
    "duration": 9,
    "start_time": "2023-08-31T10:12:54.040Z"
   },
   {
    "duration": 8,
    "start_time": "2023-08-31T10:13:11.175Z"
   },
   {
    "duration": 9,
    "start_time": "2023-08-31T10:13:12.184Z"
   },
   {
    "duration": 142,
    "start_time": "2023-08-31T10:13:19.186Z"
   },
   {
    "duration": 9,
    "start_time": "2023-08-31T10:13:20.087Z"
   },
   {
    "duration": 13,
    "start_time": "2023-08-31T10:13:20.781Z"
   },
   {
    "duration": 17,
    "start_time": "2023-08-31T10:13:21.451Z"
   },
   {
    "duration": 8,
    "start_time": "2023-08-31T10:13:22.148Z"
   },
   {
    "duration": 104,
    "start_time": "2023-08-31T10:13:24.477Z"
   },
   {
    "duration": 119,
    "start_time": "2023-08-31T10:13:54.290Z"
   },
   {
    "duration": 93,
    "start_time": "2023-08-31T10:14:25.563Z"
   },
   {
    "duration": 9,
    "start_time": "2023-08-31T11:24:15.914Z"
   },
   {
    "duration": 100,
    "start_time": "2023-08-31T11:24:21.282Z"
   },
   {
    "duration": 15,
    "start_time": "2023-08-31T11:24:21.884Z"
   },
   {
    "duration": 15,
    "start_time": "2023-08-31T11:24:22.452Z"
   },
   {
    "duration": 8,
    "start_time": "2023-08-31T11:24:23.139Z"
   },
   {
    "duration": 19,
    "start_time": "2023-08-31T11:24:53.798Z"
   },
   {
    "duration": 9,
    "start_time": "2023-08-31T11:53:26.788Z"
   },
   {
    "duration": 29,
    "start_time": "2023-08-31T11:53:49.542Z"
   },
   {
    "duration": 126,
    "start_time": "2023-08-31T11:54:11.092Z"
   },
   {
    "duration": 8,
    "start_time": "2023-08-31T11:54:25.206Z"
   },
   {
    "duration": 6,
    "start_time": "2023-08-31T11:55:02.633Z"
   },
   {
    "duration": 1325,
    "start_time": "2023-08-31T12:01:08.248Z"
   },
   {
    "duration": 56,
    "start_time": "2023-08-31T12:01:09.575Z"
   },
   {
    "duration": 16,
    "start_time": "2023-08-31T12:01:09.633Z"
   },
   {
    "duration": 17,
    "start_time": "2023-08-31T12:01:09.650Z"
   },
   {
    "duration": 46,
    "start_time": "2023-08-31T12:01:09.670Z"
   },
   {
    "duration": 8,
    "start_time": "2023-08-31T12:01:09.718Z"
   },
   {
    "duration": 25,
    "start_time": "2023-08-31T12:01:09.728Z"
   },
   {
    "duration": 11,
    "start_time": "2023-08-31T12:01:09.755Z"
   },
   {
    "duration": 493,
    "start_time": "2023-08-31T12:01:09.768Z"
   },
   {
    "duration": 6,
    "start_time": "2023-08-31T12:01:10.263Z"
   },
   {
    "duration": 24,
    "start_time": "2023-08-31T12:01:10.270Z"
   },
   {
    "duration": 24,
    "start_time": "2023-08-31T12:01:10.296Z"
   },
   {
    "duration": 27,
    "start_time": "2023-08-31T12:01:10.322Z"
   },
   {
    "duration": 24,
    "start_time": "2023-08-31T12:01:10.352Z"
   },
   {
    "duration": 16,
    "start_time": "2023-08-31T12:01:10.378Z"
   },
   {
    "duration": 2855,
    "start_time": "2023-08-31T12:01:10.396Z"
   },
   {
    "duration": 36,
    "start_time": "2023-08-31T12:01:13.253Z"
   },
   {
    "duration": 25,
    "start_time": "2023-08-31T12:01:13.291Z"
   },
   {
    "duration": 37,
    "start_time": "2023-08-31T12:01:13.318Z"
   },
   {
    "duration": 11,
    "start_time": "2023-08-31T12:01:13.357Z"
   },
   {
    "duration": 44,
    "start_time": "2023-08-31T12:01:13.369Z"
   },
   {
    "duration": 46,
    "start_time": "2023-08-31T12:01:13.421Z"
   },
   {
    "duration": 9,
    "start_time": "2023-08-31T12:01:13.469Z"
   },
   {
    "duration": 39,
    "start_time": "2023-08-31T12:01:13.479Z"
   },
   {
    "duration": 30,
    "start_time": "2023-08-31T12:01:13.520Z"
   },
   {
    "duration": 8,
    "start_time": "2023-08-31T12:01:13.552Z"
   },
   {
    "duration": 146,
    "start_time": "2023-08-31T12:01:13.561Z"
   },
   {
    "duration": 19,
    "start_time": "2023-08-31T12:01:13.714Z"
   },
   {
    "duration": 13,
    "start_time": "2023-08-31T12:01:13.735Z"
   },
   {
    "duration": 14,
    "start_time": "2023-08-31T12:01:13.750Z"
   },
   {
    "duration": 25,
    "start_time": "2023-08-31T12:01:13.766Z"
   },
   {
    "duration": 2095,
    "start_time": "2023-08-31T12:01:13.793Z"
   },
   {
    "duration": 36,
    "start_time": "2023-08-31T12:01:15.890Z"
   },
   {
    "duration": 12,
    "start_time": "2023-08-31T12:01:15.928Z"
   },
   {
    "duration": 18,
    "start_time": "2023-08-31T12:01:15.942Z"
   },
   {
    "duration": 21,
    "start_time": "2023-08-31T12:01:15.961Z"
   },
   {
    "duration": 1437,
    "start_time": "2023-08-31T23:35:23.483Z"
   },
   {
    "duration": 92,
    "start_time": "2023-08-31T23:35:24.923Z"
   },
   {
    "duration": 13,
    "start_time": "2023-08-31T23:35:25.016Z"
   },
   {
    "duration": 28,
    "start_time": "2023-08-31T23:35:25.031Z"
   },
   {
    "duration": 16,
    "start_time": "2023-08-31T23:35:25.061Z"
   },
   {
    "duration": 10,
    "start_time": "2023-08-31T23:35:25.079Z"
   },
   {
    "duration": 31,
    "start_time": "2023-08-31T23:35:25.091Z"
   },
   {
    "duration": 12,
    "start_time": "2023-08-31T23:35:25.123Z"
   },
   {
    "duration": 432,
    "start_time": "2023-08-31T23:35:25.137Z"
   },
   {
    "duration": 5,
    "start_time": "2023-08-31T23:35:25.571Z"
   },
   {
    "duration": 109,
    "start_time": "2023-08-31T23:35:25.577Z"
   },
   {
    "duration": 16,
    "start_time": "2023-08-31T23:35:25.688Z"
   },
   {
    "duration": 27,
    "start_time": "2023-08-31T23:35:25.706Z"
   },
   {
    "duration": 19,
    "start_time": "2023-08-31T23:35:25.735Z"
   },
   {
    "duration": 26,
    "start_time": "2023-08-31T23:35:25.755Z"
   },
   {
    "duration": 2509,
    "start_time": "2023-08-31T23:35:25.783Z"
   },
   {
    "duration": 98,
    "start_time": "2023-08-31T23:35:28.294Z"
   },
   {
    "duration": 15,
    "start_time": "2023-08-31T23:35:28.394Z"
   },
   {
    "duration": 17,
    "start_time": "2023-08-31T23:35:28.410Z"
   },
   {
    "duration": 16,
    "start_time": "2023-08-31T23:35:28.428Z"
   },
   {
    "duration": 7,
    "start_time": "2023-08-31T23:35:28.445Z"
   },
   {
    "duration": 141,
    "start_time": "2023-08-31T23:35:28.455Z"
   },
   {
    "duration": 12,
    "start_time": "2023-08-31T23:35:28.598Z"
   },
   {
    "duration": 12,
    "start_time": "2023-08-31T23:35:28.611Z"
   },
   {
    "duration": 18,
    "start_time": "2023-08-31T23:35:28.626Z"
   },
   {
    "duration": 8,
    "start_time": "2023-08-31T23:35:28.646Z"
   },
   {
    "duration": 128,
    "start_time": "2023-08-31T23:35:28.656Z"
   },
   {
    "duration": 52,
    "start_time": "2023-08-31T23:35:28.786Z"
   },
   {
    "duration": 12,
    "start_time": "2023-08-31T23:35:28.840Z"
   },
   {
    "duration": 12,
    "start_time": "2023-08-31T23:35:28.854Z"
   },
   {
    "duration": 7,
    "start_time": "2023-08-31T23:35:28.867Z"
   },
   {
    "duration": 1749,
    "start_time": "2023-08-31T23:35:28.876Z"
   },
   {
    "duration": 104,
    "start_time": "2023-08-31T23:35:30.627Z"
   },
   {
    "duration": 13,
    "start_time": "2023-08-31T23:35:30.733Z"
   },
   {
    "duration": 36,
    "start_time": "2023-08-31T23:35:30.747Z"
   },
   {
    "duration": 54,
    "start_time": "2023-08-31T23:35:30.785Z"
   },
   {
    "duration": 42,
    "start_time": "2023-08-31T23:35:30.841Z"
   },
   {
    "duration": 163,
    "start_time": "2023-08-31T23:35:30.885Z"
   },
   {
    "duration": 15,
    "start_time": "2023-08-31T23:38:24.681Z"
   },
   {
    "duration": 13,
    "start_time": "2023-08-31T23:40:42.395Z"
   },
   {
    "duration": 10,
    "start_time": "2023-08-31T23:42:46.690Z"
   },
   {
    "duration": 19,
    "start_time": "2023-08-31T23:44:37.494Z"
   },
   {
    "duration": 20,
    "start_time": "2023-08-31T23:48:37.624Z"
   },
   {
    "duration": 12,
    "start_time": "2023-08-31T23:49:36.603Z"
   },
   {
    "duration": 62,
    "start_time": "2023-09-01T09:14:01.994Z"
   },
   {
    "duration": 1488,
    "start_time": "2023-09-01T09:14:17.346Z"
   },
   {
    "duration": 94,
    "start_time": "2023-09-01T09:14:18.836Z"
   },
   {
    "duration": 14,
    "start_time": "2023-09-01T09:14:18.932Z"
   },
   {
    "duration": 15,
    "start_time": "2023-09-01T09:14:18.948Z"
   },
   {
    "duration": 21,
    "start_time": "2023-09-01T09:14:18.965Z"
   },
   {
    "duration": 26,
    "start_time": "2023-09-01T09:14:18.988Z"
   },
   {
    "duration": 27,
    "start_time": "2023-09-01T09:14:19.017Z"
   },
   {
    "duration": 11,
    "start_time": "2023-09-01T09:14:19.045Z"
   },
   {
    "duration": 482,
    "start_time": "2023-09-01T09:14:19.058Z"
   },
   {
    "duration": 6,
    "start_time": "2023-09-01T09:14:19.542Z"
   },
   {
    "duration": 97,
    "start_time": "2023-09-01T09:14:19.550Z"
   },
   {
    "duration": 19,
    "start_time": "2023-09-01T09:14:19.649Z"
   },
   {
    "duration": 16,
    "start_time": "2023-09-01T09:14:19.671Z"
   },
   {
    "duration": 7,
    "start_time": "2023-09-01T09:14:19.690Z"
   },
   {
    "duration": 6,
    "start_time": "2023-09-01T09:14:19.699Z"
   },
   {
    "duration": 2785,
    "start_time": "2023-09-01T09:14:19.708Z"
   },
   {
    "duration": 109,
    "start_time": "2023-09-01T09:14:22.496Z"
   },
   {
    "duration": 21,
    "start_time": "2023-09-01T09:14:22.608Z"
   },
   {
    "duration": 18,
    "start_time": "2023-09-01T09:14:22.632Z"
   },
   {
    "duration": 9,
    "start_time": "2023-09-01T09:14:22.653Z"
   },
   {
    "duration": 8,
    "start_time": "2023-09-01T09:14:22.665Z"
   },
   {
    "duration": 140,
    "start_time": "2023-09-01T09:14:22.709Z"
   },
   {
    "duration": 9,
    "start_time": "2023-09-01T09:14:22.851Z"
   },
   {
    "duration": 12,
    "start_time": "2023-09-01T09:14:22.861Z"
   },
   {
    "duration": 21,
    "start_time": "2023-09-01T09:14:22.875Z"
   },
   {
    "duration": 11,
    "start_time": "2023-09-01T09:14:22.898Z"
   },
   {
    "duration": 104,
    "start_time": "2023-09-01T09:14:22.911Z"
   },
   {
    "duration": 54,
    "start_time": "2023-09-01T09:14:23.017Z"
   },
   {
    "duration": 13,
    "start_time": "2023-09-01T09:14:23.073Z"
   },
   {
    "duration": 17,
    "start_time": "2023-09-01T09:14:23.087Z"
   },
   {
    "duration": 57,
    "start_time": "2023-09-01T09:14:23.106Z"
   },
   {
    "duration": 1916,
    "start_time": "2023-09-01T09:14:23.165Z"
   },
   {
    "duration": 113,
    "start_time": "2023-09-01T09:14:25.083Z"
   },
   {
    "duration": 11,
    "start_time": "2023-09-01T09:14:25.198Z"
   },
   {
    "duration": 12,
    "start_time": "2023-09-01T09:14:25.211Z"
   },
   {
    "duration": 16,
    "start_time": "2023-09-01T09:14:25.224Z"
   },
   {
    "duration": 24,
    "start_time": "2023-09-01T09:14:25.242Z"
   },
   {
    "duration": 14,
    "start_time": "2023-09-01T09:14:25.268Z"
   },
   {
    "duration": 42,
    "start_time": "2023-09-01T09:14:25.284Z"
   },
   {
    "duration": 15,
    "start_time": "2023-09-01T09:14:25.328Z"
   },
   {
    "duration": 23,
    "start_time": "2023-09-01T09:14:25.348Z"
   },
   {
    "duration": 47,
    "start_time": "2023-09-01T09:14:25.373Z"
   },
   {
    "duration": 10,
    "start_time": "2023-09-01T09:14:25.422Z"
   },
   {
    "duration": 3,
    "start_time": "2023-09-01T09:25:29.102Z"
   },
   {
    "duration": 160,
    "start_time": "2023-09-01T09:27:25.202Z"
   },
   {
    "duration": 5,
    "start_time": "2023-09-01T09:27:52.553Z"
   },
   {
    "duration": 4,
    "start_time": "2023-09-01T09:28:02.091Z"
   },
   {
    "duration": 3,
    "start_time": "2023-09-01T09:29:37.103Z"
   },
   {
    "duration": 12,
    "start_time": "2023-09-01T09:32:35.770Z"
   },
   {
    "duration": 25,
    "start_time": "2023-09-01T09:32:45.466Z"
   },
   {
    "duration": 21,
    "start_time": "2023-09-01T09:33:00.864Z"
   },
   {
    "duration": 3,
    "start_time": "2023-09-01T09:35:31.998Z"
   },
   {
    "duration": 16,
    "start_time": "2023-09-01T09:35:44.082Z"
   },
   {
    "duration": 10,
    "start_time": "2023-09-01T09:35:59.216Z"
   },
   {
    "duration": 7,
    "start_time": "2023-09-01T09:36:16.109Z"
   },
   {
    "duration": 7,
    "start_time": "2023-09-01T09:51:46.524Z"
   },
   {
    "duration": 113,
    "start_time": "2023-09-01T09:52:01.822Z"
   },
   {
    "duration": 102,
    "start_time": "2023-09-01T10:27:38.048Z"
   },
   {
    "duration": 11,
    "start_time": "2023-09-01T10:27:39.096Z"
   },
   {
    "duration": 8,
    "start_time": "2023-09-01T10:28:21.132Z"
   },
   {
    "duration": 22,
    "start_time": "2023-09-01T10:28:42.810Z"
   },
   {
    "duration": 3,
    "start_time": "2023-09-01T10:30:43.756Z"
   },
   {
    "duration": 10,
    "start_time": "2023-09-01T10:31:04.666Z"
   },
   {
    "duration": 12,
    "start_time": "2023-09-01T10:36:22.542Z"
   },
   {
    "duration": 4,
    "start_time": "2023-09-01T10:38:24.437Z"
   },
   {
    "duration": 11,
    "start_time": "2023-09-01T10:38:40.725Z"
   },
   {
    "duration": 15,
    "start_time": "2023-09-01T10:41:37.388Z"
   },
   {
    "duration": 8,
    "start_time": "2023-09-01T10:42:35.076Z"
   },
   {
    "duration": 4,
    "start_time": "2023-09-01T10:47:18.555Z"
   },
   {
    "duration": 15,
    "start_time": "2023-09-01T10:47:37.327Z"
   },
   {
    "duration": 20,
    "start_time": "2023-09-01T10:47:46.707Z"
   },
   {
    "duration": 51,
    "start_time": "2023-09-01T12:41:45.932Z"
   },
   {
    "duration": 7,
    "start_time": "2023-09-01T12:42:10.783Z"
   },
   {
    "duration": 1439,
    "start_time": "2023-09-01T12:43:13.791Z"
   },
   {
    "duration": 93,
    "start_time": "2023-09-01T12:43:15.233Z"
   },
   {
    "duration": 13,
    "start_time": "2023-09-01T12:43:15.327Z"
   },
   {
    "duration": 13,
    "start_time": "2023-09-01T12:43:15.342Z"
   },
   {
    "duration": 15,
    "start_time": "2023-09-01T12:43:15.357Z"
   },
   {
    "duration": 10,
    "start_time": "2023-09-01T12:43:15.374Z"
   },
   {
    "duration": 21,
    "start_time": "2023-09-01T12:43:15.386Z"
   },
   {
    "duration": 11,
    "start_time": "2023-09-01T12:43:15.408Z"
   },
   {
    "duration": 480,
    "start_time": "2023-09-01T12:43:15.421Z"
   },
   {
    "duration": 5,
    "start_time": "2023-09-01T12:43:15.903Z"
   },
   {
    "duration": 141,
    "start_time": "2023-09-01T12:43:15.910Z"
   },
   {
    "duration": 17,
    "start_time": "2023-09-01T12:43:16.053Z"
   },
   {
    "duration": 11,
    "start_time": "2023-09-01T12:43:16.071Z"
   },
   {
    "duration": 8,
    "start_time": "2023-09-01T12:43:16.084Z"
   },
   {
    "duration": 6,
    "start_time": "2023-09-01T12:43:16.093Z"
   },
   {
    "duration": 2655,
    "start_time": "2023-09-01T12:43:16.101Z"
   },
   {
    "duration": 95,
    "start_time": "2023-09-01T12:43:18.758Z"
   },
   {
    "duration": 15,
    "start_time": "2023-09-01T12:43:18.855Z"
   },
   {
    "duration": 33,
    "start_time": "2023-09-01T12:43:18.872Z"
   },
   {
    "duration": 23,
    "start_time": "2023-09-01T12:43:18.906Z"
   },
   {
    "duration": 22,
    "start_time": "2023-09-01T12:43:18.931Z"
   },
   {
    "duration": 274,
    "start_time": "2023-09-01T12:43:18.955Z"
   },
   {
    "duration": 8,
    "start_time": "2023-09-01T12:43:19.231Z"
   },
   {
    "duration": 30,
    "start_time": "2023-09-01T12:43:19.241Z"
   },
   {
    "duration": 34,
    "start_time": "2023-09-01T12:43:19.272Z"
   },
   {
    "duration": 18,
    "start_time": "2023-09-01T12:43:19.307Z"
   },
   {
    "duration": 106,
    "start_time": "2023-09-01T12:43:19.327Z"
   },
   {
    "duration": 51,
    "start_time": "2023-09-01T12:43:19.437Z"
   },
   {
    "duration": 12,
    "start_time": "2023-09-01T12:43:19.490Z"
   },
   {
    "duration": 25,
    "start_time": "2023-09-01T12:43:19.504Z"
   },
   {
    "duration": 24,
    "start_time": "2023-09-01T12:43:19.531Z"
   },
   {
    "duration": 1801,
    "start_time": "2023-09-01T12:43:19.556Z"
   },
   {
    "duration": 114,
    "start_time": "2023-09-01T12:43:21.359Z"
   },
   {
    "duration": 14,
    "start_time": "2023-09-01T12:43:21.475Z"
   },
   {
    "duration": 15,
    "start_time": "2023-09-01T12:43:21.491Z"
   },
   {
    "duration": 13,
    "start_time": "2023-09-01T12:43:21.508Z"
   },
   {
    "duration": 82,
    "start_time": "2023-09-01T12:43:21.523Z"
   },
   {
    "duration": 7,
    "start_time": "2023-09-01T12:43:21.607Z"
   },
   {
    "duration": 17,
    "start_time": "2023-09-01T12:43:21.616Z"
   },
   {
    "duration": 7,
    "start_time": "2023-09-01T12:43:21.634Z"
   },
   {
    "duration": 6,
    "start_time": "2023-09-01T12:43:21.643Z"
   },
   {
    "duration": 9,
    "start_time": "2023-09-01T12:43:21.650Z"
   },
   {
    "duration": 22,
    "start_time": "2023-09-01T12:43:21.660Z"
   },
   {
    "duration": 12,
    "start_time": "2023-09-01T12:43:21.684Z"
   },
   {
    "duration": 2,
    "start_time": "2023-09-01T12:43:21.698Z"
   },
   {
    "duration": 5,
    "start_time": "2023-09-01T12:43:21.702Z"
   },
   {
    "duration": 32,
    "start_time": "2023-09-01T12:43:21.708Z"
   },
   {
    "duration": 4,
    "start_time": "2023-09-01T12:43:21.742Z"
   },
   {
    "duration": 45,
    "start_time": "2023-09-01T12:43:21.748Z"
   },
   {
    "duration": 12,
    "start_time": "2023-09-01T12:43:21.795Z"
   },
   {
    "duration": 16,
    "start_time": "2023-09-01T12:43:21.808Z"
   },
   {
    "duration": 8,
    "start_time": "2023-09-01T12:43:21.826Z"
   },
   {
    "duration": 1521,
    "start_time": "2023-09-01T12:43:21.836Z"
   },
   {
    "duration": 0,
    "start_time": "2023-09-01T12:43:23.359Z"
   },
   {
    "duration": 0,
    "start_time": "2023-09-01T12:43:23.360Z"
   },
   {
    "duration": 0,
    "start_time": "2023-09-01T12:43:23.362Z"
   },
   {
    "duration": 9,
    "start_time": "2023-09-01T12:47:40.663Z"
   },
   {
    "duration": 9,
    "start_time": "2023-09-01T12:48:35.082Z"
   },
   {
    "duration": 9,
    "start_time": "2023-09-01T12:49:06.985Z"
   },
   {
    "duration": 9,
    "start_time": "2023-09-01T12:50:05.272Z"
   },
   {
    "duration": 10,
    "start_time": "2023-09-01T12:53:42.719Z"
   },
   {
    "duration": 9,
    "start_time": "2023-09-01T12:55:39.697Z"
   },
   {
    "duration": 13,
    "start_time": "2023-09-01T13:00:05.340Z"
   },
   {
    "duration": 9,
    "start_time": "2023-09-01T13:02:26.240Z"
   },
   {
    "duration": 11,
    "start_time": "2023-09-01T13:02:49.261Z"
   },
   {
    "duration": 12,
    "start_time": "2023-09-01T13:07:41.206Z"
   },
   {
    "duration": 14,
    "start_time": "2023-09-01T13:08:08.420Z"
   },
   {
    "duration": 13,
    "start_time": "2023-09-01T13:08:17.183Z"
   },
   {
    "duration": 11,
    "start_time": "2023-09-01T13:08:30.289Z"
   },
   {
    "duration": 12,
    "start_time": "2023-09-01T13:08:57.164Z"
   },
   {
    "duration": 11,
    "start_time": "2023-09-01T13:09:27.757Z"
   },
   {
    "duration": 11,
    "start_time": "2023-09-01T13:10:30.828Z"
   },
   {
    "duration": 12,
    "start_time": "2023-09-01T13:10:47.832Z"
   },
   {
    "duration": 15,
    "start_time": "2023-09-01T13:11:01.665Z"
   },
   {
    "duration": 11,
    "start_time": "2023-09-01T13:11:16.591Z"
   },
   {
    "duration": 11,
    "start_time": "2023-09-01T13:11:47.278Z"
   },
   {
    "duration": 1504,
    "start_time": "2023-09-04T07:24:08.866Z"
   },
   {
    "duration": 105,
    "start_time": "2023-09-04T07:24:10.576Z"
   },
   {
    "duration": 24,
    "start_time": "2023-09-04T07:24:10.999Z"
   },
   {
    "duration": 15,
    "start_time": "2023-09-04T07:24:11.767Z"
   },
   {
    "duration": 23,
    "start_time": "2023-09-04T07:24:12.622Z"
   },
   {
    "duration": 8,
    "start_time": "2023-09-04T07:24:13.483Z"
   },
   {
    "duration": 20,
    "start_time": "2023-09-04T07:24:14.739Z"
   },
   {
    "duration": 13,
    "start_time": "2023-09-04T07:24:15.620Z"
   },
   {
    "duration": 445,
    "start_time": "2023-09-04T07:24:17.342Z"
   },
   {
    "duration": 5,
    "start_time": "2023-09-04T07:24:18.644Z"
   },
   {
    "duration": 121,
    "start_time": "2023-09-04T07:24:26.087Z"
   },
   {
    "duration": 22,
    "start_time": "2023-09-04T07:24:26.599Z"
   },
   {
    "duration": 13,
    "start_time": "2023-09-04T07:24:27.069Z"
   },
   {
    "duration": 8,
    "start_time": "2023-09-04T07:24:27.522Z"
   },
   {
    "duration": 6,
    "start_time": "2023-09-04T07:24:28.028Z"
   },
   {
    "duration": 2872,
    "start_time": "2023-09-04T07:24:32.071Z"
   },
   {
    "duration": 98,
    "start_time": "2023-09-04T07:24:35.381Z"
   },
   {
    "duration": 17,
    "start_time": "2023-09-04T07:24:35.958Z"
   },
   {
    "duration": 14,
    "start_time": "2023-09-04T07:24:36.479Z"
   },
   {
    "duration": 8,
    "start_time": "2023-09-04T07:24:37.069Z"
   },
   {
    "duration": 6,
    "start_time": "2023-09-04T07:24:37.662Z"
   },
   {
    "duration": 164,
    "start_time": "2023-09-04T07:24:38.771Z"
   },
   {
    "duration": 9,
    "start_time": "2023-09-04T07:24:39.950Z"
   },
   {
    "duration": 13,
    "start_time": "2023-09-04T07:24:41.773Z"
   },
   {
    "duration": 20,
    "start_time": "2023-09-04T07:24:42.412Z"
   },
   {
    "duration": 9,
    "start_time": "2023-09-04T07:24:43.033Z"
   },
   {
    "duration": 107,
    "start_time": "2023-09-04T07:24:44.942Z"
   },
   {
    "duration": 70,
    "start_time": "2023-09-04T07:24:49.449Z"
   },
   {
    "duration": 13,
    "start_time": "2023-09-04T07:24:50.050Z"
   },
   {
    "duration": 12,
    "start_time": "2023-09-04T07:24:50.776Z"
   },
   {
    "duration": 6,
    "start_time": "2023-09-04T07:24:51.497Z"
   },
   {
    "duration": 2003,
    "start_time": "2023-09-04T07:24:52.968Z"
   },
   {
    "duration": 131,
    "start_time": "2023-09-04T07:24:55.246Z"
   },
   {
    "duration": 26,
    "start_time": "2023-09-04T07:24:55.999Z"
   },
   {
    "duration": 8,
    "start_time": "2023-09-04T07:24:57.266Z"
   },
   {
    "duration": 45,
    "start_time": "2023-09-04T07:24:57.276Z"
   },
   {
    "duration": 101,
    "start_time": "2023-09-04T07:24:59.241Z"
   },
   {
    "duration": 7,
    "start_time": "2023-09-04T07:24:59.869Z"
   },
   {
    "duration": 32,
    "start_time": "2023-09-04T07:25:00.512Z"
   },
   {
    "duration": 9,
    "start_time": "2023-09-04T07:25:08.337Z"
   },
   {
    "duration": 6,
    "start_time": "2023-09-04T07:25:09.798Z"
   },
   {
    "duration": 13,
    "start_time": "2023-09-04T07:25:11.189Z"
   },
   {
    "duration": 14,
    "start_time": "2023-09-04T07:25:14.767Z"
   },
   {
    "duration": 14,
    "start_time": "2023-09-04T07:25:16.080Z"
   },
   {
    "duration": 16,
    "start_time": "2023-09-04T07:26:15.930Z"
   },
   {
    "duration": 13,
    "start_time": "2023-09-04T07:26:18.591Z"
   },
   {
    "duration": 163,
    "start_time": "2023-09-04T07:26:20.874Z"
   },
   {
    "duration": 39,
    "start_time": "2023-09-04T07:26:38.730Z"
   },
   {
    "duration": 31,
    "start_time": "2023-09-04T07:28:04.692Z"
   },
   {
    "duration": 24,
    "start_time": "2023-09-04T07:53:52.263Z"
   },
   {
    "duration": 25,
    "start_time": "2023-09-04T07:54:40.063Z"
   },
   {
    "duration": 26,
    "start_time": "2023-09-04T07:55:10.764Z"
   },
   {
    "duration": 32,
    "start_time": "2023-09-04T07:55:19.195Z"
   },
   {
    "duration": 7,
    "start_time": "2023-09-04T07:56:12.168Z"
   },
   {
    "duration": 13,
    "start_time": "2023-09-04T07:56:26.639Z"
   },
   {
    "duration": 160,
    "start_time": "2023-09-04T08:26:12.268Z"
   },
   {
    "duration": 10,
    "start_time": "2023-09-04T08:27:57.824Z"
   },
   {
    "duration": 31,
    "start_time": "2023-09-04T08:28:31.625Z"
   },
   {
    "duration": 12,
    "start_time": "2023-09-04T08:28:45.960Z"
   },
   {
    "duration": 18,
    "start_time": "2023-09-04T08:28:53.709Z"
   },
   {
    "duration": 9,
    "start_time": "2023-09-04T08:29:50.327Z"
   },
   {
    "duration": 95,
    "start_time": "2023-09-04T08:33:59.150Z"
   },
   {
    "duration": 95,
    "start_time": "2023-09-04T08:34:55.485Z"
   },
   {
    "duration": 10,
    "start_time": "2023-09-04T08:35:19.532Z"
   },
   {
    "duration": 9,
    "start_time": "2023-09-04T08:35:39.472Z"
   },
   {
    "duration": 10,
    "start_time": "2023-09-04T08:35:50.984Z"
   },
   {
    "duration": 11,
    "start_time": "2023-09-04T08:36:02.835Z"
   },
   {
    "duration": 10,
    "start_time": "2023-09-04T08:38:23.726Z"
   },
   {
    "duration": 13,
    "start_time": "2023-09-04T08:38:38.829Z"
   },
   {
    "duration": 13,
    "start_time": "2023-09-04T08:38:50.129Z"
   },
   {
    "duration": 15,
    "start_time": "2023-09-04T08:39:12.503Z"
   },
   {
    "duration": 10,
    "start_time": "2023-09-04T08:39:22.373Z"
   },
   {
    "duration": 14,
    "start_time": "2023-09-04T09:06:52.725Z"
   },
   {
    "duration": 11,
    "start_time": "2023-09-04T09:07:05.143Z"
   },
   {
    "duration": 2312,
    "start_time": "2023-09-04T09:17:55.234Z"
   },
   {
    "duration": 12,
    "start_time": "2023-09-04T09:18:27.562Z"
   },
   {
    "duration": 19,
    "start_time": "2023-09-04T09:39:33.434Z"
   },
   {
    "duration": 14,
    "start_time": "2023-09-04T09:43:01.274Z"
   },
   {
    "duration": 13,
    "start_time": "2023-09-04T09:43:54.911Z"
   },
   {
    "duration": 19,
    "start_time": "2023-09-04T10:01:34.648Z"
   },
   {
    "duration": 2689,
    "start_time": "2023-09-04T10:06:30.762Z"
   },
   {
    "duration": 7,
    "start_time": "2023-09-04T10:07:53.571Z"
   },
   {
    "duration": 2037,
    "start_time": "2023-09-04T10:08:08.336Z"
   },
   {
    "duration": 8,
    "start_time": "2023-09-04T10:08:35.337Z"
   },
   {
    "duration": 12,
    "start_time": "2023-09-04T10:08:57.663Z"
   },
   {
    "duration": 2242,
    "start_time": "2023-09-04T10:09:25.855Z"
   },
   {
    "duration": 27,
    "start_time": "2023-09-04T10:09:48.299Z"
   },
   {
    "duration": 19,
    "start_time": "2023-09-04T10:16:13.577Z"
   },
   {
    "duration": 22,
    "start_time": "2023-09-04T10:16:49.747Z"
   },
   {
    "duration": 8,
    "start_time": "2023-09-04T10:16:50.981Z"
   },
   {
    "duration": 30,
    "start_time": "2023-09-04T10:16:52.170Z"
   },
   {
    "duration": 11,
    "start_time": "2023-09-04T10:17:34.720Z"
   },
   {
    "duration": 48,
    "start_time": "2023-09-04T10:18:02.356Z"
   },
   {
    "duration": 7,
    "start_time": "2023-09-04T10:18:55.936Z"
   },
   {
    "duration": 15,
    "start_time": "2023-09-04T10:18:57.503Z"
   },
   {
    "duration": 19,
    "start_time": "2023-09-04T10:19:00.455Z"
   },
   {
    "duration": 17,
    "start_time": "2023-09-04T10:19:03.144Z"
   },
   {
    "duration": 11,
    "start_time": "2023-09-04T10:19:07.360Z"
   },
   {
    "duration": 20,
    "start_time": "2023-09-04T10:19:11.425Z"
   },
   {
    "duration": 31,
    "start_time": "2023-09-04T10:19:12.654Z"
   },
   {
    "duration": 17,
    "start_time": "2023-09-04T10:19:13.609Z"
   },
   {
    "duration": 11,
    "start_time": "2023-09-04T10:19:15.936Z"
   },
   {
    "duration": 22,
    "start_time": "2023-09-04T10:35:53.628Z"
   },
   {
    "duration": 4,
    "start_time": "2023-09-04T10:36:01.527Z"
   },
   {
    "duration": 4,
    "start_time": "2023-09-04T10:47:37.178Z"
   },
   {
    "duration": 10,
    "start_time": "2023-09-04T10:47:48.644Z"
   },
   {
    "duration": 12,
    "start_time": "2023-09-04T10:47:53.943Z"
   },
   {
    "duration": 3,
    "start_time": "2023-09-04T10:51:46.866Z"
   },
   {
    "duration": 15,
    "start_time": "2023-09-04T10:53:55.621Z"
   },
   {
    "duration": 5,
    "start_time": "2023-09-04T10:54:03.309Z"
   },
   {
    "duration": 14,
    "start_time": "2023-09-04T10:54:28.614Z"
   },
   {
    "duration": 14,
    "start_time": "2023-09-04T11:05:40.418Z"
   },
   {
    "duration": 9,
    "start_time": "2023-09-04T11:05:48.628Z"
   },
   {
    "duration": 7,
    "start_time": "2023-09-04T11:13:06.343Z"
   },
   {
    "duration": 16,
    "start_time": "2023-09-04T11:13:22.107Z"
   },
   {
    "duration": 18,
    "start_time": "2023-09-04T11:14:31.230Z"
   },
   {
    "duration": 19,
    "start_time": "2023-09-04T11:16:10.280Z"
   },
   {
    "duration": 27,
    "start_time": "2023-09-04T11:17:47.111Z"
   },
   {
    "duration": 14,
    "start_time": "2023-09-04T11:32:34.478Z"
   },
   {
    "duration": 31,
    "start_time": "2023-09-04T11:32:45.343Z"
   },
   {
    "duration": 6,
    "start_time": "2023-09-04T11:33:09.635Z"
   },
   {
    "duration": 48,
    "start_time": "2023-09-04T11:35:13.668Z"
   },
   {
    "duration": 13,
    "start_time": "2023-09-04T11:35:23.702Z"
   },
   {
    "duration": 7,
    "start_time": "2023-09-04T11:37:29.037Z"
   },
   {
    "duration": 18,
    "start_time": "2023-09-04T11:38:00.327Z"
   },
   {
    "duration": 10,
    "start_time": "2023-09-04T11:38:05.507Z"
   },
   {
    "duration": 8,
    "start_time": "2023-09-04T11:41:33.285Z"
   },
   {
    "duration": 22,
    "start_time": "2023-09-04T11:42:47.295Z"
   },
   {
    "duration": 123,
    "start_time": "2023-09-04T11:43:36.438Z"
   },
   {
    "duration": 1598,
    "start_time": "2023-09-04T11:43:43.953Z"
   },
   {
    "duration": 1269,
    "start_time": "2023-09-04T11:46:00.510Z"
   },
   {
    "duration": 1343,
    "start_time": "2023-09-04T11:47:20.942Z"
   },
   {
    "duration": 1472,
    "start_time": "2023-09-04T11:47:26.999Z"
   },
   {
    "duration": 1522,
    "start_time": "2023-09-04T11:47:38.917Z"
   },
   {
    "duration": 1671,
    "start_time": "2023-09-04T11:47:59.879Z"
   },
   {
    "duration": 1680,
    "start_time": "2023-09-04T11:48:23.622Z"
   },
   {
    "duration": 2017,
    "start_time": "2023-09-04T11:48:55.102Z"
   },
   {
    "duration": 3,
    "start_time": "2023-09-04T12:06:12.510Z"
   },
   {
    "duration": 17,
    "start_time": "2023-09-04T12:07:09.648Z"
   },
   {
    "duration": 14,
    "start_time": "2023-09-04T12:19:14.949Z"
   },
   {
    "duration": 5,
    "start_time": "2023-09-04T12:19:28.564Z"
   },
   {
    "duration": 3,
    "start_time": "2023-09-04T12:46:44.645Z"
   },
   {
    "duration": 9,
    "start_time": "2023-09-04T12:49:55.446Z"
   },
   {
    "duration": 654,
    "start_time": "2023-09-04T12:50:57.481Z"
   },
   {
    "duration": 6,
    "start_time": "2023-09-04T12:51:10.429Z"
   },
   {
    "duration": 83,
    "start_time": "2023-09-04T12:51:31.805Z"
   },
   {
    "duration": 92,
    "start_time": "2023-09-04T12:51:38.206Z"
   },
   {
    "duration": 6,
    "start_time": "2023-09-04T12:51:50.458Z"
   },
   {
    "duration": 21,
    "start_time": "2023-09-04T12:58:46.423Z"
   },
   {
    "duration": 24,
    "start_time": "2023-09-04T13:01:44.193Z"
   },
   {
    "duration": 15,
    "start_time": "2023-09-04T13:02:31.799Z"
   },
   {
    "duration": 10,
    "start_time": "2023-09-04T13:03:07.915Z"
   },
   {
    "duration": 4,
    "start_time": "2023-09-04T13:04:24.369Z"
   },
   {
    "duration": 10,
    "start_time": "2023-09-04T13:04:43.779Z"
   },
   {
    "duration": 13,
    "start_time": "2023-09-04T13:05:23.900Z"
   },
   {
    "duration": 16,
    "start_time": "2023-09-04T13:07:02.497Z"
   },
   {
    "duration": 100,
    "start_time": "2023-09-04T13:07:18.216Z"
   },
   {
    "duration": 112,
    "start_time": "2023-09-04T13:08:45.712Z"
   },
   {
    "duration": 104,
    "start_time": "2023-09-04T13:09:02.370Z"
   },
   {
    "duration": 134,
    "start_time": "2023-09-04T13:09:07.501Z"
   },
   {
    "duration": 13,
    "start_time": "2023-09-04T13:14:26.436Z"
   },
   {
    "duration": 32,
    "start_time": "2023-09-04T13:14:33.185Z"
   },
   {
    "duration": 99,
    "start_time": "2023-09-04T13:15:06.719Z"
   },
   {
    "duration": 2,
    "start_time": "2023-09-04T13:20:51.478Z"
   },
   {
    "duration": 19,
    "start_time": "2023-09-04T13:24:35.042Z"
   },
   {
    "duration": 107062,
    "start_time": "2023-09-04T13:25:22.358Z"
   },
   {
    "duration": 96,
    "start_time": "2023-09-04T13:42:24.155Z"
   },
   {
    "duration": 12,
    "start_time": "2023-09-04T13:42:29.369Z"
   },
   {
    "duration": 22,
    "start_time": "2023-09-04T13:44:18.225Z"
   },
   {
    "duration": 657352,
    "start_time": "2023-09-04T13:44:36.687Z"
   },
   {
    "duration": 672560,
    "start_time": "2023-09-04T13:59:02.470Z"
   },
   {
    "duration": 0,
    "start_time": "2023-09-04T14:27:00.395Z"
   },
   {
    "duration": 674934,
    "start_time": "2023-09-04T14:30:34.066Z"
   },
   {
    "duration": 3,
    "start_time": "2023-09-04T14:46:30.287Z"
   },
   {
    "duration": 9,
    "start_time": "2023-09-04T14:47:04.395Z"
   },
   {
    "duration": 5,
    "start_time": "2023-09-04T14:47:58.618Z"
   },
   {
    "duration": 10,
    "start_time": "2023-09-04T14:48:13.061Z"
   },
   {
    "duration": 17208,
    "start_time": "2023-09-04T14:54:17.547Z"
   },
   {
    "duration": 19050,
    "start_time": "2023-09-04T14:56:12.660Z"
   },
   {
    "duration": 105188,
    "start_time": "2023-09-04T14:57:08.856Z"
   },
   {
    "duration": 10434,
    "start_time": "2023-09-04T14:59:49.229Z"
   },
   {
    "duration": 13615,
    "start_time": "2023-09-04T15:00:26.023Z"
   },
   {
    "duration": 17137,
    "start_time": "2023-09-04T15:00:52.977Z"
   },
   {
    "duration": 17789,
    "start_time": "2023-09-04T15:01:19.758Z"
   },
   {
    "duration": 17707,
    "start_time": "2023-09-04T15:01:51.046Z"
   },
   {
    "duration": 2941,
    "start_time": "2023-09-04T15:09:31.183Z"
   },
   {
    "duration": 99,
    "start_time": "2023-09-04T15:18:49.972Z"
   },
   {
    "duration": 18,
    "start_time": "2023-09-04T15:19:00.472Z"
   },
   {
    "duration": 12,
    "start_time": "2023-09-04T15:20:07.736Z"
   },
   {
    "duration": 234,
    "start_time": "2023-09-04T15:20:18.121Z"
   },
   {
    "duration": 243,
    "start_time": "2023-09-04T15:20:27.078Z"
   },
   {
    "duration": 289,
    "start_time": "2023-09-04T15:20:41.160Z"
   },
   {
    "duration": 250,
    "start_time": "2023-09-04T15:23:21.087Z"
   },
   {
    "duration": 17,
    "start_time": "2023-09-04T15:24:29.112Z"
   },
   {
    "duration": 275,
    "start_time": "2023-09-04T15:24:37.332Z"
   },
   {
    "duration": 15,
    "start_time": "2023-09-04T15:29:30.451Z"
   },
   {
    "duration": 30,
    "start_time": "2023-09-04T15:29:58.290Z"
   },
   {
    "duration": 3490,
    "start_time": "2023-09-04T15:34:29.784Z"
   },
   {
    "duration": 3087,
    "start_time": "2023-09-04T15:34:43.283Z"
   },
   {
    "duration": 3169,
    "start_time": "2023-09-04T15:34:55.757Z"
   },
   {
    "duration": 2981,
    "start_time": "2023-09-04T15:35:11.771Z"
   },
   {
    "duration": 3017,
    "start_time": "2023-09-04T15:35:18.548Z"
   },
   {
    "duration": 2987,
    "start_time": "2023-09-04T15:35:49.345Z"
   },
   {
    "duration": 3471,
    "start_time": "2023-09-04T15:35:59.561Z"
   },
   {
    "duration": 1652,
    "start_time": "2023-09-04T15:58:10.421Z"
   },
   {
    "duration": 53,
    "start_time": "2023-09-04T15:58:12.075Z"
   },
   {
    "duration": 13,
    "start_time": "2023-09-04T15:58:12.130Z"
   },
   {
    "duration": 44,
    "start_time": "2023-09-04T15:58:12.145Z"
   },
   {
    "duration": 37,
    "start_time": "2023-09-04T15:58:12.191Z"
   },
   {
    "duration": 15,
    "start_time": "2023-09-04T15:58:12.230Z"
   },
   {
    "duration": 56,
    "start_time": "2023-09-04T15:58:12.247Z"
   },
   {
    "duration": 22,
    "start_time": "2023-09-04T15:58:12.305Z"
   },
   {
    "duration": 580,
    "start_time": "2023-09-04T15:58:12.329Z"
   },
   {
    "duration": 6,
    "start_time": "2023-09-04T15:58:12.914Z"
   },
   {
    "duration": 34,
    "start_time": "2023-09-04T15:58:12.922Z"
   },
   {
    "duration": 28,
    "start_time": "2023-09-04T15:58:12.958Z"
   },
   {
    "duration": 107,
    "start_time": "2023-09-04T15:58:12.988Z"
   },
   {
    "duration": 16,
    "start_time": "2023-09-04T15:58:13.097Z"
   },
   {
    "duration": 9,
    "start_time": "2023-09-04T15:58:13.116Z"
   },
   {
    "duration": 2865,
    "start_time": "2023-09-04T15:58:13.127Z"
   },
   {
    "duration": 38,
    "start_time": "2023-09-04T15:58:15.994Z"
   },
   {
    "duration": 32,
    "start_time": "2023-09-04T15:58:16.034Z"
   },
   {
    "duration": 42,
    "start_time": "2023-09-04T15:58:16.068Z"
   },
   {
    "duration": 10,
    "start_time": "2023-09-04T15:58:16.112Z"
   },
   {
    "duration": 31,
    "start_time": "2023-09-04T15:58:16.124Z"
   },
   {
    "duration": 38,
    "start_time": "2023-09-04T15:58:16.157Z"
   },
   {
    "duration": 8,
    "start_time": "2023-09-04T15:58:16.197Z"
   },
   {
    "duration": 17,
    "start_time": "2023-09-04T15:58:16.207Z"
   },
   {
    "duration": 26,
    "start_time": "2023-09-04T15:58:16.226Z"
   },
   {
    "duration": 8,
    "start_time": "2023-09-04T15:58:16.254Z"
   },
   {
    "duration": 105,
    "start_time": "2023-09-04T15:58:16.263Z"
   },
   {
    "duration": 19,
    "start_time": "2023-09-04T15:58:16.373Z"
   },
   {
    "duration": 15,
    "start_time": "2023-09-04T15:58:16.394Z"
   },
   {
    "duration": 28,
    "start_time": "2023-09-04T15:58:16.411Z"
   },
   {
    "duration": 17,
    "start_time": "2023-09-04T15:58:16.440Z"
   },
   {
    "duration": 1865,
    "start_time": "2023-09-04T15:58:16.459Z"
   },
   {
    "duration": 32,
    "start_time": "2023-09-04T15:58:18.326Z"
   },
   {
    "duration": 11,
    "start_time": "2023-09-04T15:58:18.360Z"
   },
   {
    "duration": 55,
    "start_time": "2023-09-04T15:58:18.373Z"
   },
   {
    "duration": 29,
    "start_time": "2023-09-04T15:58:18.430Z"
   },
   {
    "duration": 68,
    "start_time": "2023-09-04T15:58:18.461Z"
   },
   {
    "duration": 7,
    "start_time": "2023-09-04T15:58:18.531Z"
   },
   {
    "duration": 51,
    "start_time": "2023-09-04T15:58:18.540Z"
   },
   {
    "duration": 140,
    "start_time": "2023-09-04T15:58:18.593Z"
   },
   {
    "duration": 0,
    "start_time": "2023-09-04T15:58:18.735Z"
   },
   {
    "duration": 0,
    "start_time": "2023-09-04T15:58:18.737Z"
   },
   {
    "duration": 0,
    "start_time": "2023-09-04T15:58:18.738Z"
   },
   {
    "duration": 0,
    "start_time": "2023-09-04T15:58:18.740Z"
   },
   {
    "duration": 0,
    "start_time": "2023-09-04T15:58:18.741Z"
   },
   {
    "duration": 0,
    "start_time": "2023-09-04T15:58:18.743Z"
   },
   {
    "duration": 0,
    "start_time": "2023-09-04T15:58:18.745Z"
   },
   {
    "duration": 0,
    "start_time": "2023-09-04T15:58:18.747Z"
   },
   {
    "duration": 0,
    "start_time": "2023-09-04T15:58:18.749Z"
   },
   {
    "duration": 0,
    "start_time": "2023-09-04T15:58:18.750Z"
   },
   {
    "duration": 0,
    "start_time": "2023-09-04T15:58:18.752Z"
   },
   {
    "duration": 0,
    "start_time": "2023-09-04T15:58:18.753Z"
   },
   {
    "duration": 0,
    "start_time": "2023-09-04T15:58:18.755Z"
   },
   {
    "duration": 0,
    "start_time": "2023-09-04T15:58:18.757Z"
   },
   {
    "duration": 0,
    "start_time": "2023-09-04T15:58:18.759Z"
   },
   {
    "duration": 0,
    "start_time": "2023-09-04T15:58:18.760Z"
   },
   {
    "duration": 0,
    "start_time": "2023-09-04T15:58:18.762Z"
   },
   {
    "duration": 0,
    "start_time": "2023-09-04T15:58:18.763Z"
   },
   {
    "duration": 0,
    "start_time": "2023-09-04T15:58:18.765Z"
   },
   {
    "duration": 0,
    "start_time": "2023-09-04T15:58:18.810Z"
   },
   {
    "duration": 0,
    "start_time": "2023-09-04T15:58:18.812Z"
   },
   {
    "duration": 0,
    "start_time": "2023-09-04T15:58:18.814Z"
   },
   {
    "duration": 0,
    "start_time": "2023-09-04T15:58:18.815Z"
   },
   {
    "duration": 0,
    "start_time": "2023-09-04T15:58:18.817Z"
   },
   {
    "duration": 0,
    "start_time": "2023-09-04T15:58:18.818Z"
   },
   {
    "duration": 0,
    "start_time": "2023-09-04T15:58:18.820Z"
   },
   {
    "duration": 0,
    "start_time": "2023-09-04T15:58:18.822Z"
   },
   {
    "duration": 0,
    "start_time": "2023-09-04T15:58:18.823Z"
   },
   {
    "duration": 0,
    "start_time": "2023-09-04T15:58:18.825Z"
   },
   {
    "duration": 0,
    "start_time": "2023-09-04T15:58:18.826Z"
   },
   {
    "duration": 0,
    "start_time": "2023-09-04T15:58:18.828Z"
   },
   {
    "duration": 0,
    "start_time": "2023-09-04T15:58:18.829Z"
   },
   {
    "duration": 0,
    "start_time": "2023-09-04T15:58:18.831Z"
   },
   {
    "duration": 0,
    "start_time": "2023-09-04T15:58:18.833Z"
   },
   {
    "duration": 0,
    "start_time": "2023-09-04T15:58:18.834Z"
   },
   {
    "duration": 0,
    "start_time": "2023-09-04T15:58:18.835Z"
   },
   {
    "duration": 0,
    "start_time": "2023-09-04T15:58:18.836Z"
   },
   {
    "duration": 0,
    "start_time": "2023-09-04T15:58:18.837Z"
   },
   {
    "duration": 0,
    "start_time": "2023-09-04T15:58:18.839Z"
   },
   {
    "duration": 0,
    "start_time": "2023-09-04T15:58:18.840Z"
   },
   {
    "duration": 0,
    "start_time": "2023-09-04T15:58:18.841Z"
   }
  ],
  "kernelspec": {
   "display_name": "Python 3 (ipykernel)",
   "language": "python",
   "name": "python3"
  },
  "language_info": {
   "codemirror_mode": {
    "name": "ipython",
    "version": 3
   },
   "file_extension": ".py",
   "mimetype": "text/x-python",
   "name": "python",
   "nbconvert_exporter": "python",
   "pygments_lexer": "ipython3",
   "version": "3.9.13"
  },
  "toc": {
   "base_numbering": 1,
   "nav_menu": {},
   "number_sections": true,
   "sideBar": true,
   "skip_h1_title": true,
   "title_cell": "Table of Contents",
   "title_sidebar": "Contents",
   "toc_cell": false,
   "toc_position": {},
   "toc_section_display": true,
   "toc_window_display": false
  }
 },
 "nbformat": 4,
 "nbformat_minor": 2
}

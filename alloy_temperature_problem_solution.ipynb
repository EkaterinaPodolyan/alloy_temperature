{
 "cells": [
  {
   "cell_type": "markdown",
   "metadata": {},
   "source": [
    "## Анализ и подготовка данных "
   ]
  },
  {
   "cell_type": "code",
   "execution_count": 1,
   "metadata": {},
   "outputs": [],
   "source": [
    "import pandas as pd\n",
    "import numpy as np\n",
    "import matplotlib.pyplot as plt\n",
    "import seaborn as sns\n",
    "import plotly.graph_objects as go\n",
    "from plotly.subplots import make_subplots\n",
    "from sklearn.model_selection import train_test_split\n",
    "from sklearn.linear_model import LinearRegression\n",
    "from sklearn.model_selection import GridSearchCV\n",
    "from sklearn.metrics import mean_absolute_error\n",
    "from sklearn.ensemble import RandomForestRegressor\n",
    "from catboost import CatBoostRegressor\n",
    "from sklearn.preprocessing import StandardScaler\n",
    "from sklearn.model_selection import cross_val_score\n"
   ]
  },
  {
   "cell_type": "markdown",
   "metadata": {},
   "source": [
    "### data_arc"
   ]
  },
  {
   "cell_type": "code",
   "execution_count": 2,
   "metadata": {},
   "outputs": [],
   "source": [
    "try:\n",
    "    data_arc = pd.read_csv('arc_new.csv')\n",
    "except:\n",
    "    print('unable to open the file arc')"
   ]
  },
  {
   "cell_type": "code",
   "execution_count": 3,
   "metadata": {},
   "outputs": [
    {
     "data": {
      "text/plain": [
       "count    14875.000000\n",
       "mean         0.487115\n",
       "std          0.197612\n",
       "min          0.153777\n",
       "25%          0.337190\n",
       "50%          0.441665\n",
       "75%          0.608223\n",
       "max          1.270284\n",
       "Name: Реактивная мощность, dtype: float64"
      ]
     },
     "execution_count": 3,
     "metadata": {},
     "output_type": "execute_result"
    }
   ],
   "source": [
    "data_arc = data_arc[data_arc['Реактивная мощность'] > 0]\n",
    "data_arc['Реактивная мощность'].describe()"
   ]
  },
  {
   "cell_type": "markdown",
   "metadata": {},
   "source": [
    "Итак, приведу в порядок таблицу data_arc. Заменю названия столбцов"
   ]
  },
  {
   "cell_type": "code",
   "execution_count": 4,
   "metadata": {},
   "outputs": [
    {
     "data": {
      "text/html": [
       "<div>\n",
       "<style scoped>\n",
       "    .dataframe tbody tr th:only-of-type {\n",
       "        vertical-align: middle;\n",
       "    }\n",
       "\n",
       "    .dataframe tbody tr th {\n",
       "        vertical-align: top;\n",
       "    }\n",
       "\n",
       "    .dataframe thead th {\n",
       "        text-align: right;\n",
       "    }\n",
       "</style>\n",
       "<table border=\"1\" class=\"dataframe\">\n",
       "  <thead>\n",
       "    <tr style=\"text-align: right;\">\n",
       "      <th></th>\n",
       "      <th>key</th>\n",
       "      <th>arc_start_heat</th>\n",
       "      <th>arc_finish_heat</th>\n",
       "      <th>activ_p</th>\n",
       "      <th>reactiv_p</th>\n",
       "    </tr>\n",
       "  </thead>\n",
       "  <tbody>\n",
       "    <tr>\n",
       "      <th>0</th>\n",
       "      <td>1</td>\n",
       "      <td>2019-05-03 11:02:14</td>\n",
       "      <td>2019-05-03 11:06:02</td>\n",
       "      <td>0.305130</td>\n",
       "      <td>0.211253</td>\n",
       "    </tr>\n",
       "    <tr>\n",
       "      <th>1</th>\n",
       "      <td>1</td>\n",
       "      <td>2019-05-03 11:07:28</td>\n",
       "      <td>2019-05-03 11:10:33</td>\n",
       "      <td>0.765658</td>\n",
       "      <td>0.477438</td>\n",
       "    </tr>\n",
       "    <tr>\n",
       "      <th>2</th>\n",
       "      <td>1</td>\n",
       "      <td>2019-05-03 11:11:44</td>\n",
       "      <td>2019-05-03 11:14:36</td>\n",
       "      <td>0.580313</td>\n",
       "      <td>0.430460</td>\n",
       "    </tr>\n",
       "    <tr>\n",
       "      <th>3</th>\n",
       "      <td>1</td>\n",
       "      <td>2019-05-03 11:18:14</td>\n",
       "      <td>2019-05-03 11:24:19</td>\n",
       "      <td>0.518496</td>\n",
       "      <td>0.379979</td>\n",
       "    </tr>\n",
       "    <tr>\n",
       "      <th>4</th>\n",
       "      <td>1</td>\n",
       "      <td>2019-05-03 11:26:09</td>\n",
       "      <td>2019-05-03 11:28:37</td>\n",
       "      <td>0.867133</td>\n",
       "      <td>0.643691</td>\n",
       "    </tr>\n",
       "  </tbody>\n",
       "</table>\n",
       "</div>"
      ],
      "text/plain": [
       "   key       arc_start_heat      arc_finish_heat   activ_p  reactiv_p\n",
       "0    1  2019-05-03 11:02:14  2019-05-03 11:06:02  0.305130   0.211253\n",
       "1    1  2019-05-03 11:07:28  2019-05-03 11:10:33  0.765658   0.477438\n",
       "2    1  2019-05-03 11:11:44  2019-05-03 11:14:36  0.580313   0.430460\n",
       "3    1  2019-05-03 11:18:14  2019-05-03 11:24:19  0.518496   0.379979\n",
       "4    1  2019-05-03 11:26:09  2019-05-03 11:28:37  0.867133   0.643691"
      ]
     },
     "execution_count": 4,
     "metadata": {},
     "output_type": "execute_result"
    }
   ],
   "source": [
    "col_arc = {'Начало нагрева дугой':'arc_start_heat', 'Конец нагрева дугой':'arc_finish_heat', 'Активная мощность':'activ_p', 'Реактивная мощность':'reactiv_p'}\n",
    "new_data_arc = data_arc.rename(columns=col_arc)\n",
    "new_data_arc.head()"
   ]
  },
  {
   "cell_type": "markdown",
   "metadata": {},
   "source": [
    "Теперь найду полную мощность и добавлю её в новую таблицу. Полная мощность S - это корень из суммы квадратов активной и реактивной мощностей. Посчитаю и организую новый столбец 'total_p'"
   ]
  },
  {
   "cell_type": "code",
   "execution_count": 5,
   "metadata": {},
   "outputs": [
    {
     "data": {
      "text/html": [
       "<div>\n",
       "<style scoped>\n",
       "    .dataframe tbody tr th:only-of-type {\n",
       "        vertical-align: middle;\n",
       "    }\n",
       "\n",
       "    .dataframe tbody tr th {\n",
       "        vertical-align: top;\n",
       "    }\n",
       "\n",
       "    .dataframe thead th {\n",
       "        text-align: right;\n",
       "    }\n",
       "</style>\n",
       "<table border=\"1\" class=\"dataframe\">\n",
       "  <thead>\n",
       "    <tr style=\"text-align: right;\">\n",
       "      <th></th>\n",
       "      <th>key</th>\n",
       "      <th>arc_start_heat</th>\n",
       "      <th>arc_finish_heat</th>\n",
       "      <th>activ_p</th>\n",
       "      <th>reactiv_p</th>\n",
       "      <th>total_p</th>\n",
       "    </tr>\n",
       "  </thead>\n",
       "  <tbody>\n",
       "    <tr>\n",
       "      <th>0</th>\n",
       "      <td>1</td>\n",
       "      <td>2019-05-03 11:02:14</td>\n",
       "      <td>2019-05-03 11:06:02</td>\n",
       "      <td>0.305130</td>\n",
       "      <td>0.211253</td>\n",
       "      <td>0.371123</td>\n",
       "    </tr>\n",
       "    <tr>\n",
       "      <th>1</th>\n",
       "      <td>1</td>\n",
       "      <td>2019-05-03 11:07:28</td>\n",
       "      <td>2019-05-03 11:10:33</td>\n",
       "      <td>0.765658</td>\n",
       "      <td>0.477438</td>\n",
       "      <td>0.902319</td>\n",
       "    </tr>\n",
       "    <tr>\n",
       "      <th>2</th>\n",
       "      <td>1</td>\n",
       "      <td>2019-05-03 11:11:44</td>\n",
       "      <td>2019-05-03 11:14:36</td>\n",
       "      <td>0.580313</td>\n",
       "      <td>0.430460</td>\n",
       "      <td>0.722536</td>\n",
       "    </tr>\n",
       "    <tr>\n",
       "      <th>3</th>\n",
       "      <td>1</td>\n",
       "      <td>2019-05-03 11:18:14</td>\n",
       "      <td>2019-05-03 11:24:19</td>\n",
       "      <td>0.518496</td>\n",
       "      <td>0.379979</td>\n",
       "      <td>0.642824</td>\n",
       "    </tr>\n",
       "    <tr>\n",
       "      <th>4</th>\n",
       "      <td>1</td>\n",
       "      <td>2019-05-03 11:26:09</td>\n",
       "      <td>2019-05-03 11:28:37</td>\n",
       "      <td>0.867133</td>\n",
       "      <td>0.643691</td>\n",
       "      <td>1.079934</td>\n",
       "    </tr>\n",
       "  </tbody>\n",
       "</table>\n",
       "</div>"
      ],
      "text/plain": [
       "   key       arc_start_heat      arc_finish_heat   activ_p  reactiv_p  \\\n",
       "0    1  2019-05-03 11:02:14  2019-05-03 11:06:02  0.305130   0.211253   \n",
       "1    1  2019-05-03 11:07:28  2019-05-03 11:10:33  0.765658   0.477438   \n",
       "2    1  2019-05-03 11:11:44  2019-05-03 11:14:36  0.580313   0.430460   \n",
       "3    1  2019-05-03 11:18:14  2019-05-03 11:24:19  0.518496   0.379979   \n",
       "4    1  2019-05-03 11:26:09  2019-05-03 11:28:37  0.867133   0.643691   \n",
       "\n",
       "    total_p  \n",
       "0  0.371123  \n",
       "1  0.902319  \n",
       "2  0.722536  \n",
       "3  0.642824  \n",
       "4  1.079934  "
      ]
     },
     "execution_count": 5,
     "metadata": {},
     "output_type": "execute_result"
    }
   ],
   "source": [
    "new_data_arc['total_p'] = (new_data_arc['activ_p']**2 + new_data_arc['reactiv_p']**2)**0.5\n",
    "new_data_arc.head()"
   ]
  },
  {
   "cell_type": "markdown",
   "metadata": {},
   "source": [
    "Найду полное время нагрева в секундах и создам столбец arc_total_time"
   ]
  },
  {
   "cell_type": "code",
   "execution_count": 6,
   "metadata": {},
   "outputs": [
    {
     "name": "stdout",
     "output_type": "stream",
     "text": [
      "<class 'pandas.core.frame.DataFrame'>\n",
      "Int64Index: 14875 entries, 0 to 14875\n",
      "Data columns (total 6 columns):\n",
      " #   Column           Non-Null Count  Dtype         \n",
      "---  ------           --------------  -----         \n",
      " 0   key              14875 non-null  int64         \n",
      " 1   arc_start_heat   14875 non-null  datetime64[ns]\n",
      " 2   arc_finish_heat  14875 non-null  datetime64[ns]\n",
      " 3   activ_p          14875 non-null  float64       \n",
      " 4   reactiv_p        14875 non-null  float64       \n",
      " 5   total_p          14875 non-null  float64       \n",
      "dtypes: datetime64[ns](2), float64(3), int64(1)\n",
      "memory usage: 813.5 KB\n"
     ]
    }
   ],
   "source": [
    "new_data_arc['arc_start_heat'] = pd.to_datetime(new_data_arc['arc_start_heat'], format='%Y-%m-%dT%H:%M:%S')\n",
    "new_data_arc['arc_finish_heat'] = pd.to_datetime(new_data_arc['arc_finish_heat'], format='%Y-%m-%dT%H:%M:%S')\n",
    "new_data_arc.info()"
   ]
  },
  {
   "cell_type": "code",
   "execution_count": 7,
   "metadata": {},
   "outputs": [
    {
     "data": {
      "text/html": [
       "<div>\n",
       "<style scoped>\n",
       "    .dataframe tbody tr th:only-of-type {\n",
       "        vertical-align: middle;\n",
       "    }\n",
       "\n",
       "    .dataframe tbody tr th {\n",
       "        vertical-align: top;\n",
       "    }\n",
       "\n",
       "    .dataframe thead th {\n",
       "        text-align: right;\n",
       "    }\n",
       "</style>\n",
       "<table border=\"1\" class=\"dataframe\">\n",
       "  <thead>\n",
       "    <tr style=\"text-align: right;\">\n",
       "      <th></th>\n",
       "      <th>key</th>\n",
       "      <th>arc_start_heat</th>\n",
       "      <th>arc_finish_heat</th>\n",
       "      <th>activ_p</th>\n",
       "      <th>reactiv_p</th>\n",
       "      <th>total_p</th>\n",
       "      <th>arc_total_time</th>\n",
       "    </tr>\n",
       "  </thead>\n",
       "  <tbody>\n",
       "    <tr>\n",
       "      <th>0</th>\n",
       "      <td>1</td>\n",
       "      <td>2019-05-03 11:02:14</td>\n",
       "      <td>2019-05-03 11:06:02</td>\n",
       "      <td>0.305130</td>\n",
       "      <td>0.211253</td>\n",
       "      <td>0.371123</td>\n",
       "      <td>228</td>\n",
       "    </tr>\n",
       "    <tr>\n",
       "      <th>1</th>\n",
       "      <td>1</td>\n",
       "      <td>2019-05-03 11:07:28</td>\n",
       "      <td>2019-05-03 11:10:33</td>\n",
       "      <td>0.765658</td>\n",
       "      <td>0.477438</td>\n",
       "      <td>0.902319</td>\n",
       "      <td>185</td>\n",
       "    </tr>\n",
       "    <tr>\n",
       "      <th>2</th>\n",
       "      <td>1</td>\n",
       "      <td>2019-05-03 11:11:44</td>\n",
       "      <td>2019-05-03 11:14:36</td>\n",
       "      <td>0.580313</td>\n",
       "      <td>0.430460</td>\n",
       "      <td>0.722536</td>\n",
       "      <td>172</td>\n",
       "    </tr>\n",
       "    <tr>\n",
       "      <th>3</th>\n",
       "      <td>1</td>\n",
       "      <td>2019-05-03 11:18:14</td>\n",
       "      <td>2019-05-03 11:24:19</td>\n",
       "      <td>0.518496</td>\n",
       "      <td>0.379979</td>\n",
       "      <td>0.642824</td>\n",
       "      <td>365</td>\n",
       "    </tr>\n",
       "    <tr>\n",
       "      <th>4</th>\n",
       "      <td>1</td>\n",
       "      <td>2019-05-03 11:26:09</td>\n",
       "      <td>2019-05-03 11:28:37</td>\n",
       "      <td>0.867133</td>\n",
       "      <td>0.643691</td>\n",
       "      <td>1.079934</td>\n",
       "      <td>148</td>\n",
       "    </tr>\n",
       "  </tbody>\n",
       "</table>\n",
       "</div>"
      ],
      "text/plain": [
       "   key      arc_start_heat     arc_finish_heat   activ_p  reactiv_p   total_p  \\\n",
       "0    1 2019-05-03 11:02:14 2019-05-03 11:06:02  0.305130   0.211253  0.371123   \n",
       "1    1 2019-05-03 11:07:28 2019-05-03 11:10:33  0.765658   0.477438  0.902319   \n",
       "2    1 2019-05-03 11:11:44 2019-05-03 11:14:36  0.580313   0.430460  0.722536   \n",
       "3    1 2019-05-03 11:18:14 2019-05-03 11:24:19  0.518496   0.379979  0.642824   \n",
       "4    1 2019-05-03 11:26:09 2019-05-03 11:28:37  0.867133   0.643691  1.079934   \n",
       "\n",
       "   arc_total_time  \n",
       "0             228  \n",
       "1             185  \n",
       "2             172  \n",
       "3             365  \n",
       "4             148  "
      ]
     },
     "execution_count": 7,
     "metadata": {},
     "output_type": "execute_result"
    }
   ],
   "source": [
    "new_data_arc['arc_total_time'] = (new_data_arc['arc_finish_heat'] - new_data_arc['arc_start_heat']).dt.seconds\n",
    "new_data_arc.head()"
   ]
  },
  {
   "cell_type": "markdown",
   "metadata": {},
   "source": [
    "Посчитаю количество итераций нагрева"
   ]
  },
  {
   "cell_type": "code",
   "execution_count": 8,
   "metadata": {},
   "outputs": [
    {
     "data": {
      "text/html": [
       "<div>\n",
       "<style scoped>\n",
       "    .dataframe tbody tr th:only-of-type {\n",
       "        vertical-align: middle;\n",
       "    }\n",
       "\n",
       "    .dataframe tbody tr th {\n",
       "        vertical-align: top;\n",
       "    }\n",
       "\n",
       "    .dataframe thead th {\n",
       "        text-align: right;\n",
       "    }\n",
       "</style>\n",
       "<table border=\"1\" class=\"dataframe\">\n",
       "  <thead>\n",
       "    <tr style=\"text-align: right;\">\n",
       "      <th></th>\n",
       "      <th>key</th>\n",
       "      <th>count_heat</th>\n",
       "    </tr>\n",
       "  </thead>\n",
       "  <tbody>\n",
       "    <tr>\n",
       "      <th>0</th>\n",
       "      <td>2108</td>\n",
       "      <td>16</td>\n",
       "    </tr>\n",
       "    <tr>\n",
       "      <th>1</th>\n",
       "      <td>1689</td>\n",
       "      <td>15</td>\n",
       "    </tr>\n",
       "    <tr>\n",
       "      <th>2</th>\n",
       "      <td>1513</td>\n",
       "      <td>15</td>\n",
       "    </tr>\n",
       "    <tr>\n",
       "      <th>3</th>\n",
       "      <td>2567</td>\n",
       "      <td>14</td>\n",
       "    </tr>\n",
       "    <tr>\n",
       "      <th>4</th>\n",
       "      <td>46</td>\n",
       "      <td>13</td>\n",
       "    </tr>\n",
       "    <tr>\n",
       "      <th>...</th>\n",
       "      <td>...</td>\n",
       "      <td>...</td>\n",
       "    </tr>\n",
       "    <tr>\n",
       "      <th>3209</th>\n",
       "      <td>247</td>\n",
       "      <td>1</td>\n",
       "    </tr>\n",
       "    <tr>\n",
       "      <th>3210</th>\n",
       "      <td>2582</td>\n",
       "      <td>1</td>\n",
       "    </tr>\n",
       "    <tr>\n",
       "      <th>3211</th>\n",
       "      <td>943</td>\n",
       "      <td>1</td>\n",
       "    </tr>\n",
       "    <tr>\n",
       "      <th>3212</th>\n",
       "      <td>248</td>\n",
       "      <td>1</td>\n",
       "    </tr>\n",
       "    <tr>\n",
       "      <th>3213</th>\n",
       "      <td>530</td>\n",
       "      <td>1</td>\n",
       "    </tr>\n",
       "  </tbody>\n",
       "</table>\n",
       "<p>3214 rows × 2 columns</p>\n",
       "</div>"
      ],
      "text/plain": [
       "       key  count_heat\n",
       "0     2108          16\n",
       "1     1689          15\n",
       "2     1513          15\n",
       "3     2567          14\n",
       "4       46          13\n",
       "...    ...         ...\n",
       "3209   247           1\n",
       "3210  2582           1\n",
       "3211   943           1\n",
       "3212   248           1\n",
       "3213   530           1\n",
       "\n",
       "[3214 rows x 2 columns]"
      ]
     },
     "execution_count": 8,
     "metadata": {},
     "output_type": "execute_result"
    }
   ],
   "source": [
    "count_heat = data_arc['key'].value_counts().reset_index(name='count_heat').rename(columns={'index':'key'})\n",
    "count_heat"
   ]
  },
  {
   "cell_type": "markdown",
   "metadata": {},
   "source": [
    "Теперь просуммирую все значения по 'key'"
   ]
  },
  {
   "cell_type": "code",
   "execution_count": 9,
   "metadata": {},
   "outputs": [
    {
     "data": {
      "text/html": [
       "<div>\n",
       "<style scoped>\n",
       "    .dataframe tbody tr th:only-of-type {\n",
       "        vertical-align: middle;\n",
       "    }\n",
       "\n",
       "    .dataframe tbody tr th {\n",
       "        vertical-align: top;\n",
       "    }\n",
       "\n",
       "    .dataframe thead th {\n",
       "        text-align: right;\n",
       "    }\n",
       "</style>\n",
       "<table border=\"1\" class=\"dataframe\">\n",
       "  <thead>\n",
       "    <tr style=\"text-align: right;\">\n",
       "      <th></th>\n",
       "      <th>key</th>\n",
       "      <th>activ_p</th>\n",
       "      <th>reactiv_p</th>\n",
       "      <th>total_p</th>\n",
       "      <th>arc_total_time</th>\n",
       "      <th>count_heat</th>\n",
       "    </tr>\n",
       "  </thead>\n",
       "  <tbody>\n",
       "    <tr>\n",
       "      <th>0</th>\n",
       "      <td>1</td>\n",
       "      <td>3.036730</td>\n",
       "      <td>2.142821</td>\n",
       "      <td>3.718736</td>\n",
       "      <td>1098</td>\n",
       "      <td>5</td>\n",
       "    </tr>\n",
       "    <tr>\n",
       "      <th>1</th>\n",
       "      <td>2</td>\n",
       "      <td>2.139408</td>\n",
       "      <td>1.453357</td>\n",
       "      <td>2.588349</td>\n",
       "      <td>811</td>\n",
       "      <td>4</td>\n",
       "    </tr>\n",
       "    <tr>\n",
       "      <th>2</th>\n",
       "      <td>3</td>\n",
       "      <td>4.063641</td>\n",
       "      <td>2.937457</td>\n",
       "      <td>5.019223</td>\n",
       "      <td>655</td>\n",
       "      <td>5</td>\n",
       "    </tr>\n",
       "    <tr>\n",
       "      <th>3</th>\n",
       "      <td>4</td>\n",
       "      <td>2.706489</td>\n",
       "      <td>2.056992</td>\n",
       "      <td>3.400038</td>\n",
       "      <td>741</td>\n",
       "      <td>4</td>\n",
       "    </tr>\n",
       "    <tr>\n",
       "      <th>4</th>\n",
       "      <td>5</td>\n",
       "      <td>2.252950</td>\n",
       "      <td>1.687991</td>\n",
       "      <td>2.816980</td>\n",
       "      <td>869</td>\n",
       "      <td>4</td>\n",
       "    </tr>\n",
       "  </tbody>\n",
       "</table>\n",
       "</div>"
      ],
      "text/plain": [
       "   key   activ_p  reactiv_p   total_p  arc_total_time  count_heat\n",
       "0    1  3.036730   2.142821  3.718736            1098           5\n",
       "1    2  2.139408   1.453357  2.588349             811           4\n",
       "2    3  4.063641   2.937457  5.019223             655           5\n",
       "3    4  2.706489   2.056992  3.400038             741           4\n",
       "4    5  2.252950   1.687991  2.816980             869           4"
      ]
     },
     "execution_count": 9,
     "metadata": {},
     "output_type": "execute_result"
    }
   ],
   "source": [
    "new_data_arc = new_data_arc.groupby(by='key').sum()\n",
    "new_data_arc = new_data_arc.merge(count_heat, on='key')\n",
    "new_data_arc.head()"
   ]
  },
  {
   "cell_type": "markdown",
   "metadata": {},
   "source": [
    "### data_bulk"
   ]
  },
  {
   "cell_type": "code",
   "execution_count": 10,
   "metadata": {},
   "outputs": [],
   "source": [
    "try:\n",
    "    data_bulk_v = pd.read_csv('bulk_new.csv')\n",
    "except:\n",
    "    print('unable to open the file bulk')"
   ]
  },
  {
   "cell_type": "markdown",
   "metadata": {},
   "source": [
    "Теперь в таблице с сыпучими присадками оставлю только те столбцы, в которых заполнено больше половины ячеек"
   ]
  },
  {
   "cell_type": "code",
   "execution_count": 11,
   "metadata": {},
   "outputs": [],
   "source": [
    "new_data_bulk = data_bulk_v[['key', 'Bulk 12', 'Bulk 14', 'Bulk 15']]"
   ]
  },
  {
   "cell_type": "markdown",
   "metadata": {},
   "source": [
    "Приведу в порядок названия столбцов"
   ]
  },
  {
   "cell_type": "code",
   "execution_count": 12,
   "metadata": {},
   "outputs": [
    {
     "data": {
      "text/html": [
       "<div>\n",
       "<style scoped>\n",
       "    .dataframe tbody tr th:only-of-type {\n",
       "        vertical-align: middle;\n",
       "    }\n",
       "\n",
       "    .dataframe tbody tr th {\n",
       "        vertical-align: top;\n",
       "    }\n",
       "\n",
       "    .dataframe thead th {\n",
       "        text-align: right;\n",
       "    }\n",
       "</style>\n",
       "<table border=\"1\" class=\"dataframe\">\n",
       "  <thead>\n",
       "    <tr style=\"text-align: right;\">\n",
       "      <th></th>\n",
       "      <th>key</th>\n",
       "      <th>bulk_12</th>\n",
       "      <th>bulk_14</th>\n",
       "      <th>bulk_15</th>\n",
       "    </tr>\n",
       "  </thead>\n",
       "  <tbody>\n",
       "    <tr>\n",
       "      <th>0</th>\n",
       "      <td>1</td>\n",
       "      <td>206.0</td>\n",
       "      <td>150.0</td>\n",
       "      <td>154.0</td>\n",
       "    </tr>\n",
       "    <tr>\n",
       "      <th>1</th>\n",
       "      <td>2</td>\n",
       "      <td>206.0</td>\n",
       "      <td>149.0</td>\n",
       "      <td>154.0</td>\n",
       "    </tr>\n",
       "    <tr>\n",
       "      <th>2</th>\n",
       "      <td>3</td>\n",
       "      <td>205.0</td>\n",
       "      <td>152.0</td>\n",
       "      <td>153.0</td>\n",
       "    </tr>\n",
       "    <tr>\n",
       "      <th>3</th>\n",
       "      <td>4</td>\n",
       "      <td>207.0</td>\n",
       "      <td>153.0</td>\n",
       "      <td>154.0</td>\n",
       "    </tr>\n",
       "    <tr>\n",
       "      <th>4</th>\n",
       "      <td>5</td>\n",
       "      <td>203.0</td>\n",
       "      <td>151.0</td>\n",
       "      <td>152.0</td>\n",
       "    </tr>\n",
       "  </tbody>\n",
       "</table>\n",
       "</div>"
      ],
      "text/plain": [
       "   key  bulk_12  bulk_14  bulk_15\n",
       "0    1    206.0    150.0    154.0\n",
       "1    2    206.0    149.0    154.0\n",
       "2    3    205.0    152.0    153.0\n",
       "3    4    207.0    153.0    154.0\n",
       "4    5    203.0    151.0    152.0"
      ]
     },
     "execution_count": 12,
     "metadata": {},
     "output_type": "execute_result"
    }
   ],
   "source": [
    "colu_b = {'Bulk 12':'bulk_12', 'Bulk 14':'bulk_14', 'Bulk 15':'bulk_15'}\n",
    "new_data_bulk = new_data_bulk.rename(columns=colu_b)\n",
    "new_data_bulk.head()"
   ]
  },
  {
   "cell_type": "markdown",
   "metadata": {},
   "source": [
    "Заменю пропуски нулями, а тип данных int-ом"
   ]
  },
  {
   "cell_type": "code",
   "execution_count": 13,
   "metadata": {},
   "outputs": [],
   "source": [
    "new_data_bulk = new_data_bulk.fillna(0)"
   ]
  },
  {
   "cell_type": "code",
   "execution_count": 14,
   "metadata": {},
   "outputs": [
    {
     "name": "stdout",
     "output_type": "stream",
     "text": [
      "<class 'pandas.core.frame.DataFrame'>\n",
      "RangeIndex: 3129 entries, 0 to 3128\n",
      "Data columns (total 4 columns):\n",
      " #   Column   Non-Null Count  Dtype\n",
      "---  ------   --------------  -----\n",
      " 0   key      3129 non-null   int32\n",
      " 1   bulk_12  3129 non-null   int32\n",
      " 2   bulk_14  3129 non-null   int32\n",
      " 3   bulk_15  3129 non-null   int32\n",
      "dtypes: int32(4)\n",
      "memory usage: 49.0 KB\n"
     ]
    }
   ],
   "source": [
    "new_data_bulk = new_data_bulk.astype('int32')\n",
    "new_data_bulk.info()"
   ]
  },
  {
   "cell_type": "markdown",
   "metadata": {},
   "source": [
    "### data_gas"
   ]
  },
  {
   "cell_type": "code",
   "execution_count": 15,
   "metadata": {},
   "outputs": [],
   "source": [
    "try:\n",
    "    data_gas = pd.read_csv('gas_new.csv')\n",
    "except:\n",
    "    print('unable to open the file gas')"
   ]
  },
  {
   "cell_type": "markdown",
   "metadata": {},
   "source": [
    "в таблице с инертным газом подправлю название столбца"
   ]
  },
  {
   "cell_type": "code",
   "execution_count": 16,
   "metadata": {},
   "outputs": [
    {
     "data": {
      "text/html": [
       "<div>\n",
       "<style scoped>\n",
       "    .dataframe tbody tr th:only-of-type {\n",
       "        vertical-align: middle;\n",
       "    }\n",
       "\n",
       "    .dataframe tbody tr th {\n",
       "        vertical-align: top;\n",
       "    }\n",
       "\n",
       "    .dataframe thead th {\n",
       "        text-align: right;\n",
       "    }\n",
       "</style>\n",
       "<table border=\"1\" class=\"dataframe\">\n",
       "  <thead>\n",
       "    <tr style=\"text-align: right;\">\n",
       "      <th></th>\n",
       "      <th>key</th>\n",
       "      <th>gas_1</th>\n",
       "    </tr>\n",
       "  </thead>\n",
       "  <tbody>\n",
       "    <tr>\n",
       "      <th>0</th>\n",
       "      <td>1</td>\n",
       "      <td>29.749986</td>\n",
       "    </tr>\n",
       "    <tr>\n",
       "      <th>1</th>\n",
       "      <td>2</td>\n",
       "      <td>12.555561</td>\n",
       "    </tr>\n",
       "    <tr>\n",
       "      <th>2</th>\n",
       "      <td>3</td>\n",
       "      <td>28.554793</td>\n",
       "    </tr>\n",
       "    <tr>\n",
       "      <th>3</th>\n",
       "      <td>4</td>\n",
       "      <td>18.841219</td>\n",
       "    </tr>\n",
       "    <tr>\n",
       "      <th>4</th>\n",
       "      <td>5</td>\n",
       "      <td>5.413692</td>\n",
       "    </tr>\n",
       "  </tbody>\n",
       "</table>\n",
       "</div>"
      ],
      "text/plain": [
       "   key      gas_1\n",
       "0    1  29.749986\n",
       "1    2  12.555561\n",
       "2    3  28.554793\n",
       "3    4  18.841219\n",
       "4    5   5.413692"
      ]
     },
     "execution_count": 16,
     "metadata": {},
     "output_type": "execute_result"
    }
   ],
   "source": [
    "col_g = {'Газ 1': 'gas_1'}\n",
    "new_data_gas = data_gas.rename(columns=col_g)\n",
    "new_data_gas.head()"
   ]
  },
  {
   "cell_type": "markdown",
   "metadata": {},
   "source": [
    "### data_temp"
   ]
  },
  {
   "cell_type": "code",
   "execution_count": 17,
   "metadata": {},
   "outputs": [],
   "source": [
    "try:\n",
    "    data_temp = pd.read_csv('temp_new.csv')\n",
    "except:\n",
    "    print('unable to open the file temp')"
   ]
  },
  {
   "cell_type": "markdown",
   "metadata": {},
   "source": [
    "уберу данные, где температура нагрева ниже 1490 гр."
   ]
  },
  {
   "cell_type": "code",
   "execution_count": 18,
   "metadata": {},
   "outputs": [],
   "source": [
    "data_temp = data_temp.query('Температура > 1490')"
   ]
  },
  {
   "cell_type": "markdown",
   "metadata": {},
   "source": [
    "в таблице data_temp нужно заменить названия столбцов"
   ]
  },
  {
   "cell_type": "code",
   "execution_count": 19,
   "metadata": {},
   "outputs": [
    {
     "data": {
      "text/html": [
       "<div>\n",
       "<style scoped>\n",
       "    .dataframe tbody tr th:only-of-type {\n",
       "        vertical-align: middle;\n",
       "    }\n",
       "\n",
       "    .dataframe tbody tr th {\n",
       "        vertical-align: top;\n",
       "    }\n",
       "\n",
       "    .dataframe thead th {\n",
       "        text-align: right;\n",
       "    }\n",
       "</style>\n",
       "<table border=\"1\" class=\"dataframe\">\n",
       "  <thead>\n",
       "    <tr style=\"text-align: right;\">\n",
       "      <th></th>\n",
       "      <th>key</th>\n",
       "      <th>time_temp</th>\n",
       "      <th>temp</th>\n",
       "    </tr>\n",
       "  </thead>\n",
       "  <tbody>\n",
       "    <tr>\n",
       "      <th>0</th>\n",
       "      <td>1</td>\n",
       "      <td>2019-05-03 11:02:04</td>\n",
       "      <td>1571.0</td>\n",
       "    </tr>\n",
       "    <tr>\n",
       "      <th>1</th>\n",
       "      <td>1</td>\n",
       "      <td>2019-05-03 11:07:18</td>\n",
       "      <td>1604.0</td>\n",
       "    </tr>\n",
       "    <tr>\n",
       "      <th>2</th>\n",
       "      <td>1</td>\n",
       "      <td>2019-05-03 11:11:34</td>\n",
       "      <td>1618.0</td>\n",
       "    </tr>\n",
       "    <tr>\n",
       "      <th>3</th>\n",
       "      <td>1</td>\n",
       "      <td>2019-05-03 11:18:04</td>\n",
       "      <td>1601.0</td>\n",
       "    </tr>\n",
       "    <tr>\n",
       "      <th>4</th>\n",
       "      <td>1</td>\n",
       "      <td>2019-05-03 11:25:59</td>\n",
       "      <td>1606.0</td>\n",
       "    </tr>\n",
       "  </tbody>\n",
       "</table>\n",
       "</div>"
      ],
      "text/plain": [
       "   key            time_temp    temp\n",
       "0    1  2019-05-03 11:02:04  1571.0\n",
       "1    1  2019-05-03 11:07:18  1604.0\n",
       "2    1  2019-05-03 11:11:34  1618.0\n",
       "3    1  2019-05-03 11:18:04  1601.0\n",
       "4    1  2019-05-03 11:25:59  1606.0"
      ]
     },
     "execution_count": 19,
     "metadata": {},
     "output_type": "execute_result"
    }
   ],
   "source": [
    "col_t = {'Время замера':'time_temp', 'Температура':'temp'}\n",
    "data_temp = data_temp.rename(columns=col_t)\n",
    "data_temp.head()"
   ]
  },
  {
   "cell_type": "markdown",
   "metadata": {},
   "source": [
    "Думаю, не смотря на большое количество пропусков, их всё же нужно удалить"
   ]
  },
  {
   "cell_type": "code",
   "execution_count": 20,
   "metadata": {},
   "outputs": [],
   "source": [
    "data_temp = data_temp.dropna().reset_index(drop=True)\n",
    "data_temp=data_temp.sort_values(by='time_temp')"
   ]
  },
  {
   "cell_type": "markdown",
   "metadata": {},
   "source": [
    "Тип данных температуры можно перевести в int"
   ]
  },
  {
   "cell_type": "code",
   "execution_count": 21,
   "metadata": {},
   "outputs": [
    {
     "name": "stdout",
     "output_type": "stream",
     "text": [
      "<class 'pandas.core.frame.DataFrame'>\n",
      "Int64Index: 14660 entries, 0 to 14659\n",
      "Data columns (total 3 columns):\n",
      " #   Column     Non-Null Count  Dtype \n",
      "---  ------     --------------  ----- \n",
      " 0   key        14660 non-null  int64 \n",
      " 1   time_temp  14660 non-null  object\n",
      " 2   temp       14660 non-null  int32 \n",
      "dtypes: int32(1), int64(1), object(1)\n",
      "memory usage: 400.9+ KB\n"
     ]
    }
   ],
   "source": [
    "data_temp['temp'] = data_temp['temp'].astype('int32')\n",
    "data_temp.info()"
   ]
  },
  {
   "cell_type": "markdown",
   "metadata": {},
   "source": [
    "готово"
   ]
  },
  {
   "cell_type": "markdown",
   "metadata": {},
   "source": [
    "Посмотрю сколько замеряли температуру для каждой key."
   ]
  },
  {
   "cell_type": "code",
   "execution_count": 22,
   "metadata": {},
   "outputs": [
    {
     "data": {
      "text/html": [
       "<div>\n",
       "<style scoped>\n",
       "    .dataframe tbody tr th:only-of-type {\n",
       "        vertical-align: middle;\n",
       "    }\n",
       "\n",
       "    .dataframe tbody tr th {\n",
       "        vertical-align: top;\n",
       "    }\n",
       "\n",
       "    .dataframe thead th {\n",
       "        text-align: right;\n",
       "    }\n",
       "</style>\n",
       "<table border=\"1\" class=\"dataframe\">\n",
       "  <thead>\n",
       "    <tr style=\"text-align: right;\">\n",
       "      <th></th>\n",
       "      <th>key</th>\n",
       "      <th>times_measur</th>\n",
       "    </tr>\n",
       "  </thead>\n",
       "  <tbody>\n",
       "    <tr>\n",
       "      <th>3210</th>\n",
       "      <td>3236</td>\n",
       "      <td>1</td>\n",
       "    </tr>\n",
       "    <tr>\n",
       "      <th>3211</th>\n",
       "      <td>2963</td>\n",
       "      <td>1</td>\n",
       "    </tr>\n",
       "    <tr>\n",
       "      <th>3212</th>\n",
       "      <td>2955</td>\n",
       "      <td>1</td>\n",
       "    </tr>\n",
       "    <tr>\n",
       "      <th>3213</th>\n",
       "      <td>2947</td>\n",
       "      <td>1</td>\n",
       "    </tr>\n",
       "    <tr>\n",
       "      <th>3214</th>\n",
       "      <td>2525</td>\n",
       "      <td>1</td>\n",
       "    </tr>\n",
       "  </tbody>\n",
       "</table>\n",
       "</div>"
      ],
      "text/plain": [
       "       key  times_measur\n",
       "3210  3236             1\n",
       "3211  2963             1\n",
       "3212  2955             1\n",
       "3213  2947             1\n",
       "3214  2525             1"
      ]
     },
     "execution_count": 22,
     "metadata": {},
     "output_type": "execute_result"
    }
   ],
   "source": [
    "times_measur = data_temp['key'].value_counts().reset_index(name='times_measur').rename(columns={'index':'key'})\n",
    "times_measur.tail()"
   ]
  },
  {
   "cell_type": "markdown",
   "metadata": {},
   "source": [
    "есть строки с одним замером температуры"
   ]
  },
  {
   "cell_type": "code",
   "execution_count": 23,
   "metadata": {},
   "outputs": [
    {
     "data": {
      "text/html": [
       "<div>\n",
       "<style scoped>\n",
       "    .dataframe tbody tr th:only-of-type {\n",
       "        vertical-align: middle;\n",
       "    }\n",
       "\n",
       "    .dataframe tbody tr th {\n",
       "        vertical-align: top;\n",
       "    }\n",
       "\n",
       "    .dataframe thead th {\n",
       "        text-align: right;\n",
       "    }\n",
       "</style>\n",
       "<table border=\"1\" class=\"dataframe\">\n",
       "  <thead>\n",
       "    <tr style=\"text-align: right;\">\n",
       "      <th></th>\n",
       "      <th>key</th>\n",
       "      <th>times_measur</th>\n",
       "    </tr>\n",
       "  </thead>\n",
       "  <tbody>\n",
       "    <tr>\n",
       "      <th>2821</th>\n",
       "      <td>195</td>\n",
       "      <td>1</td>\n",
       "    </tr>\n",
       "    <tr>\n",
       "      <th>2629</th>\n",
       "      <td>279</td>\n",
       "      <td>1</td>\n",
       "    </tr>\n",
       "    <tr>\n",
       "      <th>2829</th>\n",
       "      <td>2500</td>\n",
       "      <td>1</td>\n",
       "    </tr>\n",
       "    <tr>\n",
       "      <th>2865</th>\n",
       "      <td>2501</td>\n",
       "      <td>1</td>\n",
       "    </tr>\n",
       "    <tr>\n",
       "      <th>2689</th>\n",
       "      <td>2502</td>\n",
       "      <td>1</td>\n",
       "    </tr>\n",
       "    <tr>\n",
       "      <th>...</th>\n",
       "      <td>...</td>\n",
       "      <td>...</td>\n",
       "    </tr>\n",
       "    <tr>\n",
       "      <th>2806</th>\n",
       "      <td>2594</td>\n",
       "      <td>1</td>\n",
       "    </tr>\n",
       "    <tr>\n",
       "      <th>3003</th>\n",
       "      <td>2595</td>\n",
       "      <td>1</td>\n",
       "    </tr>\n",
       "    <tr>\n",
       "      <th>2778</th>\n",
       "      <td>2596</td>\n",
       "      <td>1</td>\n",
       "    </tr>\n",
       "    <tr>\n",
       "      <th>2854</th>\n",
       "      <td>2597</td>\n",
       "      <td>1</td>\n",
       "    </tr>\n",
       "    <tr>\n",
       "      <th>2702</th>\n",
       "      <td>2598</td>\n",
       "      <td>1</td>\n",
       "    </tr>\n",
       "  </tbody>\n",
       "</table>\n",
       "<p>100 rows × 2 columns</p>\n",
       "</div>"
      ],
      "text/plain": [
       "       key  times_measur\n",
       "2821   195             1\n",
       "2629   279             1\n",
       "2829  2500             1\n",
       "2865  2501             1\n",
       "2689  2502             1\n",
       "...    ...           ...\n",
       "2806  2594             1\n",
       "3003  2595             1\n",
       "2778  2596             1\n",
       "2854  2597             1\n",
       "2702  2598             1\n",
       "\n",
       "[100 rows x 2 columns]"
      ]
     },
     "execution_count": 23,
     "metadata": {},
     "output_type": "execute_result"
    }
   ],
   "source": [
    "times_measur.query('times_measur < 2').sort_values(by='key', ascending=True).head(100)"
   ]
  },
  {
   "cell_type": "markdown",
   "metadata": {},
   "source": [
    "начиная с партии 2500 количество замеров равно единице. Придётся убрать партии, начиная с 2500, так как первое измерение будет равно последнему. Кроме того, необходимо добавить в новую таблицу значения разницы конечной и начальной температур."
   ]
  },
  {
   "cell_type": "code",
   "execution_count": 24,
   "metadata": {},
   "outputs": [
    {
     "data": {
      "text/html": [
       "<div>\n",
       "<style scoped>\n",
       "    .dataframe tbody tr th:only-of-type {\n",
       "        vertical-align: middle;\n",
       "    }\n",
       "\n",
       "    .dataframe tbody tr th {\n",
       "        vertical-align: top;\n",
       "    }\n",
       "\n",
       "    .dataframe thead th {\n",
       "        text-align: right;\n",
       "    }\n",
       "</style>\n",
       "<table border=\"1\" class=\"dataframe\">\n",
       "  <thead>\n",
       "    <tr style=\"text-align: right;\">\n",
       "      <th></th>\n",
       "      <th>key</th>\n",
       "      <th>start_t_ts</th>\n",
       "      <th>finish_t_ts</th>\n",
       "      <th>start_t</th>\n",
       "      <th>finish_t</th>\n",
       "      <th>diffr_temp_time</th>\n",
       "    </tr>\n",
       "  </thead>\n",
       "  <tbody>\n",
       "    <tr>\n",
       "      <th>0</th>\n",
       "      <td>1</td>\n",
       "      <td>2019-05-03 11:02:04</td>\n",
       "      <td>2019-05-03 11:30:38</td>\n",
       "      <td>1571</td>\n",
       "      <td>1613</td>\n",
       "      <td>1714</td>\n",
       "    </tr>\n",
       "    <tr>\n",
       "      <th>1</th>\n",
       "      <td>2</td>\n",
       "      <td>2019-05-03 11:34:04</td>\n",
       "      <td>2019-05-03 11:55:09</td>\n",
       "      <td>1581</td>\n",
       "      <td>1602</td>\n",
       "      <td>1265</td>\n",
       "    </tr>\n",
       "    <tr>\n",
       "      <th>2</th>\n",
       "      <td>3</td>\n",
       "      <td>2019-05-03 12:06:44</td>\n",
       "      <td>2019-05-03 12:35:57</td>\n",
       "      <td>1596</td>\n",
       "      <td>1599</td>\n",
       "      <td>1753</td>\n",
       "    </tr>\n",
       "    <tr>\n",
       "      <th>3</th>\n",
       "      <td>4</td>\n",
       "      <td>2019-05-03 12:39:27</td>\n",
       "      <td>2019-05-03 12:59:47</td>\n",
       "      <td>1601</td>\n",
       "      <td>1625</td>\n",
       "      <td>1220</td>\n",
       "    </tr>\n",
       "    <tr>\n",
       "      <th>4</th>\n",
       "      <td>5</td>\n",
       "      <td>2019-05-03 13:11:03</td>\n",
       "      <td>2019-05-03 13:36:39</td>\n",
       "      <td>1576</td>\n",
       "      <td>1602</td>\n",
       "      <td>1536</td>\n",
       "    </tr>\n",
       "  </tbody>\n",
       "</table>\n",
       "</div>"
      ],
      "text/plain": [
       "   key          start_t_ts         finish_t_ts  start_t  finish_t  \\\n",
       "0    1 2019-05-03 11:02:04 2019-05-03 11:30:38     1571      1613   \n",
       "1    2 2019-05-03 11:34:04 2019-05-03 11:55:09     1581      1602   \n",
       "2    3 2019-05-03 12:06:44 2019-05-03 12:35:57     1596      1599   \n",
       "3    4 2019-05-03 12:39:27 2019-05-03 12:59:47     1601      1625   \n",
       "4    5 2019-05-03 13:11:03 2019-05-03 13:36:39     1576      1602   \n",
       "\n",
       "   diffr_temp_time  \n",
       "0             1714  \n",
       "1             1265  \n",
       "2             1753  \n",
       "3             1220  \n",
       "4             1536  "
      ]
     },
     "execution_count": 24,
     "metadata": {},
     "output_type": "execute_result"
    }
   ],
   "source": [
    "new_data_temp = data_temp.groupby(by='key').agg(['first', 'last']).reset_index()\n",
    "new_data_temp.columns = ['key', 'start_t_ts', 'finish_t_ts', 'start_t', 'finish_t']\n",
    "new_data_temp['start_t_ts'] = pd.to_datetime(new_data_temp['start_t_ts'], format='%Y-%m-%dT%H:%M:%S')\n",
    "new_data_temp['finish_t_ts'] = pd.to_datetime(new_data_temp['finish_t_ts'], format='%Y-%m-%dT%H:%M:%S')\n",
    "new_data_temp['diffr_temp_time'] = (new_data_temp['finish_t_ts'] - new_data_temp['start_t_ts']).dt.seconds\n",
    "new_data_temp.head()"
   ]
  },
  {
   "cell_type": "markdown",
   "metadata": {},
   "source": [
    "Думаю, нам больше не нужны столбцы start_t_ts и finish_t_ts. Я их убираю"
   ]
  },
  {
   "cell_type": "code",
   "execution_count": 25,
   "metadata": {},
   "outputs": [
    {
     "data": {
      "text/html": [
       "<div>\n",
       "<style scoped>\n",
       "    .dataframe tbody tr th:only-of-type {\n",
       "        vertical-align: middle;\n",
       "    }\n",
       "\n",
       "    .dataframe tbody tr th {\n",
       "        vertical-align: top;\n",
       "    }\n",
       "\n",
       "    .dataframe thead th {\n",
       "        text-align: right;\n",
       "    }\n",
       "</style>\n",
       "<table border=\"1\" class=\"dataframe\">\n",
       "  <thead>\n",
       "    <tr style=\"text-align: right;\">\n",
       "      <th></th>\n",
       "      <th>key</th>\n",
       "      <th>start_t</th>\n",
       "      <th>finish_t</th>\n",
       "      <th>diffr_temp_time</th>\n",
       "    </tr>\n",
       "  </thead>\n",
       "  <tbody>\n",
       "    <tr>\n",
       "      <th>0</th>\n",
       "      <td>1</td>\n",
       "      <td>1571</td>\n",
       "      <td>1613</td>\n",
       "      <td>1714</td>\n",
       "    </tr>\n",
       "    <tr>\n",
       "      <th>1</th>\n",
       "      <td>2</td>\n",
       "      <td>1581</td>\n",
       "      <td>1602</td>\n",
       "      <td>1265</td>\n",
       "    </tr>\n",
       "    <tr>\n",
       "      <th>2</th>\n",
       "      <td>3</td>\n",
       "      <td>1596</td>\n",
       "      <td>1599</td>\n",
       "      <td>1753</td>\n",
       "    </tr>\n",
       "    <tr>\n",
       "      <th>3</th>\n",
       "      <td>4</td>\n",
       "      <td>1601</td>\n",
       "      <td>1625</td>\n",
       "      <td>1220</td>\n",
       "    </tr>\n",
       "    <tr>\n",
       "      <th>4</th>\n",
       "      <td>5</td>\n",
       "      <td>1576</td>\n",
       "      <td>1602</td>\n",
       "      <td>1536</td>\n",
       "    </tr>\n",
       "  </tbody>\n",
       "</table>\n",
       "</div>"
      ],
      "text/plain": [
       "   key  start_t  finish_t  diffr_temp_time\n",
       "0    1     1571      1613             1714\n",
       "1    2     1581      1602             1265\n",
       "2    3     1596      1599             1753\n",
       "3    4     1601      1625             1220\n",
       "4    5     1576      1602             1536"
      ]
     },
     "execution_count": 25,
     "metadata": {},
     "output_type": "execute_result"
    }
   ],
   "source": [
    "del_col = ['start_t_ts', 'finish_t_ts']\n",
    "new_data_temp = new_data_temp.drop(columns=del_col)\n",
    "new_data_temp.head()"
   ]
  },
  {
   "cell_type": "code",
   "execution_count": 26,
   "metadata": {},
   "outputs": [
    {
     "data": {
      "text/html": [
       "<div>\n",
       "<style scoped>\n",
       "    .dataframe tbody tr th:only-of-type {\n",
       "        vertical-align: middle;\n",
       "    }\n",
       "\n",
       "    .dataframe tbody tr th {\n",
       "        vertical-align: top;\n",
       "    }\n",
       "\n",
       "    .dataframe thead th {\n",
       "        text-align: right;\n",
       "    }\n",
       "</style>\n",
       "<table border=\"1\" class=\"dataframe\">\n",
       "  <thead>\n",
       "    <tr style=\"text-align: right;\">\n",
       "      <th></th>\n",
       "      <th>key</th>\n",
       "      <th>start_t</th>\n",
       "      <th>finish_t</th>\n",
       "      <th>diffr_temp_time</th>\n",
       "    </tr>\n",
       "  </thead>\n",
       "  <tbody>\n",
       "    <tr>\n",
       "      <th>2472</th>\n",
       "      <td>2495</td>\n",
       "      <td>1570</td>\n",
       "      <td>1591</td>\n",
       "      <td>1380</td>\n",
       "    </tr>\n",
       "    <tr>\n",
       "      <th>2473</th>\n",
       "      <td>2496</td>\n",
       "      <td>1554</td>\n",
       "      <td>1591</td>\n",
       "      <td>1705</td>\n",
       "    </tr>\n",
       "    <tr>\n",
       "      <th>2474</th>\n",
       "      <td>2497</td>\n",
       "      <td>1571</td>\n",
       "      <td>1589</td>\n",
       "      <td>962</td>\n",
       "    </tr>\n",
       "    <tr>\n",
       "      <th>2475</th>\n",
       "      <td>2498</td>\n",
       "      <td>1591</td>\n",
       "      <td>1594</td>\n",
       "      <td>1520</td>\n",
       "    </tr>\n",
       "    <tr>\n",
       "      <th>2476</th>\n",
       "      <td>2499</td>\n",
       "      <td>1569</td>\n",
       "      <td>1603</td>\n",
       "      <td>1537</td>\n",
       "    </tr>\n",
       "  </tbody>\n",
       "</table>\n",
       "</div>"
      ],
      "text/plain": [
       "       key  start_t  finish_t  diffr_temp_time\n",
       "2472  2495     1570      1591             1380\n",
       "2473  2496     1554      1591             1705\n",
       "2474  2497     1571      1589              962\n",
       "2475  2498     1591      1594             1520\n",
       "2476  2499     1569      1603             1537"
      ]
     },
     "execution_count": 26,
     "metadata": {},
     "output_type": "execute_result"
    }
   ],
   "source": [
    "new_data_temp = new_data_temp.query('key < 2500')\n",
    "new_data_temp.tail()"
   ]
  },
  {
   "cell_type": "markdown",
   "metadata": {},
   "source": [
    "### data_wire"
   ]
  },
  {
   "cell_type": "code",
   "execution_count": 27,
   "metadata": {},
   "outputs": [],
   "source": [
    "try:\n",
    "    data_wire_v = pd.read_csv('/datasets/data_wire_new.csv')\n",
    "except:\n",
    "    print('unable to open the file wire') "
   ]
  },
  {
   "cell_type": "markdown",
   "metadata": {},
   "source": [
    "Для конечной таблицы с проволокой оставлю только первый столбец, как единственный, в котором заполненность больше половины"
   ]
  },
  {
   "cell_type": "code",
   "execution_count": 28,
   "metadata": {},
   "outputs": [
    {
     "data": {
      "text/html": [
       "<div>\n",
       "<style scoped>\n",
       "    .dataframe tbody tr th:only-of-type {\n",
       "        vertical-align: middle;\n",
       "    }\n",
       "\n",
       "    .dataframe tbody tr th {\n",
       "        vertical-align: top;\n",
       "    }\n",
       "\n",
       "    .dataframe thead th {\n",
       "        text-align: right;\n",
       "    }\n",
       "</style>\n",
       "<table border=\"1\" class=\"dataframe\">\n",
       "  <thead>\n",
       "    <tr style=\"text-align: right;\">\n",
       "      <th></th>\n",
       "      <th>key</th>\n",
       "      <th>wire_1</th>\n",
       "    </tr>\n",
       "  </thead>\n",
       "  <tbody>\n",
       "    <tr>\n",
       "      <th>0</th>\n",
       "      <td>1</td>\n",
       "      <td>60.059998</td>\n",
       "    </tr>\n",
       "    <tr>\n",
       "      <th>1</th>\n",
       "      <td>2</td>\n",
       "      <td>96.052315</td>\n",
       "    </tr>\n",
       "    <tr>\n",
       "      <th>2</th>\n",
       "      <td>3</td>\n",
       "      <td>91.160157</td>\n",
       "    </tr>\n",
       "    <tr>\n",
       "      <th>3</th>\n",
       "      <td>4</td>\n",
       "      <td>89.063515</td>\n",
       "    </tr>\n",
       "    <tr>\n",
       "      <th>4</th>\n",
       "      <td>5</td>\n",
       "      <td>89.238236</td>\n",
       "    </tr>\n",
       "  </tbody>\n",
       "</table>\n",
       "</div>"
      ],
      "text/plain": [
       "   key     wire_1\n",
       "0    1  60.059998\n",
       "1    2  96.052315\n",
       "2    3  91.160157\n",
       "3    4  89.063515\n",
       "4    5  89.238236"
      ]
     },
     "execution_count": 28,
     "metadata": {},
     "output_type": "execute_result"
    }
   ],
   "source": [
    "new_data_wire_v = data_wire_v[['key', 'Wire 1']]\n",
    "col_w = {'key':'key', 'Wire 1':'wire_1'}\n",
    "new_data_wire_v = new_data_wire_v.rename(columns=col_w)\n",
    "new_data_wire_v.head()"
   ]
  },
  {
   "cell_type": "markdown",
   "metadata": {},
   "source": [
    "### Группировка финальной таблицы"
   ]
  },
  {
   "cell_type": "markdown",
   "metadata": {},
   "source": [
    "Создам новую таблицу, группируя по 'key', для того, чтобы скормить её моделям"
   ]
  },
  {
   "cell_type": "code",
   "execution_count": 29,
   "metadata": {},
   "outputs": [
    {
     "data": {
      "text/html": [
       "<div>\n",
       "<style scoped>\n",
       "    .dataframe tbody tr th:only-of-type {\n",
       "        vertical-align: middle;\n",
       "    }\n",
       "\n",
       "    .dataframe tbody tr th {\n",
       "        vertical-align: top;\n",
       "    }\n",
       "\n",
       "    .dataframe thead th {\n",
       "        text-align: right;\n",
       "    }\n",
       "</style>\n",
       "<table border=\"1\" class=\"dataframe\">\n",
       "  <thead>\n",
       "    <tr style=\"text-align: right;\">\n",
       "      <th></th>\n",
       "      <th>key</th>\n",
       "      <th>activ_p</th>\n",
       "      <th>reactiv_p</th>\n",
       "      <th>total_p</th>\n",
       "      <th>arc_total_time</th>\n",
       "      <th>count_heat</th>\n",
       "      <th>bulk_12</th>\n",
       "      <th>bulk_14</th>\n",
       "      <th>bulk_15</th>\n",
       "    </tr>\n",
       "  </thead>\n",
       "  <tbody>\n",
       "    <tr>\n",
       "      <th>0</th>\n",
       "      <td>1</td>\n",
       "      <td>3.036730</td>\n",
       "      <td>2.142821</td>\n",
       "      <td>3.718736</td>\n",
       "      <td>1098</td>\n",
       "      <td>5</td>\n",
       "      <td>206.0</td>\n",
       "      <td>150.0</td>\n",
       "      <td>154.0</td>\n",
       "    </tr>\n",
       "    <tr>\n",
       "      <th>1</th>\n",
       "      <td>2</td>\n",
       "      <td>2.139408</td>\n",
       "      <td>1.453357</td>\n",
       "      <td>2.588349</td>\n",
       "      <td>811</td>\n",
       "      <td>4</td>\n",
       "      <td>206.0</td>\n",
       "      <td>149.0</td>\n",
       "      <td>154.0</td>\n",
       "    </tr>\n",
       "    <tr>\n",
       "      <th>2</th>\n",
       "      <td>3</td>\n",
       "      <td>4.063641</td>\n",
       "      <td>2.937457</td>\n",
       "      <td>5.019223</td>\n",
       "      <td>655</td>\n",
       "      <td>5</td>\n",
       "      <td>205.0</td>\n",
       "      <td>152.0</td>\n",
       "      <td>153.0</td>\n",
       "    </tr>\n",
       "    <tr>\n",
       "      <th>3</th>\n",
       "      <td>4</td>\n",
       "      <td>2.706489</td>\n",
       "      <td>2.056992</td>\n",
       "      <td>3.400038</td>\n",
       "      <td>741</td>\n",
       "      <td>4</td>\n",
       "      <td>207.0</td>\n",
       "      <td>153.0</td>\n",
       "      <td>154.0</td>\n",
       "    </tr>\n",
       "    <tr>\n",
       "      <th>4</th>\n",
       "      <td>5</td>\n",
       "      <td>2.252950</td>\n",
       "      <td>1.687991</td>\n",
       "      <td>2.816980</td>\n",
       "      <td>869</td>\n",
       "      <td>4</td>\n",
       "      <td>203.0</td>\n",
       "      <td>151.0</td>\n",
       "      <td>152.0</td>\n",
       "    </tr>\n",
       "  </tbody>\n",
       "</table>\n",
       "</div>"
      ],
      "text/plain": [
       "   key   activ_p  reactiv_p   total_p  arc_total_time  count_heat  bulk_12  \\\n",
       "0    1  3.036730   2.142821  3.718736            1098           5    206.0   \n",
       "1    2  2.139408   1.453357  2.588349             811           4    206.0   \n",
       "2    3  4.063641   2.937457  5.019223             655           5    205.0   \n",
       "3    4  2.706489   2.056992  3.400038             741           4    207.0   \n",
       "4    5  2.252950   1.687991  2.816980             869           4    203.0   \n",
       "\n",
       "   bulk_14  bulk_15  \n",
       "0    150.0    154.0  \n",
       "1    149.0    154.0  \n",
       "2    152.0    153.0  \n",
       "3    153.0    154.0  \n",
       "4    151.0    152.0  "
      ]
     },
     "execution_count": 29,
     "metadata": {},
     "output_type": "execute_result"
    }
   ],
   "source": [
    "new_data = new_data_arc.merge(new_data_bulk, on='key', how='left')\n",
    "new_data.head()"
   ]
  },
  {
   "cell_type": "code",
   "execution_count": 30,
   "metadata": {},
   "outputs": [
    {
     "data": {
      "text/html": [
       "<div>\n",
       "<style scoped>\n",
       "    .dataframe tbody tr th:only-of-type {\n",
       "        vertical-align: middle;\n",
       "    }\n",
       "\n",
       "    .dataframe tbody tr th {\n",
       "        vertical-align: top;\n",
       "    }\n",
       "\n",
       "    .dataframe thead th {\n",
       "        text-align: right;\n",
       "    }\n",
       "</style>\n",
       "<table border=\"1\" class=\"dataframe\">\n",
       "  <thead>\n",
       "    <tr style=\"text-align: right;\">\n",
       "      <th></th>\n",
       "      <th>key</th>\n",
       "      <th>activ_p</th>\n",
       "      <th>reactiv_p</th>\n",
       "      <th>total_p</th>\n",
       "      <th>arc_total_time</th>\n",
       "      <th>count_heat</th>\n",
       "      <th>bulk_12</th>\n",
       "      <th>bulk_14</th>\n",
       "      <th>bulk_15</th>\n",
       "      <th>gas_1</th>\n",
       "    </tr>\n",
       "  </thead>\n",
       "  <tbody>\n",
       "    <tr>\n",
       "      <th>0</th>\n",
       "      <td>1</td>\n",
       "      <td>3.036730</td>\n",
       "      <td>2.142821</td>\n",
       "      <td>3.718736</td>\n",
       "      <td>1098</td>\n",
       "      <td>5</td>\n",
       "      <td>206.0</td>\n",
       "      <td>150.0</td>\n",
       "      <td>154.0</td>\n",
       "      <td>29.749986</td>\n",
       "    </tr>\n",
       "    <tr>\n",
       "      <th>1</th>\n",
       "      <td>2</td>\n",
       "      <td>2.139408</td>\n",
       "      <td>1.453357</td>\n",
       "      <td>2.588349</td>\n",
       "      <td>811</td>\n",
       "      <td>4</td>\n",
       "      <td>206.0</td>\n",
       "      <td>149.0</td>\n",
       "      <td>154.0</td>\n",
       "      <td>12.555561</td>\n",
       "    </tr>\n",
       "    <tr>\n",
       "      <th>2</th>\n",
       "      <td>3</td>\n",
       "      <td>4.063641</td>\n",
       "      <td>2.937457</td>\n",
       "      <td>5.019223</td>\n",
       "      <td>655</td>\n",
       "      <td>5</td>\n",
       "      <td>205.0</td>\n",
       "      <td>152.0</td>\n",
       "      <td>153.0</td>\n",
       "      <td>28.554793</td>\n",
       "    </tr>\n",
       "    <tr>\n",
       "      <th>3</th>\n",
       "      <td>4</td>\n",
       "      <td>2.706489</td>\n",
       "      <td>2.056992</td>\n",
       "      <td>3.400038</td>\n",
       "      <td>741</td>\n",
       "      <td>4</td>\n",
       "      <td>207.0</td>\n",
       "      <td>153.0</td>\n",
       "      <td>154.0</td>\n",
       "      <td>18.841219</td>\n",
       "    </tr>\n",
       "    <tr>\n",
       "      <th>4</th>\n",
       "      <td>5</td>\n",
       "      <td>2.252950</td>\n",
       "      <td>1.687991</td>\n",
       "      <td>2.816980</td>\n",
       "      <td>869</td>\n",
       "      <td>4</td>\n",
       "      <td>203.0</td>\n",
       "      <td>151.0</td>\n",
       "      <td>152.0</td>\n",
       "      <td>5.413692</td>\n",
       "    </tr>\n",
       "  </tbody>\n",
       "</table>\n",
       "</div>"
      ],
      "text/plain": [
       "   key   activ_p  reactiv_p   total_p  arc_total_time  count_heat  bulk_12  \\\n",
       "0    1  3.036730   2.142821  3.718736            1098           5    206.0   \n",
       "1    2  2.139408   1.453357  2.588349             811           4    206.0   \n",
       "2    3  4.063641   2.937457  5.019223             655           5    205.0   \n",
       "3    4  2.706489   2.056992  3.400038             741           4    207.0   \n",
       "4    5  2.252950   1.687991  2.816980             869           4    203.0   \n",
       "\n",
       "   bulk_14  bulk_15      gas_1  \n",
       "0    150.0    154.0  29.749986  \n",
       "1    149.0    154.0  12.555561  \n",
       "2    152.0    153.0  28.554793  \n",
       "3    153.0    154.0  18.841219  \n",
       "4    151.0    152.0   5.413692  "
      ]
     },
     "execution_count": 30,
     "metadata": {},
     "output_type": "execute_result"
    }
   ],
   "source": [
    "new_data = new_data.merge(new_data_gas, on='key', how='left')\n",
    "new_data.head()"
   ]
  },
  {
   "cell_type": "code",
   "execution_count": 31,
   "metadata": {},
   "outputs": [
    {
     "data": {
      "text/html": [
       "<div>\n",
       "<style scoped>\n",
       "    .dataframe tbody tr th:only-of-type {\n",
       "        vertical-align: middle;\n",
       "    }\n",
       "\n",
       "    .dataframe tbody tr th {\n",
       "        vertical-align: top;\n",
       "    }\n",
       "\n",
       "    .dataframe thead th {\n",
       "        text-align: right;\n",
       "    }\n",
       "</style>\n",
       "<table border=\"1\" class=\"dataframe\">\n",
       "  <thead>\n",
       "    <tr style=\"text-align: right;\">\n",
       "      <th></th>\n",
       "      <th>key</th>\n",
       "      <th>activ_p</th>\n",
       "      <th>reactiv_p</th>\n",
       "      <th>total_p</th>\n",
       "      <th>arc_total_time</th>\n",
       "      <th>count_heat</th>\n",
       "      <th>bulk_12</th>\n",
       "      <th>bulk_14</th>\n",
       "      <th>bulk_15</th>\n",
       "      <th>gas_1</th>\n",
       "      <th>start_t</th>\n",
       "      <th>finish_t</th>\n",
       "      <th>diffr_temp_time</th>\n",
       "    </tr>\n",
       "  </thead>\n",
       "  <tbody>\n",
       "    <tr>\n",
       "      <th>0</th>\n",
       "      <td>1</td>\n",
       "      <td>3.036730</td>\n",
       "      <td>2.142821</td>\n",
       "      <td>3.718736</td>\n",
       "      <td>1098</td>\n",
       "      <td>5</td>\n",
       "      <td>206.0</td>\n",
       "      <td>150.0</td>\n",
       "      <td>154.0</td>\n",
       "      <td>29.749986</td>\n",
       "      <td>1571.0</td>\n",
       "      <td>1613.0</td>\n",
       "      <td>1714.0</td>\n",
       "    </tr>\n",
       "    <tr>\n",
       "      <th>1</th>\n",
       "      <td>2</td>\n",
       "      <td>2.139408</td>\n",
       "      <td>1.453357</td>\n",
       "      <td>2.588349</td>\n",
       "      <td>811</td>\n",
       "      <td>4</td>\n",
       "      <td>206.0</td>\n",
       "      <td>149.0</td>\n",
       "      <td>154.0</td>\n",
       "      <td>12.555561</td>\n",
       "      <td>1581.0</td>\n",
       "      <td>1602.0</td>\n",
       "      <td>1265.0</td>\n",
       "    </tr>\n",
       "    <tr>\n",
       "      <th>2</th>\n",
       "      <td>3</td>\n",
       "      <td>4.063641</td>\n",
       "      <td>2.937457</td>\n",
       "      <td>5.019223</td>\n",
       "      <td>655</td>\n",
       "      <td>5</td>\n",
       "      <td>205.0</td>\n",
       "      <td>152.0</td>\n",
       "      <td>153.0</td>\n",
       "      <td>28.554793</td>\n",
       "      <td>1596.0</td>\n",
       "      <td>1599.0</td>\n",
       "      <td>1753.0</td>\n",
       "    </tr>\n",
       "    <tr>\n",
       "      <th>3</th>\n",
       "      <td>4</td>\n",
       "      <td>2.706489</td>\n",
       "      <td>2.056992</td>\n",
       "      <td>3.400038</td>\n",
       "      <td>741</td>\n",
       "      <td>4</td>\n",
       "      <td>207.0</td>\n",
       "      <td>153.0</td>\n",
       "      <td>154.0</td>\n",
       "      <td>18.841219</td>\n",
       "      <td>1601.0</td>\n",
       "      <td>1625.0</td>\n",
       "      <td>1220.0</td>\n",
       "    </tr>\n",
       "    <tr>\n",
       "      <th>4</th>\n",
       "      <td>5</td>\n",
       "      <td>2.252950</td>\n",
       "      <td>1.687991</td>\n",
       "      <td>2.816980</td>\n",
       "      <td>869</td>\n",
       "      <td>4</td>\n",
       "      <td>203.0</td>\n",
       "      <td>151.0</td>\n",
       "      <td>152.0</td>\n",
       "      <td>5.413692</td>\n",
       "      <td>1576.0</td>\n",
       "      <td>1602.0</td>\n",
       "      <td>1536.0</td>\n",
       "    </tr>\n",
       "  </tbody>\n",
       "</table>\n",
       "</div>"
      ],
      "text/plain": [
       "   key   activ_p  reactiv_p   total_p  arc_total_time  count_heat  bulk_12  \\\n",
       "0    1  3.036730   2.142821  3.718736            1098           5    206.0   \n",
       "1    2  2.139408   1.453357  2.588349             811           4    206.0   \n",
       "2    3  4.063641   2.937457  5.019223             655           5    205.0   \n",
       "3    4  2.706489   2.056992  3.400038             741           4    207.0   \n",
       "4    5  2.252950   1.687991  2.816980             869           4    203.0   \n",
       "\n",
       "   bulk_14  bulk_15      gas_1  start_t  finish_t  diffr_temp_time  \n",
       "0    150.0    154.0  29.749986   1571.0    1613.0           1714.0  \n",
       "1    149.0    154.0  12.555561   1581.0    1602.0           1265.0  \n",
       "2    152.0    153.0  28.554793   1596.0    1599.0           1753.0  \n",
       "3    153.0    154.0  18.841219   1601.0    1625.0           1220.0  \n",
       "4    151.0    152.0   5.413692   1576.0    1602.0           1536.0  "
      ]
     },
     "execution_count": 31,
     "metadata": {},
     "output_type": "execute_result"
    }
   ],
   "source": [
    "new_data = new_data.merge(new_data_temp, on='key', how='left')\n",
    "new_data.head()"
   ]
  },
  {
   "cell_type": "code",
   "execution_count": 32,
   "metadata": {},
   "outputs": [
    {
     "data": {
      "text/html": [
       "<div>\n",
       "<style scoped>\n",
       "    .dataframe tbody tr th:only-of-type {\n",
       "        vertical-align: middle;\n",
       "    }\n",
       "\n",
       "    .dataframe tbody tr th {\n",
       "        vertical-align: top;\n",
       "    }\n",
       "\n",
       "    .dataframe thead th {\n",
       "        text-align: right;\n",
       "    }\n",
       "</style>\n",
       "<table border=\"1\" class=\"dataframe\">\n",
       "  <thead>\n",
       "    <tr style=\"text-align: right;\">\n",
       "      <th></th>\n",
       "      <th>key</th>\n",
       "      <th>activ_p</th>\n",
       "      <th>reactiv_p</th>\n",
       "      <th>total_p</th>\n",
       "      <th>arc_total_time</th>\n",
       "      <th>count_heat</th>\n",
       "      <th>bulk_12</th>\n",
       "      <th>bulk_14</th>\n",
       "      <th>bulk_15</th>\n",
       "      <th>gas_1</th>\n",
       "      <th>start_t</th>\n",
       "      <th>finish_t</th>\n",
       "      <th>diffr_temp_time</th>\n",
       "      <th>wire_1</th>\n",
       "    </tr>\n",
       "  </thead>\n",
       "  <tbody>\n",
       "    <tr>\n",
       "      <th>0</th>\n",
       "      <td>1</td>\n",
       "      <td>3.036730</td>\n",
       "      <td>2.142821</td>\n",
       "      <td>3.718736</td>\n",
       "      <td>1098</td>\n",
       "      <td>5</td>\n",
       "      <td>206.0</td>\n",
       "      <td>150.0</td>\n",
       "      <td>154.0</td>\n",
       "      <td>29.749986</td>\n",
       "      <td>1571.0</td>\n",
       "      <td>1613.0</td>\n",
       "      <td>1714.0</td>\n",
       "      <td>60.059998</td>\n",
       "    </tr>\n",
       "    <tr>\n",
       "      <th>1</th>\n",
       "      <td>2</td>\n",
       "      <td>2.139408</td>\n",
       "      <td>1.453357</td>\n",
       "      <td>2.588349</td>\n",
       "      <td>811</td>\n",
       "      <td>4</td>\n",
       "      <td>206.0</td>\n",
       "      <td>149.0</td>\n",
       "      <td>154.0</td>\n",
       "      <td>12.555561</td>\n",
       "      <td>1581.0</td>\n",
       "      <td>1602.0</td>\n",
       "      <td>1265.0</td>\n",
       "      <td>96.052315</td>\n",
       "    </tr>\n",
       "    <tr>\n",
       "      <th>2</th>\n",
       "      <td>3</td>\n",
       "      <td>4.063641</td>\n",
       "      <td>2.937457</td>\n",
       "      <td>5.019223</td>\n",
       "      <td>655</td>\n",
       "      <td>5</td>\n",
       "      <td>205.0</td>\n",
       "      <td>152.0</td>\n",
       "      <td>153.0</td>\n",
       "      <td>28.554793</td>\n",
       "      <td>1596.0</td>\n",
       "      <td>1599.0</td>\n",
       "      <td>1753.0</td>\n",
       "      <td>91.160157</td>\n",
       "    </tr>\n",
       "    <tr>\n",
       "      <th>3</th>\n",
       "      <td>4</td>\n",
       "      <td>2.706489</td>\n",
       "      <td>2.056992</td>\n",
       "      <td>3.400038</td>\n",
       "      <td>741</td>\n",
       "      <td>4</td>\n",
       "      <td>207.0</td>\n",
       "      <td>153.0</td>\n",
       "      <td>154.0</td>\n",
       "      <td>18.841219</td>\n",
       "      <td>1601.0</td>\n",
       "      <td>1625.0</td>\n",
       "      <td>1220.0</td>\n",
       "      <td>89.063515</td>\n",
       "    </tr>\n",
       "    <tr>\n",
       "      <th>4</th>\n",
       "      <td>5</td>\n",
       "      <td>2.252950</td>\n",
       "      <td>1.687991</td>\n",
       "      <td>2.816980</td>\n",
       "      <td>869</td>\n",
       "      <td>4</td>\n",
       "      <td>203.0</td>\n",
       "      <td>151.0</td>\n",
       "      <td>152.0</td>\n",
       "      <td>5.413692</td>\n",
       "      <td>1576.0</td>\n",
       "      <td>1602.0</td>\n",
       "      <td>1536.0</td>\n",
       "      <td>89.238236</td>\n",
       "    </tr>\n",
       "  </tbody>\n",
       "</table>\n",
       "</div>"
      ],
      "text/plain": [
       "   key   activ_p  reactiv_p   total_p  arc_total_time  count_heat  bulk_12  \\\n",
       "0    1  3.036730   2.142821  3.718736            1098           5    206.0   \n",
       "1    2  2.139408   1.453357  2.588349             811           4    206.0   \n",
       "2    3  4.063641   2.937457  5.019223             655           5    205.0   \n",
       "3    4  2.706489   2.056992  3.400038             741           4    207.0   \n",
       "4    5  2.252950   1.687991  2.816980             869           4    203.0   \n",
       "\n",
       "   bulk_14  bulk_15      gas_1  start_t  finish_t  diffr_temp_time     wire_1  \n",
       "0    150.0    154.0  29.749986   1571.0    1613.0           1714.0  60.059998  \n",
       "1    149.0    154.0  12.555561   1581.0    1602.0           1265.0  96.052315  \n",
       "2    152.0    153.0  28.554793   1596.0    1599.0           1753.0  91.160157  \n",
       "3    153.0    154.0  18.841219   1601.0    1625.0           1220.0  89.063515  \n",
       "4    151.0    152.0   5.413692   1576.0    1602.0           1536.0  89.238236  "
      ]
     },
     "execution_count": 32,
     "metadata": {},
     "output_type": "execute_result"
    }
   ],
   "source": [
    "new_data = new_data.merge(new_data_wire_v, on='key', how='left')\n",
    "new_data.head()"
   ]
  },
  {
   "cell_type": "code",
   "execution_count": 33,
   "metadata": {},
   "outputs": [
    {
     "data": {
      "text/html": [
       "<div>\n",
       "<style scoped>\n",
       "    .dataframe tbody tr th:only-of-type {\n",
       "        vertical-align: middle;\n",
       "    }\n",
       "\n",
       "    .dataframe tbody tr th {\n",
       "        vertical-align: top;\n",
       "    }\n",
       "\n",
       "    .dataframe thead th {\n",
       "        text-align: right;\n",
       "    }\n",
       "</style>\n",
       "<table border=\"1\" class=\"dataframe\">\n",
       "  <thead>\n",
       "    <tr style=\"text-align: right;\">\n",
       "      <th></th>\n",
       "      <th>key</th>\n",
       "      <th>activ_p</th>\n",
       "      <th>reactiv_p</th>\n",
       "      <th>total_p</th>\n",
       "      <th>arc_total_time</th>\n",
       "      <th>count_heat</th>\n",
       "      <th>bulk_12</th>\n",
       "      <th>bulk_14</th>\n",
       "      <th>bulk_15</th>\n",
       "      <th>gas_1</th>\n",
       "      <th>start_t</th>\n",
       "      <th>finish_t</th>\n",
       "      <th>diffr_temp_time</th>\n",
       "      <th>wire_1</th>\n",
       "    </tr>\n",
       "  </thead>\n",
       "  <tbody>\n",
       "    <tr>\n",
       "      <th>0</th>\n",
       "      <td>1</td>\n",
       "      <td>3.036730</td>\n",
       "      <td>2.142821</td>\n",
       "      <td>3.718736</td>\n",
       "      <td>1098</td>\n",
       "      <td>5</td>\n",
       "      <td>206.0</td>\n",
       "      <td>150.0</td>\n",
       "      <td>154.0</td>\n",
       "      <td>29.749986</td>\n",
       "      <td>1571.0</td>\n",
       "      <td>1613.0</td>\n",
       "      <td>1714.0</td>\n",
       "      <td>60.059998</td>\n",
       "    </tr>\n",
       "    <tr>\n",
       "      <th>1</th>\n",
       "      <td>2</td>\n",
       "      <td>2.139408</td>\n",
       "      <td>1.453357</td>\n",
       "      <td>2.588349</td>\n",
       "      <td>811</td>\n",
       "      <td>4</td>\n",
       "      <td>206.0</td>\n",
       "      <td>149.0</td>\n",
       "      <td>154.0</td>\n",
       "      <td>12.555561</td>\n",
       "      <td>1581.0</td>\n",
       "      <td>1602.0</td>\n",
       "      <td>1265.0</td>\n",
       "      <td>96.052315</td>\n",
       "    </tr>\n",
       "    <tr>\n",
       "      <th>2</th>\n",
       "      <td>3</td>\n",
       "      <td>4.063641</td>\n",
       "      <td>2.937457</td>\n",
       "      <td>5.019223</td>\n",
       "      <td>655</td>\n",
       "      <td>5</td>\n",
       "      <td>205.0</td>\n",
       "      <td>152.0</td>\n",
       "      <td>153.0</td>\n",
       "      <td>28.554793</td>\n",
       "      <td>1596.0</td>\n",
       "      <td>1599.0</td>\n",
       "      <td>1753.0</td>\n",
       "      <td>91.160157</td>\n",
       "    </tr>\n",
       "    <tr>\n",
       "      <th>3</th>\n",
       "      <td>4</td>\n",
       "      <td>2.706489</td>\n",
       "      <td>2.056992</td>\n",
       "      <td>3.400038</td>\n",
       "      <td>741</td>\n",
       "      <td>4</td>\n",
       "      <td>207.0</td>\n",
       "      <td>153.0</td>\n",
       "      <td>154.0</td>\n",
       "      <td>18.841219</td>\n",
       "      <td>1601.0</td>\n",
       "      <td>1625.0</td>\n",
       "      <td>1220.0</td>\n",
       "      <td>89.063515</td>\n",
       "    </tr>\n",
       "    <tr>\n",
       "      <th>4</th>\n",
       "      <td>5</td>\n",
       "      <td>2.252950</td>\n",
       "      <td>1.687991</td>\n",
       "      <td>2.816980</td>\n",
       "      <td>869</td>\n",
       "      <td>4</td>\n",
       "      <td>203.0</td>\n",
       "      <td>151.0</td>\n",
       "      <td>152.0</td>\n",
       "      <td>5.413692</td>\n",
       "      <td>1576.0</td>\n",
       "      <td>1602.0</td>\n",
       "      <td>1536.0</td>\n",
       "      <td>89.238236</td>\n",
       "    </tr>\n",
       "    <tr>\n",
       "      <th>...</th>\n",
       "      <td>...</td>\n",
       "      <td>...</td>\n",
       "      <td>...</td>\n",
       "      <td>...</td>\n",
       "      <td>...</td>\n",
       "      <td>...</td>\n",
       "      <td>...</td>\n",
       "      <td>...</td>\n",
       "      <td>...</td>\n",
       "      <td>...</td>\n",
       "      <td>...</td>\n",
       "      <td>...</td>\n",
       "      <td>...</td>\n",
       "      <td>...</td>\n",
       "    </tr>\n",
       "    <tr>\n",
       "      <th>3209</th>\n",
       "      <td>3237</td>\n",
       "      <td>2.541872</td>\n",
       "      <td>2.025417</td>\n",
       "      <td>3.250657</td>\n",
       "      <td>909</td>\n",
       "      <td>5</td>\n",
       "      <td>252.0</td>\n",
       "      <td>130.0</td>\n",
       "      <td>206.0</td>\n",
       "      <td>5.543905</td>\n",
       "      <td>NaN</td>\n",
       "      <td>NaN</td>\n",
       "      <td>NaN</td>\n",
       "      <td>38.088959</td>\n",
       "    </tr>\n",
       "    <tr>\n",
       "      <th>3210</th>\n",
       "      <td>3238</td>\n",
       "      <td>1.374821</td>\n",
       "      <td>1.038103</td>\n",
       "      <td>1.723937</td>\n",
       "      <td>546</td>\n",
       "      <td>3</td>\n",
       "      <td>254.0</td>\n",
       "      <td>108.0</td>\n",
       "      <td>106.0</td>\n",
       "      <td>6.745669</td>\n",
       "      <td>NaN</td>\n",
       "      <td>NaN</td>\n",
       "      <td>NaN</td>\n",
       "      <td>56.128799</td>\n",
       "    </tr>\n",
       "    <tr>\n",
       "      <th>3211</th>\n",
       "      <td>3239</td>\n",
       "      <td>4.848005</td>\n",
       "      <td>3.541541</td>\n",
       "      <td>6.014480</td>\n",
       "      <td>1216</td>\n",
       "      <td>8</td>\n",
       "      <td>158.0</td>\n",
       "      <td>270.0</td>\n",
       "      <td>88.0</td>\n",
       "      <td>16.023518</td>\n",
       "      <td>NaN</td>\n",
       "      <td>NaN</td>\n",
       "      <td>NaN</td>\n",
       "      <td>143.357761</td>\n",
       "    </tr>\n",
       "    <tr>\n",
       "      <th>3212</th>\n",
       "      <td>3240</td>\n",
       "      <td>3.317679</td>\n",
       "      <td>2.373552</td>\n",
       "      <td>4.082920</td>\n",
       "      <td>839</td>\n",
       "      <td>5</td>\n",
       "      <td>0.0</td>\n",
       "      <td>192.0</td>\n",
       "      <td>54.0</td>\n",
       "      <td>11.863103</td>\n",
       "      <td>NaN</td>\n",
       "      <td>NaN</td>\n",
       "      <td>NaN</td>\n",
       "      <td>34.070400</td>\n",
       "    </tr>\n",
       "    <tr>\n",
       "      <th>3213</th>\n",
       "      <td>3241</td>\n",
       "      <td>3.045283</td>\n",
       "      <td>2.140011</td>\n",
       "      <td>3.722880</td>\n",
       "      <td>659</td>\n",
       "      <td>5</td>\n",
       "      <td>0.0</td>\n",
       "      <td>180.0</td>\n",
       "      <td>52.0</td>\n",
       "      <td>12.680959</td>\n",
       "      <td>NaN</td>\n",
       "      <td>NaN</td>\n",
       "      <td>NaN</td>\n",
       "      <td>63.117595</td>\n",
       "    </tr>\n",
       "  </tbody>\n",
       "</table>\n",
       "<p>3214 rows × 14 columns</p>\n",
       "</div>"
      ],
      "text/plain": [
       "       key   activ_p  reactiv_p   total_p  arc_total_time  count_heat  \\\n",
       "0        1  3.036730   2.142821  3.718736            1098           5   \n",
       "1        2  2.139408   1.453357  2.588349             811           4   \n",
       "2        3  4.063641   2.937457  5.019223             655           5   \n",
       "3        4  2.706489   2.056992  3.400038             741           4   \n",
       "4        5  2.252950   1.687991  2.816980             869           4   \n",
       "...    ...       ...        ...       ...             ...         ...   \n",
       "3209  3237  2.541872   2.025417  3.250657             909           5   \n",
       "3210  3238  1.374821   1.038103  1.723937             546           3   \n",
       "3211  3239  4.848005   3.541541  6.014480            1216           8   \n",
       "3212  3240  3.317679   2.373552  4.082920             839           5   \n",
       "3213  3241  3.045283   2.140011  3.722880             659           5   \n",
       "\n",
       "      bulk_12  bulk_14  bulk_15      gas_1  start_t  finish_t  \\\n",
       "0       206.0    150.0    154.0  29.749986   1571.0    1613.0   \n",
       "1       206.0    149.0    154.0  12.555561   1581.0    1602.0   \n",
       "2       205.0    152.0    153.0  28.554793   1596.0    1599.0   \n",
       "3       207.0    153.0    154.0  18.841219   1601.0    1625.0   \n",
       "4       203.0    151.0    152.0   5.413692   1576.0    1602.0   \n",
       "...       ...      ...      ...        ...      ...       ...   \n",
       "3209    252.0    130.0    206.0   5.543905      NaN       NaN   \n",
       "3210    254.0    108.0    106.0   6.745669      NaN       NaN   \n",
       "3211    158.0    270.0     88.0  16.023518      NaN       NaN   \n",
       "3212      0.0    192.0     54.0  11.863103      NaN       NaN   \n",
       "3213      0.0    180.0     52.0  12.680959      NaN       NaN   \n",
       "\n",
       "      diffr_temp_time      wire_1  \n",
       "0              1714.0   60.059998  \n",
       "1              1265.0   96.052315  \n",
       "2              1753.0   91.160157  \n",
       "3              1220.0   89.063515  \n",
       "4              1536.0   89.238236  \n",
       "...               ...         ...  \n",
       "3209              NaN   38.088959  \n",
       "3210              NaN   56.128799  \n",
       "3211              NaN  143.357761  \n",
       "3212              NaN   34.070400  \n",
       "3213              NaN   63.117595  \n",
       "\n",
       "[3214 rows x 14 columns]"
      ]
     },
     "execution_count": 33,
     "metadata": {},
     "output_type": "execute_result"
    }
   ],
   "source": [
    "new_data"
   ]
  },
  {
   "cell_type": "markdown",
   "metadata": {},
   "source": [
    "Столбец key сделал своё дело и может уходить"
   ]
  },
  {
   "cell_type": "code",
   "execution_count": 34,
   "metadata": {},
   "outputs": [],
   "source": [
    "new_data = new_data.drop('key', axis=1)"
   ]
  },
  {
   "cell_type": "code",
   "execution_count": 35,
   "metadata": {},
   "outputs": [
    {
     "name": "stdout",
     "output_type": "stream",
     "text": [
      "<class 'pandas.core.frame.DataFrame'>\n",
      "Int64Index: 3214 entries, 0 to 3213\n",
      "Data columns (total 13 columns):\n",
      " #   Column           Non-Null Count  Dtype  \n",
      "---  ------           --------------  -----  \n",
      " 0   activ_p          3214 non-null   float64\n",
      " 1   reactiv_p        3214 non-null   float64\n",
      " 2   total_p          3214 non-null   float64\n",
      " 3   arc_total_time   3214 non-null   int64  \n",
      " 4   count_heat       3214 non-null   int64  \n",
      " 5   bulk_12          3128 non-null   float64\n",
      " 6   bulk_14          3128 non-null   float64\n",
      " 7   bulk_15          3128 non-null   float64\n",
      " 8   gas_1            3212 non-null   float64\n",
      " 9   start_t          2475 non-null   float64\n",
      " 10  finish_t         2475 non-null   float64\n",
      " 11  diffr_temp_time  2475 non-null   float64\n",
      " 12  wire_1           3054 non-null   float64\n",
      "dtypes: float64(11), int64(2)\n",
      "memory usage: 351.5 KB\n"
     ]
    }
   ],
   "source": [
    "new_data.info()"
   ]
  },
  {
   "cell_type": "markdown",
   "metadata": {},
   "source": [
    "Уберу пропуски"
   ]
  },
  {
   "cell_type": "code",
   "execution_count": 36,
   "metadata": {},
   "outputs": [
    {
     "data": {
      "text/plain": [
       "activ_p            0\n",
       "reactiv_p          0\n",
       "total_p            0\n",
       "arc_total_time     0\n",
       "count_heat         0\n",
       "bulk_12            0\n",
       "bulk_14            0\n",
       "bulk_15            0\n",
       "gas_1              0\n",
       "start_t            0\n",
       "finish_t           0\n",
       "diffr_temp_time    0\n",
       "wire_1             0\n",
       "dtype: int64"
      ]
     },
     "execution_count": 36,
     "metadata": {},
     "output_type": "execute_result"
    }
   ],
   "source": [
    "new_data = new_data.dropna()\n",
    "new_data.isna().sum()"
   ]
  },
  {
   "cell_type": "code",
   "execution_count": 37,
   "metadata": {},
   "outputs": [
    {
     "data": {
      "text/html": [
       "<div>\n",
       "<style scoped>\n",
       "    .dataframe tbody tr th:only-of-type {\n",
       "        vertical-align: middle;\n",
       "    }\n",
       "\n",
       "    .dataframe tbody tr th {\n",
       "        vertical-align: top;\n",
       "    }\n",
       "\n",
       "    .dataframe thead th {\n",
       "        text-align: right;\n",
       "    }\n",
       "</style>\n",
       "<table border=\"1\" class=\"dataframe\">\n",
       "  <thead>\n",
       "    <tr style=\"text-align: right;\">\n",
       "      <th></th>\n",
       "      <th>activ_p</th>\n",
       "      <th>reactiv_p</th>\n",
       "      <th>total_p</th>\n",
       "      <th>arc_total_time</th>\n",
       "      <th>count_heat</th>\n",
       "      <th>bulk_12</th>\n",
       "      <th>bulk_14</th>\n",
       "      <th>bulk_15</th>\n",
       "      <th>gas_1</th>\n",
       "      <th>start_t</th>\n",
       "      <th>finish_t</th>\n",
       "      <th>diffr_temp_time</th>\n",
       "      <th>wire_1</th>\n",
       "    </tr>\n",
       "  </thead>\n",
       "  <tbody>\n",
       "    <tr>\n",
       "      <th>0</th>\n",
       "      <td>3.036730</td>\n",
       "      <td>2.142821</td>\n",
       "      <td>3.718736</td>\n",
       "      <td>1098</td>\n",
       "      <td>5</td>\n",
       "      <td>206.0</td>\n",
       "      <td>150.0</td>\n",
       "      <td>154.0</td>\n",
       "      <td>29.749986</td>\n",
       "      <td>1571.0</td>\n",
       "      <td>1613.0</td>\n",
       "      <td>1714.0</td>\n",
       "      <td>60.059998</td>\n",
       "    </tr>\n",
       "    <tr>\n",
       "      <th>1</th>\n",
       "      <td>2.139408</td>\n",
       "      <td>1.453357</td>\n",
       "      <td>2.588349</td>\n",
       "      <td>811</td>\n",
       "      <td>4</td>\n",
       "      <td>206.0</td>\n",
       "      <td>149.0</td>\n",
       "      <td>154.0</td>\n",
       "      <td>12.555561</td>\n",
       "      <td>1581.0</td>\n",
       "      <td>1602.0</td>\n",
       "      <td>1265.0</td>\n",
       "      <td>96.052315</td>\n",
       "    </tr>\n",
       "    <tr>\n",
       "      <th>2</th>\n",
       "      <td>4.063641</td>\n",
       "      <td>2.937457</td>\n",
       "      <td>5.019223</td>\n",
       "      <td>655</td>\n",
       "      <td>5</td>\n",
       "      <td>205.0</td>\n",
       "      <td>152.0</td>\n",
       "      <td>153.0</td>\n",
       "      <td>28.554793</td>\n",
       "      <td>1596.0</td>\n",
       "      <td>1599.0</td>\n",
       "      <td>1753.0</td>\n",
       "      <td>91.160157</td>\n",
       "    </tr>\n",
       "    <tr>\n",
       "      <th>3</th>\n",
       "      <td>2.706489</td>\n",
       "      <td>2.056992</td>\n",
       "      <td>3.400038</td>\n",
       "      <td>741</td>\n",
       "      <td>4</td>\n",
       "      <td>207.0</td>\n",
       "      <td>153.0</td>\n",
       "      <td>154.0</td>\n",
       "      <td>18.841219</td>\n",
       "      <td>1601.0</td>\n",
       "      <td>1625.0</td>\n",
       "      <td>1220.0</td>\n",
       "      <td>89.063515</td>\n",
       "    </tr>\n",
       "    <tr>\n",
       "      <th>4</th>\n",
       "      <td>2.252950</td>\n",
       "      <td>1.687991</td>\n",
       "      <td>2.816980</td>\n",
       "      <td>869</td>\n",
       "      <td>4</td>\n",
       "      <td>203.0</td>\n",
       "      <td>151.0</td>\n",
       "      <td>152.0</td>\n",
       "      <td>5.413692</td>\n",
       "      <td>1576.0</td>\n",
       "      <td>1602.0</td>\n",
       "      <td>1536.0</td>\n",
       "      <td>89.238236</td>\n",
       "    </tr>\n",
       "    <tr>\n",
       "      <th>...</th>\n",
       "      <td>...</td>\n",
       "      <td>...</td>\n",
       "      <td>...</td>\n",
       "      <td>...</td>\n",
       "      <td>...</td>\n",
       "      <td>...</td>\n",
       "      <td>...</td>\n",
       "      <td>...</td>\n",
       "      <td>...</td>\n",
       "      <td>...</td>\n",
       "      <td>...</td>\n",
       "      <td>...</td>\n",
       "      <td>...</td>\n",
       "    </tr>\n",
       "    <tr>\n",
       "      <th>2470</th>\n",
       "      <td>3.168133</td>\n",
       "      <td>2.210936</td>\n",
       "      <td>3.868721</td>\n",
       "      <td>723</td>\n",
       "      <td>4</td>\n",
       "      <td>256.0</td>\n",
       "      <td>129.0</td>\n",
       "      <td>223.0</td>\n",
       "      <td>7.125735</td>\n",
       "      <td>1570.0</td>\n",
       "      <td>1591.0</td>\n",
       "      <td>1380.0</td>\n",
       "      <td>89.150879</td>\n",
       "    </tr>\n",
       "    <tr>\n",
       "      <th>2471</th>\n",
       "      <td>4.174918</td>\n",
       "      <td>2.872031</td>\n",
       "      <td>5.070316</td>\n",
       "      <td>940</td>\n",
       "      <td>6</td>\n",
       "      <td>256.0</td>\n",
       "      <td>129.0</td>\n",
       "      <td>226.0</td>\n",
       "      <td>9.412616</td>\n",
       "      <td>1554.0</td>\n",
       "      <td>1591.0</td>\n",
       "      <td>1705.0</td>\n",
       "      <td>114.179527</td>\n",
       "    </tr>\n",
       "    <tr>\n",
       "      <th>2472</th>\n",
       "      <td>3.605239</td>\n",
       "      <td>2.452092</td>\n",
       "      <td>4.360918</td>\n",
       "      <td>569</td>\n",
       "      <td>3</td>\n",
       "      <td>230.0</td>\n",
       "      <td>124.0</td>\n",
       "      <td>226.0</td>\n",
       "      <td>6.271699</td>\n",
       "      <td>1571.0</td>\n",
       "      <td>1589.0</td>\n",
       "      <td>962.0</td>\n",
       "      <td>94.086723</td>\n",
       "    </tr>\n",
       "    <tr>\n",
       "      <th>2473</th>\n",
       "      <td>3.202310</td>\n",
       "      <td>2.239820</td>\n",
       "      <td>3.909917</td>\n",
       "      <td>750</td>\n",
       "      <td>5</td>\n",
       "      <td>206.0</td>\n",
       "      <td>129.0</td>\n",
       "      <td>207.0</td>\n",
       "      <td>14.953657</td>\n",
       "      <td>1591.0</td>\n",
       "      <td>1594.0</td>\n",
       "      <td>1520.0</td>\n",
       "      <td>118.110717</td>\n",
       "    </tr>\n",
       "    <tr>\n",
       "      <th>2474</th>\n",
       "      <td>1.737084</td>\n",
       "      <td>1.296836</td>\n",
       "      <td>2.169252</td>\n",
       "      <td>883</td>\n",
       "      <td>4</td>\n",
       "      <td>233.0</td>\n",
       "      <td>126.0</td>\n",
       "      <td>227.0</td>\n",
       "      <td>11.336151</td>\n",
       "      <td>1569.0</td>\n",
       "      <td>1603.0</td>\n",
       "      <td>1537.0</td>\n",
       "      <td>110.160958</td>\n",
       "    </tr>\n",
       "  </tbody>\n",
       "</table>\n",
       "<p>2306 rows × 13 columns</p>\n",
       "</div>"
      ],
      "text/plain": [
       "       activ_p  reactiv_p   total_p  arc_total_time  count_heat  bulk_12  \\\n",
       "0     3.036730   2.142821  3.718736            1098           5    206.0   \n",
       "1     2.139408   1.453357  2.588349             811           4    206.0   \n",
       "2     4.063641   2.937457  5.019223             655           5    205.0   \n",
       "3     2.706489   2.056992  3.400038             741           4    207.0   \n",
       "4     2.252950   1.687991  2.816980             869           4    203.0   \n",
       "...        ...        ...       ...             ...         ...      ...   \n",
       "2470  3.168133   2.210936  3.868721             723           4    256.0   \n",
       "2471  4.174918   2.872031  5.070316             940           6    256.0   \n",
       "2472  3.605239   2.452092  4.360918             569           3    230.0   \n",
       "2473  3.202310   2.239820  3.909917             750           5    206.0   \n",
       "2474  1.737084   1.296836  2.169252             883           4    233.0   \n",
       "\n",
       "      bulk_14  bulk_15      gas_1  start_t  finish_t  diffr_temp_time  \\\n",
       "0       150.0    154.0  29.749986   1571.0    1613.0           1714.0   \n",
       "1       149.0    154.0  12.555561   1581.0    1602.0           1265.0   \n",
       "2       152.0    153.0  28.554793   1596.0    1599.0           1753.0   \n",
       "3       153.0    154.0  18.841219   1601.0    1625.0           1220.0   \n",
       "4       151.0    152.0   5.413692   1576.0    1602.0           1536.0   \n",
       "...       ...      ...        ...      ...       ...              ...   \n",
       "2470    129.0    223.0   7.125735   1570.0    1591.0           1380.0   \n",
       "2471    129.0    226.0   9.412616   1554.0    1591.0           1705.0   \n",
       "2472    124.0    226.0   6.271699   1571.0    1589.0            962.0   \n",
       "2473    129.0    207.0  14.953657   1591.0    1594.0           1520.0   \n",
       "2474    126.0    227.0  11.336151   1569.0    1603.0           1537.0   \n",
       "\n",
       "          wire_1  \n",
       "0      60.059998  \n",
       "1      96.052315  \n",
       "2      91.160157  \n",
       "3      89.063515  \n",
       "4      89.238236  \n",
       "...          ...  \n",
       "2470   89.150879  \n",
       "2471  114.179527  \n",
       "2472   94.086723  \n",
       "2473  118.110717  \n",
       "2474  110.160958  \n",
       "\n",
       "[2306 rows x 13 columns]"
      ]
     },
     "execution_count": 37,
     "metadata": {},
     "output_type": "execute_result"
    }
   ],
   "source": [
    "new_data"
   ]
  },
  {
   "cell_type": "markdown",
   "metadata": {},
   "source": [
    "### анализ корреляции и удаление избыточных данных"
   ]
  },
  {
   "cell_type": "markdown",
   "metadata": {},
   "source": [
    "После удаления пропусков проанализирую корреляцию"
   ]
  },
  {
   "cell_type": "code",
   "execution_count": 38,
   "metadata": {},
   "outputs": [
    {
     "data": {
      "image/png": "[encoded data removed]",
      "text/plain": [
       "<Figure size 2160x1080 with 2 Axes>"
      ]
     },
     "metadata": {
      "needs_background": "light"
     },
     "output_type": "display_data"
    }
   ],
   "source": [
    "plt.figure(figsize=(30, 15))\n",
    "fig=sns.heatmap(new_data.corr().abs(), annot=True, cmap='PuBuGn')\n",
    "plt.title('КОРРЕЛЯЦИЯ', fontsize = 35)\n",
    "plt.show()"
   ]
  },
  {
   "cell_type": "markdown",
   "metadata": {},
   "source": [
    "Получили высокую корреляцию между активной, реактивной и полной мощностью, а также временем нагрева дугой и количеством итерраций. Всё логично. Уберу активную, реактивную мощности и количество итерраций."
   ]
  },
  {
   "cell_type": "code",
   "execution_count": 39,
   "metadata": {},
   "outputs": [
    {
     "name": "stdout",
     "output_type": "stream",
     "text": [
      "<class 'pandas.core.frame.DataFrame'>\n",
      "Int64Index: 2306 entries, 0 to 2474\n",
      "Data columns (total 10 columns):\n",
      " #   Column           Non-Null Count  Dtype  \n",
      "---  ------           --------------  -----  \n",
      " 0   total_p          2306 non-null   float64\n",
      " 1   arc_total_time   2306 non-null   int64  \n",
      " 2   bulk_12          2306 non-null   float64\n",
      " 3   bulk_14          2306 non-null   float64\n",
      " 4   bulk_15          2306 non-null   float64\n",
      " 5   gas_1            2306 non-null   float64\n",
      " 6   start_t          2306 non-null   float64\n",
      " 7   finish_t         2306 non-null   float64\n",
      " 8   diffr_temp_time  2306 non-null   float64\n",
      " 9   wire_1           2306 non-null   float64\n",
      "dtypes: float64(9), int64(1)\n",
      "memory usage: 198.2 KB\n"
     ]
    }
   ],
   "source": [
    "final_drop = ['activ_p', 'reactiv_p', 'count_heat']\n",
    "data_for_model = new_data.drop(columns=final_drop)\n",
    "data_for_model.info()"
   ]
  },
  {
   "cell_type": "markdown",
   "metadata": {},
   "source": [
    "## Подготовка target и features"
   ]
  },
  {
   "cell_type": "markdown",
   "metadata": {},
   "source": [
    "Выделю целевой признак"
   ]
  },
  {
   "cell_type": "code",
   "execution_count": 40,
   "metadata": {},
   "outputs": [],
   "source": [
    "target = data_for_model['finish_t']\n",
    "features = data_for_model.drop('finish_t', axis = 1)"
   ]
  },
  {
   "cell_type": "markdown",
   "metadata": {},
   "source": [
    "В задании указано, что random_state - дата начала проекта"
   ]
  },
  {
   "cell_type": "code",
   "execution_count": 41,
   "metadata": {},
   "outputs": [],
   "source": [
    "SEED = 280823"
   ]
  },
  {
   "cell_type": "markdown",
   "metadata": {},
   "source": [
    "Разделю данные на тренировочные и тестовые (25%)"
   ]
  },
  {
   "cell_type": "code",
   "execution_count": 42,
   "metadata": {},
   "outputs": [],
   "source": [
    "features_train, features_test, target_train, target_test = train_test_split(features, target, test_size=0.25, random_state = SEED, shuffle = True)"
   ]
  },
  {
   "cell_type": "markdown",
   "metadata": {},
   "source": [
    "### Масштабирование признаков"
   ]
  },
  {
   "cell_type": "code",
   "execution_count": 43,
   "metadata": {},
   "outputs": [
    {
     "data": {
      "text/html": [
       "<div>\n",
       "<style scoped>\n",
       "    .dataframe tbody tr th:only-of-type {\n",
       "        vertical-align: middle;\n",
       "    }\n",
       "\n",
       "    .dataframe tbody tr th {\n",
       "        vertical-align: top;\n",
       "    }\n",
       "\n",
       "    .dataframe thead th {\n",
       "        text-align: right;\n",
       "    }\n",
       "</style>\n",
       "<table border=\"1\" class=\"dataframe\">\n",
       "  <thead>\n",
       "    <tr style=\"text-align: right;\">\n",
       "      <th></th>\n",
       "      <th>total_p</th>\n",
       "      <th>arc_total_time</th>\n",
       "      <th>bulk_12</th>\n",
       "      <th>bulk_14</th>\n",
       "      <th>bulk_15</th>\n",
       "      <th>gas_1</th>\n",
       "      <th>start_t</th>\n",
       "      <th>diffr_temp_time</th>\n",
       "      <th>wire_1</th>\n",
       "    </tr>\n",
       "  </thead>\n",
       "  <tbody>\n",
       "    <tr>\n",
       "      <th>0</th>\n",
       "      <td>-0.600391</td>\n",
       "      <td>-0.102617</td>\n",
       "      <td>0.652971</td>\n",
       "      <td>0.660332</td>\n",
       "      <td>0.381094</td>\n",
       "      <td>-0.209410</td>\n",
       "      <td>0.138074</td>\n",
       "      <td>0.902801</td>\n",
       "      <td>-0.196147</td>\n",
       "    </tr>\n",
       "    <tr>\n",
       "      <th>1</th>\n",
       "      <td>0.336213</td>\n",
       "      <td>-0.093751</td>\n",
       "      <td>-0.675663</td>\n",
       "      <td>-0.178676</td>\n",
       "      <td>-0.212477</td>\n",
       "      <td>0.894408</td>\n",
       "      <td>-0.755565</td>\n",
       "      <td>-0.700154</td>\n",
       "      <td>-0.509140</td>\n",
       "    </tr>\n",
       "    <tr>\n",
       "      <th>2</th>\n",
       "      <td>-0.691080</td>\n",
       "      <td>0.033329</td>\n",
       "      <td>-0.037397</td>\n",
       "      <td>-0.015883</td>\n",
       "      <td>0.381094</td>\n",
       "      <td>-0.702641</td>\n",
       "      <td>-0.244915</td>\n",
       "      <td>-0.513395</td>\n",
       "      <td>-0.599866</td>\n",
       "    </tr>\n",
       "    <tr>\n",
       "      <th>3</th>\n",
       "      <td>0.268437</td>\n",
       "      <td>-0.265162</td>\n",
       "      <td>-1.359518</td>\n",
       "      <td>-0.053451</td>\n",
       "      <td>-1.447104</td>\n",
       "      <td>-0.226705</td>\n",
       "      <td>-0.968336</td>\n",
       "      <td>-0.222801</td>\n",
       "      <td>-0.056768</td>\n",
       "    </tr>\n",
       "    <tr>\n",
       "      <th>4</th>\n",
       "      <td>-1.348383</td>\n",
       "      <td>0.458901</td>\n",
       "      <td>-0.682175</td>\n",
       "      <td>1.261413</td>\n",
       "      <td>-1.447104</td>\n",
       "      <td>-1.012654</td>\n",
       "      <td>-0.627903</td>\n",
       "      <td>-0.764330</td>\n",
       "      <td>-2.001790</td>\n",
       "    </tr>\n",
       "  </tbody>\n",
       "</table>\n",
       "</div>"
      ],
      "text/plain": [
       "    total_p  arc_total_time   bulk_12   bulk_14   bulk_15     gas_1   start_t  \\\n",
       "0 -0.600391       -0.102617  0.652971  0.660332  0.381094 -0.209410  0.138074   \n",
       "1  0.336213       -0.093751 -0.675663 -0.178676 -0.212477  0.894408 -0.755565   \n",
       "2 -0.691080        0.033329 -0.037397 -0.015883  0.381094 -0.702641 -0.244915   \n",
       "3  0.268437       -0.265162 -1.359518 -0.053451 -1.447104 -0.226705 -0.968336   \n",
       "4 -1.348383        0.458901 -0.682175  1.261413 -1.447104 -1.012654 -0.627903   \n",
       "\n",
       "   diffr_temp_time    wire_1  \n",
       "0         0.902801 -0.196147  \n",
       "1        -0.700154 -0.509140  \n",
       "2        -0.513395 -0.599866  \n",
       "3        -0.222801 -0.056768  \n",
       "4        -0.764330 -2.001790  "
      ]
     },
     "execution_count": 43,
     "metadata": {},
     "output_type": "execute_result"
    }
   ],
   "source": [
    "scaler = StandardScaler()\n",
    "scaler.fit(features_train)\n",
    "sc_features_train = scaler.transform(features_train)\n",
    "sc_features_train = pd.DataFrame(sc_features_train, columns=features_train.columns)\n",
    "sc_features_train.head()"
   ]
  },
  {
   "cell_type": "code",
   "execution_count": 44,
   "metadata": {},
   "outputs": [
    {
     "data": {
      "text/html": [
       "<div>\n",
       "<style scoped>\n",
       "    .dataframe tbody tr th:only-of-type {\n",
       "        vertical-align: middle;\n",
       "    }\n",
       "\n",
       "    .dataframe tbody tr th {\n",
       "        vertical-align: top;\n",
       "    }\n",
       "\n",
       "    .dataframe thead th {\n",
       "        text-align: right;\n",
       "    }\n",
       "</style>\n",
       "<table border=\"1\" class=\"dataframe\">\n",
       "  <thead>\n",
       "    <tr style=\"text-align: right;\">\n",
       "      <th></th>\n",
       "      <th>total_p</th>\n",
       "      <th>arc_total_time</th>\n",
       "      <th>bulk_12</th>\n",
       "      <th>bulk_14</th>\n",
       "      <th>bulk_15</th>\n",
       "      <th>gas_1</th>\n",
       "      <th>start_t</th>\n",
       "      <th>diffr_temp_time</th>\n",
       "      <th>wire_1</th>\n",
       "    </tr>\n",
       "  </thead>\n",
       "  <tbody>\n",
       "    <tr>\n",
       "      <th>0</th>\n",
       "      <td>-0.839962</td>\n",
       "      <td>-0.714377</td>\n",
       "      <td>-1.359518</td>\n",
       "      <td>-1.931827</td>\n",
       "      <td>-1.447104</td>\n",
       "      <td>-0.012483</td>\n",
       "      <td>-0.500240</td>\n",
       "      <td>-0.747745</td>\n",
       "      <td>-1.124035</td>\n",
       "    </tr>\n",
       "    <tr>\n",
       "      <th>1</th>\n",
       "      <td>-0.473956</td>\n",
       "      <td>-0.342001</td>\n",
       "      <td>-0.343504</td>\n",
       "      <td>-0.554351</td>\n",
       "      <td>0.998407</td>\n",
       "      <td>-1.248588</td>\n",
       "      <td>-0.372577</td>\n",
       "      <td>-0.647515</td>\n",
       "      <td>-2.144718</td>\n",
       "    </tr>\n",
       "    <tr>\n",
       "      <th>2</th>\n",
       "      <td>0.030317</td>\n",
       "      <td>-0.968538</td>\n",
       "      <td>-0.017859</td>\n",
       "      <td>-0.679576</td>\n",
       "      <td>0.998407</td>\n",
       "      <td>-0.290726</td>\n",
       "      <td>0.435953</td>\n",
       "      <td>-0.409560</td>\n",
       "      <td>-0.529991</td>\n",
       "    </tr>\n",
       "    <tr>\n",
       "      <th>3</th>\n",
       "      <td>-1.875665</td>\n",
       "      <td>-1.642360</td>\n",
       "      <td>-1.359518</td>\n",
       "      <td>-1.931827</td>\n",
       "      <td>-1.447104</td>\n",
       "      <td>-1.014858</td>\n",
       "      <td>1.925351</td>\n",
       "      <td>-0.837158</td>\n",
       "      <td>-0.414643</td>\n",
       "    </tr>\n",
       "    <tr>\n",
       "      <th>4</th>\n",
       "      <td>0.781753</td>\n",
       "      <td>0.990867</td>\n",
       "      <td>1.323801</td>\n",
       "      <td>0.610242</td>\n",
       "      <td>0.998407</td>\n",
       "      <td>2.040652</td>\n",
       "      <td>-1.010891</td>\n",
       "      <td>0.377856</td>\n",
       "      <td>0.408322</td>\n",
       "    </tr>\n",
       "  </tbody>\n",
       "</table>\n",
       "</div>"
      ],
      "text/plain": [
       "    total_p  arc_total_time   bulk_12   bulk_14   bulk_15     gas_1   start_t  \\\n",
       "0 -0.839962       -0.714377 -1.359518 -1.931827 -1.447104 -0.012483 -0.500240   \n",
       "1 -0.473956       -0.342001 -0.343504 -0.554351  0.998407 -1.248588 -0.372577   \n",
       "2  0.030317       -0.968538 -0.017859 -0.679576  0.998407 -0.290726  0.435953   \n",
       "3 -1.875665       -1.642360 -1.359518 -1.931827 -1.447104 -1.014858  1.925351   \n",
       "4  0.781753        0.990867  1.323801  0.610242  0.998407  2.040652 -1.010891   \n",
       "\n",
       "   diffr_temp_time    wire_1  \n",
       "0        -0.747745 -1.124035  \n",
       "1        -0.647515 -2.144718  \n",
       "2        -0.409560 -0.529991  \n",
       "3        -0.837158 -0.414643  \n",
       "4         0.377856  0.408322  "
      ]
     },
     "execution_count": 44,
     "metadata": {},
     "output_type": "execute_result"
    }
   ],
   "source": [
    "sc_features_test = scaler.transform(features_test)\n",
    "sc_features_test = pd.DataFrame(sc_features_test, columns=features_test.columns)\n",
    "sc_features_test.head()"
   ]
  },
  {
   "cell_type": "markdown",
   "metadata": {},
   "source": [
    "## Обучение моделей"
   ]
  },
  {
   "cell_type": "markdown",
   "metadata": {},
   "source": [
    "### Начнём с линейной регрессии"
   ]
  },
  {
   "cell_type": "code",
   "execution_count": 45,
   "metadata": {},
   "outputs": [],
   "source": [
    "cv = 5"
   ]
  },
  {
   "cell_type": "code",
   "execution_count": 46,
   "metadata": {},
   "outputs": [
    {
     "name": "stdout",
     "output_type": "stream",
     "text": [
      "linear regression MAE =  6.2\n"
     ]
    }
   ],
   "source": [
    "lr_model = LinearRegression()\n",
    "lr_score = cross_val_score(lr_model, sc_features_train, target_train, cv=cv, scoring='neg_mean_absolute_error')\n",
    "mae_lr_score = np.mean(abs(lr_score))\n",
    "print(\"linear regression MAE = \", round(mae_lr_score, 1))"
   ]
  },
  {
   "cell_type": "markdown",
   "metadata": {},
   "source": [
    "### Cлучайный лес"
   ]
  },
  {
   "cell_type": "code",
   "execution_count": 47,
   "metadata": {},
   "outputs": [
    {
     "name": "stdout",
     "output_type": "stream",
     "text": [
      "random forest regression MAE =  6.4\n"
     ]
    }
   ],
   "source": [
    "rfr_model = RandomForestRegressor()\n",
    "rfr_params = {'max_depth':[10, 20, 30], 'n_estimators':[50, 100, 200], 'min_samples_split':[2, 4, 6], 'random_state':[SEED]}\n",
    "rfr_grid = GridSearchCV(rfr_model, rfr_params, cv=cv, scoring='neg_mean_absolute_error' )\n",
    "rfr_grid.fit(features_train, target_train)\n",
    "rfr_abs_score = abs(rfr_grid.best_score_)\n",
    "print(\"random forest regression MAE = \", round(rfr_abs_score, 1))"
   ]
  },
  {
   "cell_type": "markdown",
   "metadata": {},
   "source": [
    "### cat boost"
   ]
  },
  {
   "cell_type": "code",
   "execution_count": 57,
   "metadata": {},
   "outputs": [
    {
     "name": "stdout",
     "output_type": "stream",
     "text": [
      "cat_boost_regressor MAE =  6.0\n"
     ]
    }
   ],
   "source": [
    "cb_model = CatBoostRegressor(verbose=False)\n",
    "cb_params = {'depth':[3, 4, 5], 'n_estimators':[200, 500, 800], 'learning_rate':[0.03, 0.1, 0.3], 'random_state':[SEED],\n",
    "             'loss_function':['MAE']}\n",
    "cb_grid = GridSearchCV(cb_model, cb_params, cv=cv, scoring='neg_mean_absolute_error')\n",
    "cb_grid.fit(features_train, target_train)\n",
    "cb_abs_score = abs(cb_grid.best_score_)\n",
    "print(\"cat_boost_regressor MAE = \", round(cb_abs_score, 1))\n"
   ]
  },
  {
   "cell_type": "code",
   "execution_count": 58,
   "metadata": {},
   "outputs": [
    {
     "data": {
      "text/plain": [
       "{'depth': 3,\n",
       " 'learning_rate': 0.1,\n",
       " 'loss_function': 'MAE',\n",
       " 'n_estimators': 800,\n",
       " 'random_state': 280823}"
      ]
     },
     "execution_count": 58,
     "metadata": {},
     "output_type": "execute_result"
    }
   ],
   "source": [
    "cb_grid.best_params_"
   ]
  },
  {
   "cell_type": "markdown",
   "metadata": {},
   "source": [
    "## Опробуем модель на тестовой выборке"
   ]
  },
  {
   "cell_type": "markdown",
   "metadata": {},
   "source": [
    "Лучшие результаты показал cat boost"
   ]
  },
  {
   "cell_type": "code",
   "execution_count": 59,
   "metadata": {},
   "outputs": [
    {
     "name": "stdout",
     "output_type": "stream",
     "text": [
      "тестовое МАЕ =  5.97\n"
     ]
    }
   ],
   "source": [
    "model = CatBoostRegressor(depth=3, n_estimators=800, learning_rate=0.1, random_state=SEED, loss_function='MAE', verbose=False)\n",
    "model.fit(features_train, target_train)\n",
    "predictions = model.predict(features_test)\n",
    "mae = mean_absolute_error(target_test, predictions)\n",
    "print(\"тестовое МАЕ = \", round(mae, 2))"
   ]
  },
  {
   "cell_type": "markdown",
   "metadata": {},
   "source": [
    "### Анализирую важность факторов"
   ]
  },
  {
   "cell_type": "code",
   "execution_count": 51,
   "metadata": {},
   "outputs": [
    {
     "data": {
      "image/png": "[encoded data removed]",
      "text/plain": [
       "<Figure size 1800x1080 with 1 Axes>"
      ]
     },
     "metadata": {
      "needs_background": "light"
     },
     "output_type": "display_data"
    }
   ],
   "source": [
    "data = {'features': features_test.columns, 'feature_importances':model.feature_importances_}\n",
    "data = pd.DataFrame(data)\n",
    "data.sort_values(by='feature_importances', ascending=False, inplace=True)\n",
    "plt.figure(figsize=(25, 15))\n",
    "sns.barplot(x=data['features'], y=data['feature_importances'])\n",
    "plt.title(\"Важность факторов\", fontsize=3)\n",
    "plt.xlabel('Фактор')\n",
    "plt.ylabel('Важность')\n",
    "plt.show()"
   ]
  },
  {
   "cell_type": "markdown",
   "metadata": {},
   "source": []
  },
  {
   "cell_type": "markdown",
   "metadata": {},
   "source": [
    "Получается, что наименее значимым фактором является общая мощность, что мне кажется странным. Но можно попробовать убрать её и посмотреть на результаты."
   ]
  },
  {
   "cell_type": "code",
   "execution_count": 52,
   "metadata": {},
   "outputs": [],
   "source": [
    "after_imp_features_train = features_train.copy()\n",
    "after_imp_features_train = after_imp_features_train.drop('total_p', axis=1)\n",
    "after_imp_features_test = features_test.copy()\n",
    "after_imp_features_test = after_imp_features_test.drop('total_p', axis=1)\n"
   ]
  },
  {
   "cell_type": "code",
   "execution_count": 53,
   "metadata": {},
   "outputs": [
    {
     "name": "stdout",
     "output_type": "stream",
     "text": [
      "После удаления общей мощности МАЕ =  5.99\n"
     ]
    }
   ],
   "source": [
    "model.fit(after_imp_features_train, target_train)\n",
    "predict = model.predict(after_imp_features_test)\n",
    "after_test_mae =mean_absolute_error(target_test, predict)\n",
    "print(\"После удаления общей мощности МАЕ = \", round(after_test_mae, 2))"
   ]
  },
  {
   "cell_type": "markdown",
   "metadata": {},
   "source": [
    "После удаления столбца с общей мощностью значение МАЕ ухудшилось, что лично мне кажется логичным. Оставлю данные такими же, как они были до анализа важности факторов."
   ]
  },
  {
   "cell_type": "markdown",
   "metadata": {},
   "source": [
    "***В результате обработки данных***   \n",
    "\n",
    "__стоблцы были приведены к стандартному виду    \n",
    "__в таблицу data_arc вычислила и добавила значения полной мощности и полного времени нагрева в секундах, просумировала все значения по key   \n",
    "__в таблице data_bulk оставила только столбцы с партиями 12, 14, 15, так как в остальных заполнено меньше половины ячеек. Пропуски заполнила нулями.   \n",
    "__в таблице data_temp удалила все данные, в которых температура ниже 1490 градусов, а также все пропуски. Удалила все значения, в которых только одно измерение температуры     \n",
    "__в таблице data_wire оставила только один столбец, т.к только в нем были заполнены больше половины ячеек     \n",
    "__таблицы с временем подачи присадок использовать не стала, так как не считаю, что эти данные каким-либо серьёзным образом могут улучшить качество моделей   \n",
    "__сформировала новую таблицу, содержащую только необходимую информацию. В таблице удалила пропуски.   \n",
    "    __проанализировала корреляции и по результатам анализа удалила столбцы с активной, реактивной мощностью и с количеством итерраций    \n",
    "__данные разделила на features и target, а затем на тренировочные и тестовые в пропорции 3:1    \n",
    "__обучила модели линейной регрессии, случайного леса и cat boost. Все модели показали допустимые значения на тренировочной выборке   \n",
    "__лучшее значение получила от cat boost, признала ее победителем     \n",
    "__провела тестирование на тестовой выборке, получила допустимый результат   \n",
    "    __провела анализ важности факторов. Самыми влиятельными факторами оказались общее время нагрева электродами и начальная температура.  После анализа важности факторов, попробовала обучить модель без учёта общей мощности, т.к, она показала наименьшую важность. Результат ухудшился. Считаю, что общую мощность необходимо оставить"
   ]
  },
  {
   "cell_type": "markdown",
   "metadata": {},
   "source": []
  }
 ],
 "metadata": {
  "ExecuteTimeLog": [
   {
    "duration": 3,
    "start_time": "2023-09-04T15:55:13.582Z"
   },
   {
    "duration": 150,
    "start_time": "2023-09-04T15:56:53.557Z"
   },
   {
    "duration": 44,
    "start_time": "2023-09-04T15:57:25.481Z"
   },
   {
    "duration": 7,
    "start_time": "2023-09-04T15:58:45.098Z"
   },
   {
    "duration": 1794,
    "start_time": "2023-09-05T03:13:57.315Z"
   },
   {
    "duration": 97,
    "start_time": "2023-09-05T03:14:30.721Z"
   },
   {
    "duration": 21,
    "start_time": "2023-09-05T03:14:32.519Z"
   },
   {
    "duration": 13,
    "start_time": "2023-09-05T03:15:44.362Z"
   },
   {
    "duration": 11,
    "start_time": "2023-09-05T03:15:46.373Z"
   },
   {
    "duration": 103,
    "start_time": "2023-09-05T03:16:11.836Z"
   },
   {
    "duration": 107,
    "start_time": "2023-09-05T03:16:57.328Z"
   },
   {
    "duration": 141,
    "start_time": "2023-09-05T03:17:32.444Z"
   },
   {
    "duration": 63,
    "start_time": "2023-09-05T03:17:58.939Z"
   },
   {
    "duration": 84,
    "start_time": "2023-09-05T03:18:27.468Z"
   },
   {
    "duration": 15,
    "start_time": "2023-09-05T03:19:00.177Z"
   },
   {
    "duration": 23,
    "start_time": "2023-09-05T03:19:42.573Z"
   },
   {
    "duration": 13,
    "start_time": "2023-09-05T03:20:05.190Z"
   },
   {
    "duration": 104,
    "start_time": "2023-09-05T03:24:21.292Z"
   },
   {
    "duration": 12,
    "start_time": "2023-09-05T03:24:41.025Z"
   },
   {
    "duration": 20,
    "start_time": "2023-09-05T03:25:45.288Z"
   },
   {
    "duration": 147,
    "start_time": "2023-09-05T03:26:00.969Z"
   },
   {
    "duration": 4,
    "start_time": "2023-09-05T03:28:07.352Z"
   },
   {
    "duration": 277,
    "start_time": "2023-09-05T03:28:24.251Z"
   },
   {
    "duration": 10,
    "start_time": "2023-09-05T03:28:44.089Z"
   },
   {
    "duration": 5,
    "start_time": "2023-09-05T03:29:24.319Z"
   },
   {
    "duration": 12,
    "start_time": "2023-09-05T03:29:40.183Z"
   },
   {
    "duration": 48,
    "start_time": "2023-09-05T03:33:45.504Z"
   },
   {
    "duration": 10,
    "start_time": "2023-09-05T03:34:19.262Z"
   },
   {
    "duration": 7,
    "start_time": "2023-09-05T03:35:15.472Z"
   },
   {
    "duration": 10,
    "start_time": "2023-09-05T03:46:28.248Z"
   },
   {
    "duration": 16,
    "start_time": "2023-09-05T03:47:10.613Z"
   },
   {
    "duration": 25,
    "start_time": "2023-09-05T03:47:51.350Z"
   },
   {
    "duration": 11,
    "start_time": "2023-09-05T03:51:02.424Z"
   },
   {
    "duration": 12,
    "start_time": "2023-09-05T03:51:18.951Z"
   },
   {
    "duration": 17,
    "start_time": "2023-09-05T03:52:25.395Z"
   },
   {
    "duration": 18,
    "start_time": "2023-09-05T03:53:20.011Z"
   },
   {
    "duration": 17,
    "start_time": "2023-09-05T03:53:33.722Z"
   },
   {
    "duration": 22,
    "start_time": "2023-09-05T03:53:46.371Z"
   },
   {
    "duration": 22,
    "start_time": "2023-09-05T04:00:49.600Z"
   },
   {
    "duration": 5,
    "start_time": "2023-09-05T04:01:33.119Z"
   },
   {
    "duration": 52,
    "start_time": "2023-09-05T04:01:34.334Z"
   },
   {
    "duration": 12,
    "start_time": "2023-09-05T04:02:19.470Z"
   },
   {
    "duration": 181,
    "start_time": "2023-09-05T04:02:39.446Z"
   },
   {
    "duration": 9,
    "start_time": "2023-09-05T04:02:56.827Z"
   },
   {
    "duration": 90,
    "start_time": "2023-09-05T04:03:28.962Z"
   },
   {
    "duration": 1683,
    "start_time": "2023-09-05T04:03:45.855Z"
   },
   {
    "duration": 13,
    "start_time": "2023-09-05T04:05:57.754Z"
   },
   {
    "duration": 4,
    "start_time": "2023-09-05T04:06:43.761Z"
   },
   {
    "duration": 2,
    "start_time": "2023-09-05T04:07:21.858Z"
   },
   {
    "duration": 6,
    "start_time": "2023-09-05T04:07:54.138Z"
   },
   {
    "duration": 3,
    "start_time": "2023-09-05T04:11:39.281Z"
   },
   {
    "duration": 179,
    "start_time": "2023-09-05T04:11:49.426Z"
   },
   {
    "duration": 102279,
    "start_time": "2023-09-05T04:12:25.165Z"
   },
   {
    "duration": 17713,
    "start_time": "2023-09-05T04:14:07.446Z"
   },
   {
    "duration": 3103,
    "start_time": "2023-09-05T04:14:25.161Z"
   },
   {
    "duration": 15170,
    "start_time": "2023-09-05T04:15:13.630Z"
   },
   {
    "duration": 279,
    "start_time": "2023-09-05T04:19:05.794Z"
   },
   {
    "duration": 18,
    "start_time": "2023-09-05T04:19:48.288Z"
   },
   {
    "duration": 3765,
    "start_time": "2023-09-05T04:20:02.986Z"
   },
   {
    "duration": 245,
    "start_time": "2023-09-05T04:21:14.644Z"
   },
   {
    "duration": 249,
    "start_time": "2023-09-05T04:22:02.019Z"
   },
   {
    "duration": 302,
    "start_time": "2023-09-05T04:22:24.303Z"
   },
   {
    "duration": 44,
    "start_time": "2023-09-05T07:57:40.733Z"
   },
   {
    "duration": 1569,
    "start_time": "2023-09-05T07:58:02.637Z"
   },
   {
    "duration": 92,
    "start_time": "2023-09-05T07:58:04.208Z"
   },
   {
    "duration": 13,
    "start_time": "2023-09-05T07:58:04.301Z"
   },
   {
    "duration": 11,
    "start_time": "2023-09-05T07:58:04.316Z"
   },
   {
    "duration": 12,
    "start_time": "2023-09-05T07:58:04.328Z"
   },
   {
    "duration": 31,
    "start_time": "2023-09-05T07:58:04.341Z"
   },
   {
    "duration": 10,
    "start_time": "2023-09-05T07:58:04.373Z"
   },
   {
    "duration": 27,
    "start_time": "2023-09-05T07:58:04.385Z"
   },
   {
    "duration": 60,
    "start_time": "2023-09-05T07:58:04.414Z"
   },
   {
    "duration": 96,
    "start_time": "2023-09-05T07:58:04.476Z"
   },
   {
    "duration": 4,
    "start_time": "2023-09-05T07:58:04.573Z"
   },
   {
    "duration": 34,
    "start_time": "2023-09-05T07:58:04.579Z"
   },
   {
    "duration": 12,
    "start_time": "2023-09-05T07:58:04.614Z"
   },
   {
    "duration": 11,
    "start_time": "2023-09-05T07:58:04.628Z"
   },
   {
    "duration": 65,
    "start_time": "2023-09-05T07:58:04.640Z"
   },
   {
    "duration": 7,
    "start_time": "2023-09-05T07:58:04.707Z"
   },
   {
    "duration": 109,
    "start_time": "2023-09-05T07:58:04.716Z"
   },
   {
    "duration": 5,
    "start_time": "2023-09-05T07:58:04.827Z"
   },
   {
    "duration": 31,
    "start_time": "2023-09-05T07:58:04.833Z"
   },
   {
    "duration": 18,
    "start_time": "2023-09-05T07:58:04.866Z"
   },
   {
    "duration": 11,
    "start_time": "2023-09-05T07:58:04.885Z"
   },
   {
    "duration": 20,
    "start_time": "2023-09-05T07:58:04.897Z"
   },
   {
    "duration": 9,
    "start_time": "2023-09-05T07:58:04.918Z"
   },
   {
    "duration": 21,
    "start_time": "2023-09-05T07:58:04.928Z"
   },
   {
    "duration": 7,
    "start_time": "2023-09-05T07:58:04.951Z"
   },
   {
    "duration": 9,
    "start_time": "2023-09-05T07:58:04.959Z"
   },
   {
    "duration": 55,
    "start_time": "2023-09-05T07:58:04.969Z"
   },
   {
    "duration": 7,
    "start_time": "2023-09-05T07:58:05.027Z"
   },
   {
    "duration": 31,
    "start_time": "2023-09-05T07:58:05.036Z"
   },
   {
    "duration": 16,
    "start_time": "2023-09-05T07:58:05.068Z"
   },
   {
    "duration": 26,
    "start_time": "2023-09-05T07:58:05.085Z"
   },
   {
    "duration": 22,
    "start_time": "2023-09-05T07:58:05.112Z"
   },
   {
    "duration": 4,
    "start_time": "2023-09-05T07:58:05.135Z"
   },
   {
    "duration": 18,
    "start_time": "2023-09-05T07:58:05.140Z"
   },
   {
    "duration": 11,
    "start_time": "2023-09-05T07:58:05.160Z"
   },
   {
    "duration": 1495,
    "start_time": "2023-09-05T07:58:05.173Z"
   },
   {
    "duration": 11,
    "start_time": "2023-09-05T07:58:06.670Z"
   },
   {
    "duration": 40,
    "start_time": "2023-09-05T07:58:06.682Z"
   },
   {
    "duration": 22,
    "start_time": "2023-09-05T07:58:06.724Z"
   },
   {
    "duration": 13,
    "start_time": "2023-09-05T07:58:06.747Z"
   },
   {
    "duration": 14,
    "start_time": "2023-09-05T07:58:06.761Z"
   },
   {
    "duration": 109,
    "start_time": "2023-09-05T07:58:06.776Z"
   },
   {
    "duration": 89910,
    "start_time": "2023-09-05T07:58:06.886Z"
   },
   {
    "duration": 10642,
    "start_time": "2023-09-05T07:59:36.798Z"
   },
   {
    "duration": 2829,
    "start_time": "2023-09-05T07:59:47.442Z"
   },
   {
    "duration": 235,
    "start_time": "2023-09-05T07:59:50.273Z"
   },
   {
    "duration": 16,
    "start_time": "2023-09-05T07:59:50.510Z"
   },
   {
    "duration": 3306,
    "start_time": "2023-09-05T07:59:50.528Z"
   },
   {
    "duration": 3111,
    "start_time": "2023-09-05T08:01:24.743Z"
   },
   {
    "duration": 18,
    "start_time": "2023-09-05T08:01:38.123Z"
   },
   {
    "duration": 2869,
    "start_time": "2023-09-05T08:01:39.845Z"
   },
   {
    "duration": 86,
    "start_time": "2023-09-05T08:03:26.257Z"
   },
   {
    "duration": 2951,
    "start_time": "2023-09-05T08:03:31.537Z"
   },
   {
    "duration": 2692,
    "start_time": "2023-09-05T08:03:36.629Z"
   },
   {
    "duration": 5,
    "start_time": "2023-09-05T08:04:30.826Z"
   },
   {
    "duration": 2766,
    "start_time": "2023-09-05T08:04:37.897Z"
   },
   {
    "duration": 3392,
    "start_time": "2023-09-05T10:17:55.030Z"
   },
   {
    "duration": 172,
    "start_time": "2023-09-05T10:17:58.424Z"
   },
   {
    "duration": 14,
    "start_time": "2023-09-05T10:17:58.598Z"
   },
   {
    "duration": 101,
    "start_time": "2023-09-05T10:17:58.614Z"
   },
   {
    "duration": 12,
    "start_time": "2023-09-05T10:17:58.716Z"
   },
   {
    "duration": 33,
    "start_time": "2023-09-05T10:17:58.729Z"
   },
   {
    "duration": 26,
    "start_time": "2023-09-05T10:17:58.764Z"
   },
   {
    "duration": 12,
    "start_time": "2023-09-05T10:17:58.791Z"
   },
   {
    "duration": 22,
    "start_time": "2023-09-05T10:17:58.804Z"
   },
   {
    "duration": 56,
    "start_time": "2023-09-05T10:17:58.828Z"
   },
   {
    "duration": 4,
    "start_time": "2023-09-05T10:17:59.073Z"
   },
   {
    "duration": 10,
    "start_time": "2023-09-05T10:17:59.424Z"
   },
   {
    "duration": 4,
    "start_time": "2023-09-05T10:17:59.733Z"
   },
   {
    "duration": 12,
    "start_time": "2023-09-05T10:17:59.891Z"
   },
   {
    "duration": 98,
    "start_time": "2023-09-05T10:18:00.367Z"
   },
   {
    "duration": 9,
    "start_time": "2023-09-05T10:18:00.703Z"
   },
   {
    "duration": 65,
    "start_time": "2023-09-05T10:18:01.014Z"
   },
   {
    "duration": 6,
    "start_time": "2023-09-05T10:18:01.347Z"
   },
   {
    "duration": 10,
    "start_time": "2023-09-05T10:18:02.015Z"
   },
   {
    "duration": 15,
    "start_time": "2023-09-05T10:18:02.365Z"
   },
   {
    "duration": 12,
    "start_time": "2023-09-05T10:18:02.712Z"
   },
   {
    "duration": 12,
    "start_time": "2023-09-05T10:18:03.238Z"
   },
   {
    "duration": 10,
    "start_time": "2023-09-05T10:18:03.578Z"
   },
   {
    "duration": 35,
    "start_time": "2023-09-05T10:18:03.897Z"
   },
   {
    "duration": 9,
    "start_time": "2023-09-05T10:18:04.238Z"
   },
   {
    "duration": 11,
    "start_time": "2023-09-05T10:18:04.398Z"
   },
   {
    "duration": 91,
    "start_time": "2023-09-05T10:18:04.740Z"
   },
   {
    "duration": 10,
    "start_time": "2023-09-05T10:18:05.088Z"
   },
   {
    "duration": 16,
    "start_time": "2023-09-05T10:18:05.628Z"
   },
   {
    "duration": 16,
    "start_time": "2023-09-05T10:18:05.796Z"
   },
   {
    "duration": 19,
    "start_time": "2023-09-05T10:18:05.939Z"
   },
   {
    "duration": 21,
    "start_time": "2023-09-05T10:18:06.125Z"
   },
   {
    "duration": 6,
    "start_time": "2023-09-05T10:18:06.661Z"
   },
   {
    "duration": 9,
    "start_time": "2023-09-05T10:18:06.838Z"
   },
   {
    "duration": 9,
    "start_time": "2023-09-05T10:18:07.321Z"
   },
   {
    "duration": 15,
    "start_time": "2023-09-05T10:18:55.568Z"
   },
   {
    "duration": 17,
    "start_time": "2023-09-05T10:18:56.116Z"
   },
   {
    "duration": 21,
    "start_time": "2023-09-05T10:18:56.626Z"
   },
   {
    "duration": 21,
    "start_time": "2023-09-05T10:18:57.138Z"
   },
   {
    "duration": 24,
    "start_time": "2023-09-05T10:19:14.441Z"
   },
   {
    "duration": 5,
    "start_time": "2023-09-05T10:19:48.619Z"
   },
   {
    "duration": 11,
    "start_time": "2023-09-05T10:19:49.499Z"
   },
   {
    "duration": 11,
    "start_time": "2023-09-05T10:19:52.313Z"
   },
   {
    "duration": 32,
    "start_time": "2023-09-05T10:20:05.671Z"
   },
   {
    "duration": 1853,
    "start_time": "2023-09-05T10:21:36.924Z"
   },
   {
    "duration": 13,
    "start_time": "2023-09-05T10:21:43.467Z"
   },
   {
    "duration": 4,
    "start_time": "2023-09-05T10:22:08.159Z"
   },
   {
    "duration": 3,
    "start_time": "2023-09-05T10:22:08.762Z"
   },
   {
    "duration": 6,
    "start_time": "2023-09-05T10:22:09.748Z"
   },
   {
    "duration": 4,
    "start_time": "2023-09-05T10:22:30.380Z"
   },
   {
    "duration": 118,
    "start_time": "2023-09-05T10:22:33.065Z"
   },
   {
    "duration": 109293,
    "start_time": "2023-09-05T10:22:42.788Z"
   },
   {
    "duration": 12629,
    "start_time": "2023-09-05T10:24:32.083Z"
   },
   {
    "duration": 1776,
    "start_time": "2023-09-05T13:03:53.234Z"
   },
   {
    "duration": 97,
    "start_time": "2023-09-05T13:03:55.016Z"
   },
   {
    "duration": 14,
    "start_time": "2023-09-05T13:03:55.115Z"
   },
   {
    "duration": 25,
    "start_time": "2023-09-05T13:03:55.131Z"
   },
   {
    "duration": 45,
    "start_time": "2023-09-05T13:03:55.158Z"
   },
   {
    "duration": 44,
    "start_time": "2023-09-05T13:03:55.205Z"
   },
   {
    "duration": 54,
    "start_time": "2023-09-05T13:03:55.250Z"
   },
   {
    "duration": 59,
    "start_time": "2023-09-05T13:03:55.306Z"
   },
   {
    "duration": 92,
    "start_time": "2023-09-05T13:03:55.367Z"
   },
   {
    "duration": 142,
    "start_time": "2023-09-05T13:03:55.461Z"
   },
   {
    "duration": 4,
    "start_time": "2023-09-05T13:03:55.604Z"
   },
   {
    "duration": 30,
    "start_time": "2023-09-05T13:03:55.610Z"
   },
   {
    "duration": 19,
    "start_time": "2023-09-05T13:03:55.642Z"
   },
   {
    "duration": 25,
    "start_time": "2023-09-05T13:03:55.664Z"
   },
   {
    "duration": 111,
    "start_time": "2023-09-05T13:03:55.690Z"
   },
   {
    "duration": 8,
    "start_time": "2023-09-05T13:03:55.803Z"
   },
   {
    "duration": 99,
    "start_time": "2023-09-05T13:03:55.812Z"
   },
   {
    "duration": 7,
    "start_time": "2023-09-05T13:03:55.912Z"
   },
   {
    "duration": 36,
    "start_time": "2023-09-05T13:03:55.921Z"
   },
   {
    "duration": 19,
    "start_time": "2023-09-05T13:03:55.959Z"
   },
   {
    "duration": 13,
    "start_time": "2023-09-05T13:03:55.979Z"
   },
   {
    "duration": 32,
    "start_time": "2023-09-05T13:03:55.994Z"
   },
   {
    "duration": 12,
    "start_time": "2023-09-05T13:03:56.028Z"
   },
   {
    "duration": 32,
    "start_time": "2023-09-05T13:03:56.043Z"
   },
   {
    "duration": 11,
    "start_time": "2023-09-05T13:03:56.077Z"
   },
   {
    "duration": 19,
    "start_time": "2023-09-05T13:03:56.091Z"
   },
   {
    "duration": 61,
    "start_time": "2023-09-05T13:03:56.112Z"
   },
   {
    "duration": 10,
    "start_time": "2023-09-05T13:03:56.175Z"
   },
   {
    "duration": 19,
    "start_time": "2023-09-05T13:03:56.187Z"
   },
   {
    "duration": 16,
    "start_time": "2023-09-05T13:03:56.208Z"
   },
   {
    "duration": 43,
    "start_time": "2023-09-05T13:03:56.226Z"
   },
   {
    "duration": 30,
    "start_time": "2023-09-05T13:03:56.270Z"
   },
   {
    "duration": 23,
    "start_time": "2023-09-05T13:03:56.301Z"
   },
   {
    "duration": 4,
    "start_time": "2023-09-05T13:03:56.325Z"
   },
   {
    "duration": 55,
    "start_time": "2023-09-05T13:03:56.331Z"
   },
   {
    "duration": 15,
    "start_time": "2023-09-05T13:03:56.387Z"
   },
   {
    "duration": 24,
    "start_time": "2023-09-05T13:03:56.404Z"
   },
   {
    "duration": 1707,
    "start_time": "2023-09-05T13:03:56.430Z"
   },
   {
    "duration": 11,
    "start_time": "2023-09-05T13:03:58.140Z"
   },
   {
    "duration": 8,
    "start_time": "2023-09-05T13:03:58.153Z"
   },
   {
    "duration": 8,
    "start_time": "2023-09-05T13:03:58.165Z"
   },
   {
    "duration": 44,
    "start_time": "2023-09-05T13:03:58.175Z"
   },
   {
    "duration": 4,
    "start_time": "2023-09-05T13:03:58.221Z"
   },
   {
    "duration": 239,
    "start_time": "2023-09-05T13:03:58.227Z"
   },
   {
    "duration": 111311,
    "start_time": "2023-09-05T13:03:58.468Z"
   },
   {
    "duration": 11534,
    "start_time": "2023-09-05T13:05:49.781Z"
   },
   {
    "duration": 3950,
    "start_time": "2023-09-05T13:06:01.317Z"
   },
   {
    "duration": 298,
    "start_time": "2023-09-05T13:06:05.269Z"
   },
   {
    "duration": 5,
    "start_time": "2023-09-05T13:06:05.569Z"
   },
   {
    "duration": 2774,
    "start_time": "2023-09-05T13:06:05.576Z"
   },
   {
    "duration": 9223,
    "start_time": "2023-09-05T13:06:44.442Z"
   },
   {
    "duration": 6877,
    "start_time": "2023-09-05T13:07:07.171Z"
   },
   {
    "duration": 6301,
    "start_time": "2023-09-05T13:07:32.410Z"
   },
   {
    "duration": 183559,
    "start_time": "2023-09-05T13:08:21.932Z"
   },
   {
    "duration": 5,
    "start_time": "2023-09-05T13:11:45.013Z"
   },
   {
    "duration": 1772,
    "start_time": "2023-09-05T13:12:24.892Z"
   },
   {
    "duration": 290,
    "start_time": "2023-09-05T13:12:36.405Z"
   },
   {
    "duration": 6,
    "start_time": "2023-09-05T13:12:39.665Z"
   },
   {
    "duration": 1251,
    "start_time": "2023-09-05T13:12:44.767Z"
   },
   {
    "duration": 192043,
    "start_time": "2023-09-05T13:13:29.137Z"
   },
   {
    "duration": 4,
    "start_time": "2023-09-05T13:16:46.030Z"
   },
   {
    "duration": 1442,
    "start_time": "2023-09-05T13:17:20.621Z"
   },
   {
    "duration": 1380,
    "start_time": "2023-09-05T13:17:29.895Z"
   },
   {
    "duration": 1525,
    "start_time": "2023-09-05T13:17:38.088Z"
   },
   {
    "duration": 5,
    "start_time": "2023-09-05T13:18:02.576Z"
   },
   {
    "duration": 1372,
    "start_time": "2023-09-05T13:18:03.185Z"
   },
   {
    "duration": 3,
    "start_time": "2023-09-05T13:48:26.006Z"
   },
   {
    "duration": 8,
    "start_time": "2023-09-05T13:49:51.338Z"
   },
   {
    "duration": 6,
    "start_time": "2023-09-05T13:51:27.202Z"
   },
   {
    "duration": 4,
    "start_time": "2023-09-05T13:52:49.671Z"
   },
   {
    "duration": 12,
    "start_time": "2023-09-05T13:53:40.671Z"
   },
   {
    "duration": 18,
    "start_time": "2023-09-05T13:55:10.341Z"
   },
   {
    "duration": 141,
    "start_time": "2023-09-05T13:57:53.633Z"
   },
   {
    "duration": 15,
    "start_time": "2023-09-05T13:58:02.822Z"
   },
   {
    "duration": 10,
    "start_time": "2023-09-05T14:05:40.649Z"
   },
   {
    "duration": 4,
    "start_time": "2023-09-05T14:06:53.041Z"
   },
   {
    "duration": 29,
    "start_time": "2023-09-05T14:07:11.799Z"
   },
   {
    "duration": 111,
    "start_time": "2023-09-05T14:09:06.908Z"
   },
   {
    "duration": 1488,
    "start_time": "2023-09-05T14:09:52.491Z"
   },
   {
    "duration": 51,
    "start_time": "2023-09-05T14:09:53.981Z"
   },
   {
    "duration": 14,
    "start_time": "2023-09-05T14:09:54.034Z"
   },
   {
    "duration": 19,
    "start_time": "2023-09-05T14:09:54.050Z"
   },
   {
    "duration": 12,
    "start_time": "2023-09-05T14:09:54.071Z"
   },
   {
    "duration": 28,
    "start_time": "2023-09-05T14:09:54.085Z"
   },
   {
    "duration": 19,
    "start_time": "2023-09-05T14:09:54.115Z"
   },
   {
    "duration": 31,
    "start_time": "2023-09-05T14:09:54.147Z"
   },
   {
    "duration": 18,
    "start_time": "2023-09-05T14:09:54.180Z"
   },
   {
    "duration": 20,
    "start_time": "2023-09-05T14:09:54.199Z"
   },
   {
    "duration": 3,
    "start_time": "2023-09-05T14:09:54.221Z"
   },
   {
    "duration": 24,
    "start_time": "2023-09-05T14:09:54.226Z"
   },
   {
    "duration": 16,
    "start_time": "2023-09-05T14:09:54.252Z"
   },
   {
    "duration": 18,
    "start_time": "2023-09-05T14:09:54.271Z"
   },
   {
    "duration": 44,
    "start_time": "2023-09-05T14:09:54.290Z"
   },
   {
    "duration": 9,
    "start_time": "2023-09-05T14:09:54.335Z"
   },
   {
    "duration": 49,
    "start_time": "2023-09-05T14:09:54.345Z"
   },
   {
    "duration": 6,
    "start_time": "2023-09-05T14:09:54.396Z"
   },
   {
    "duration": 19,
    "start_time": "2023-09-05T14:09:54.403Z"
   },
   {
    "duration": 25,
    "start_time": "2023-09-05T14:09:54.423Z"
   },
   {
    "duration": 14,
    "start_time": "2023-09-05T14:09:54.450Z"
   },
   {
    "duration": 10,
    "start_time": "2023-09-05T14:09:54.466Z"
   },
   {
    "duration": 26,
    "start_time": "2023-09-05T14:09:54.478Z"
   },
   {
    "duration": 32,
    "start_time": "2023-09-05T14:09:54.507Z"
   },
   {
    "duration": 12,
    "start_time": "2023-09-05T14:09:54.540Z"
   },
   {
    "duration": 29,
    "start_time": "2023-09-05T14:09:54.553Z"
   },
   {
    "duration": 38,
    "start_time": "2023-09-05T14:09:54.584Z"
   },
   {
    "duration": 10,
    "start_time": "2023-09-05T14:09:54.624Z"
   },
   {
    "duration": 29,
    "start_time": "2023-09-05T14:09:54.635Z"
   },
   {
    "duration": 31,
    "start_time": "2023-09-05T14:09:54.666Z"
   },
   {
    "duration": 22,
    "start_time": "2023-09-05T14:09:54.699Z"
   },
   {
    "duration": 35,
    "start_time": "2023-09-05T14:09:54.722Z"
   },
   {
    "duration": 37,
    "start_time": "2023-09-05T14:09:54.759Z"
   },
   {
    "duration": 28,
    "start_time": "2023-09-05T14:09:54.798Z"
   },
   {
    "duration": 42,
    "start_time": "2023-09-05T14:09:54.827Z"
   },
   {
    "duration": 29,
    "start_time": "2023-09-05T14:09:54.871Z"
   },
   {
    "duration": 28,
    "start_time": "2023-09-05T14:09:54.902Z"
   },
   {
    "duration": 1773,
    "start_time": "2023-09-05T14:09:54.932Z"
   },
   {
    "duration": 13,
    "start_time": "2023-09-05T14:09:56.707Z"
   },
   {
    "duration": 19,
    "start_time": "2023-09-05T14:09:56.722Z"
   },
   {
    "duration": 25,
    "start_time": "2023-09-05T14:09:56.745Z"
   },
   {
    "duration": 22,
    "start_time": "2023-09-05T14:09:56.771Z"
   },
   {
    "duration": 26,
    "start_time": "2023-09-05T14:09:56.795Z"
   },
   {
    "duration": 35,
    "start_time": "2023-09-05T14:09:56.823Z"
   },
   {
    "duration": 24,
    "start_time": "2023-09-05T14:09:56.860Z"
   },
   {
    "duration": 120,
    "start_time": "2023-09-05T14:09:56.886Z"
   },
   {
    "duration": 109996,
    "start_time": "2023-09-05T14:09:57.008Z"
   },
   {
    "duration": 187902,
    "start_time": "2023-09-05T14:11:47.005Z"
   },
   {
    "duration": 4,
    "start_time": "2023-09-05T14:14:54.909Z"
   },
   {
    "duration": 1820,
    "start_time": "2023-09-05T14:14:54.915Z"
   },
   {
    "duration": 278,
    "start_time": "2023-09-05T14:14:56.737Z"
   },
   {
    "duration": 5,
    "start_time": "2023-09-05T14:14:57.017Z"
   },
   {
    "duration": 1552,
    "start_time": "2023-09-05T14:14:57.024Z"
   },
   {
    "duration": 140,
    "start_time": "2023-09-05T14:30:20.054Z"
   },
   {
    "duration": 119,
    "start_time": "2023-09-05T14:30:38.690Z"
   },
   {
    "duration": 158,
    "start_time": "2023-09-05T14:30:53.383Z"
   },
   {
    "duration": 217242,
    "start_time": "2023-09-05T14:31:14.594Z"
   },
   {
    "duration": 5,
    "start_time": "2023-09-05T14:38:20.782Z"
   },
   {
    "duration": 1789,
    "start_time": "2023-09-05T14:38:30.826Z"
   }
  ],
  "kernelspec": {
   "display_name": "Python 3 (ipykernel)",
   "language": "python",
   "name": "python3"
  },
  "language_info": {
   "codemirror_mode": {
    "name": "ipython",
    "version": 3
   },
   "file_extension": ".py",
   "mimetype": "text/x-python",
   "name": "python",
   "nbconvert_exporter": "python",
   "pygments_lexer": "ipython3",
   "version": "3.9.13"
  },
  "toc": {
   "base_numbering": 1,
   "nav_menu": {},
   "number_sections": true,
   "sideBar": true,
   "skip_h1_title": true,
   "title_cell": "Table of Contents",
   "title_sidebar": "Contents",
   "toc_cell": false,
   "toc_position": {},
   "toc_section_display": true,
   "toc_window_display": false
  }
 },
 "nbformat": 4,
 "nbformat_minor": 2
}
